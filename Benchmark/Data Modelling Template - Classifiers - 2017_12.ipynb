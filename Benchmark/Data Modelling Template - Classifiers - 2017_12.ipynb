{
 "cells": [
  {
   "cell_type": "markdown",
   "metadata": {},
   "source": [
    "Source: https://machinelearningmastery.com/compare-machine-learning-algorithms-python-scikit-learn/"
   ]
  },
  {
   "cell_type": "markdown",
   "metadata": {},
   "source": [
    "# Load Libraries and Dataset"
   ]
  },
  {
   "cell_type": "code",
   "execution_count": 1,
   "metadata": {
    "ExecuteTime": {
     "end_time": "2017-12-11T21:26:28.587582Z",
     "start_time": "2017-12-11T21:26:27.099497Z"
    },
    "collapsed": true
   },
   "outputs": [],
   "source": [
    "# Compare Algorithms\n",
    "import pandas\n",
    "import matplotlib.pyplot as plt\n",
    "from sklearn import model_selection\n",
    "from sklearn.linear_model import LogisticRegression\n",
    "from sklearn.tree import DecisionTreeClassifier\n",
    "from sklearn.neighbors import KNeighborsClassifier\n",
    "from sklearn.discriminant_analysis import LinearDiscriminantAnalysis\n",
    "from sklearn.naive_bayes import GaussianNB\n",
    "from sklearn.svm import SVC\n"
   ]
  },
  {
   "cell_type": "code",
   "execution_count": 2,
   "metadata": {
    "ExecuteTime": {
     "end_time": "2017-12-11T21:26:31.274736Z",
     "start_time": "2017-12-11T21:26:28.590582Z"
    },
    "collapsed": true
   },
   "outputs": [],
   "source": [
    "# load dataset\n",
    "url = \"https://archive.ics.uci.edu/ml/machine-learning-databases/pima-indians-diabetes/pima-indians-diabetes.data\"\n",
    "names = ['preg', 'plas', 'pres', 'skin', 'test', 'mass', 'pedi', 'age', 'class']\n",
    "dataframe = pandas.read_csv(url, names=names)\n",
    "array = dataframe.values\n",
    "X = array[:,0:8]\n",
    "y = array[:,8]\n"
   ]
  },
  {
   "cell_type": "markdown",
   "metadata": {},
   "source": [
    "# Comparative Algorithms"
   ]
  },
  {
   "cell_type": "code",
   "execution_count": 3,
   "metadata": {
    "ExecuteTime": {
     "end_time": "2017-12-11T21:26:32.592811Z",
     "start_time": "2017-12-11T21:26:31.277736Z"
    }
   },
   "outputs": [
    {
     "name": "stdout",
     "output_type": "stream",
     "text": [
      "LR: 0.769515 (0.048411)\n",
      "LDA: 0.773462 (0.051592)\n",
      "KNN: 0.726555 (0.061821)\n",
      "CART: 0.692584 (0.064104)\n",
      "NB: 0.755178 (0.042766)\n",
      "SVM: 0.651025 (0.072141)\n"
     ]
    },
    {
     "data": {
      "image/png": "[encoded data removed]",
      "text/plain": [
       "<matplotlib.figure.Figure at 0xbde8ac8>"
      ]
     },
     "metadata": {},
     "output_type": "display_data"
    }
   ],
   "source": [
    "# prepare configuration for cross validation test harness\n",
    "seed = 7\n",
    "# prepare models\n",
    "models = []\n",
    "models.append(('LR', LogisticRegression()))\n",
    "models.append(('LDA', LinearDiscriminantAnalysis()))\n",
    "models.append(('KNN', KNeighborsClassifier()))\n",
    "models.append(('CART', DecisionTreeClassifier()))\n",
    "models.append(('NB', GaussianNB()))\n",
    "models.append(('SVM', SVC()))\n",
    "# evaluate each model in turn\n",
    "results = []\n",
    "names = []\n",
    "scoring = 'accuracy'\n",
    "for name, model in models:\n",
    "\tkfold = model_selection.KFold(n_splits=10, random_state=seed)\n",
    "\tcv_results = model_selection.cross_val_score(model, X, y, cv=kfold, scoring=scoring)\n",
    "\tresults.append(cv_results)\n",
    "\tnames.append(name)\n",
    "\tmsg = \"%s: %f (%f)\" % (name, cv_results.mean(), cv_results.std())\n",
    "\tprint(msg)\n",
    "# boxplot algorithm comparison\n",
    "fig = plt.figure()\n",
    "fig.suptitle('Algorithm Comparison')\n",
    "ax = fig.add_subplot(111)\n",
    "plt.boxplot(results)\n",
    "ax.set_xticklabels(names)\n",
    "plt.show()"
   ]
  },
  {
   "cell_type": "markdown",
   "metadata": {},
   "source": [
    "# Multi Training Classifiers"
   ]
  },
  {
   "cell_type": "code",
   "execution_count": 3,
   "metadata": {
    "ExecuteTime": {
     "end_time": "2017-12-11T21:26:32.646814Z",
     "start_time": "2017-12-11T21:26:32.596811Z"
    }
   },
   "outputs": [
    {
     "name": "stdout",
     "output_type": "stream",
     "text": [
      "Automatically created module for IPython interactive environment\n"
     ]
    },
    {
     "name": "stderr",
     "output_type": "stream",
     "text": [
      "/home/geanderson/anaconda3/lib/python3.6/site-packages/sklearn/cross_validation.py:41: DeprecationWarning: This module was deprecated in version 0.18 in favor of the model_selection module into which all the refactored classes and functions are moved. Also note that the interface of the new CV iterators are different from that of this module. This module will be removed in 0.20.\n",
      "  \"This module will be removed in 0.20.\", DeprecationWarning)\n"
     ]
    }
   ],
   "source": [
    "#!/usr/bin/python\n",
    "# -*- coding: utf-8 -*-\n",
    "\n",
    "print(__doc__)\n",
    "\n",
    "from sklearn.cross_validation import train_test_split\n",
    "from sklearn.preprocessing import StandardScaler\n",
    "from sklearn.neighbors import NearestNeighbors\n",
    "from sklearn.svm import SVC\n",
    "from sklearn.tree import DecisionTreeClassifier\n",
    "from sklearn.ensemble import RandomForestClassifier, AdaBoostClassifier\n",
    "from sklearn.naive_bayes import GaussianNB\n",
    "from sklearn.metrics import confusion_matrix\n"
   ]
  },
  {
   "cell_type": "code",
   "execution_count": 4,
   "metadata": {
    "ExecuteTime": {
     "end_time": "2017-12-11T22:02:15.662388Z",
     "start_time": "2017-12-11T22:02:15.652387Z"
    },
    "collapsed": true
   },
   "outputs": [],
   "source": [
    "names = [\"Linear SVM\", \"RBF SVM\", \"Decision Tree\",\n",
    "         \"Random Forest\", \"AdaBoost\", \"GaussianNB\"]"
   ]
  },
  {
   "cell_type": "code",
   "execution_count": 5,
   "metadata": {
    "ExecuteTime": {
     "end_time": "2017-12-11T22:02:17.838512Z",
     "start_time": "2017-12-11T22:02:17.828512Z"
    },
    "collapsed": true
   },
   "outputs": [],
   "source": [
    "classifiers = [\n",
    "    SVC(kernel=\"linear\", C=0.025),\n",
    "    SVC(gamma=2, C=1),\n",
    "    DecisionTreeClassifier(max_depth=5),\n",
    "    RandomForestClassifier(max_depth=5, n_estimators=10, max_features=1),\n",
    "    AdaBoostClassifier(),\n",
    "    GaussianNB()]"
   ]
  },
  {
   "cell_type": "code",
   "execution_count": 7,
   "metadata": {
    "ExecuteTime": {
     "end_time": "2017-12-11T22:16:07.927991Z",
     "start_time": "2017-12-11T22:16:07.774982Z"
    },
    "collapsed": true,
    "scrolled": true
   },
   "outputs": [],
   "source": [
    "X_train, X_test, y_train, y_test = train_test_split(X, y, test_size=.4)"
   ]
  },
  {
   "cell_type": "markdown",
   "metadata": {},
   "source": [
    "## Class of Multi Training Classifiers"
   ]
  },
  {
   "cell_type": "code",
   "execution_count": 8,
   "metadata": {
    "ExecuteTime": {
     "end_time": "2017-12-11T22:18:55.125554Z",
     "start_time": "2017-12-11T22:18:54.948544Z"
    },
    "collapsed": true
   },
   "outputs": [],
   "source": [
    "class Classifiers():\n",
    "    \n",
    "    def __init__(self):\n",
    "        pass\n",
    "    \n",
    "    def training(self, X_train, y_train):\n",
    "        \"\"\"fitting the traing set in the models\"\"\"\n",
    "        for name, clf in zip(names, classifiers):\n",
    "            fit = clf.fit(X_train, y_train)\n",
    "            yield fit\n",
    "    \n",
    "    def score (self, X_test, y_test):\n",
    "        \"\"\"get the names and scores of the models\"\"\"\n",
    "        for name, results in zip(names, classifiers):\n",
    "            scored = results.score(X_test, y_test)\n",
    "            yield name, scored\n",
    "            \n",
    "    def score_sorted(self, X_test, y_test):\n",
    "        \"\"\"\"return the score of each models\"\"\"\n",
    "        for results in classifiers:\n",
    "            score = results.score(X_test, y_test)\n",
    "            yield score\n",
    "    \n",
    "    def models_sorted(self, names, beta):\n",
    "        \"\"\"return the models with name in sorted position by accuracy\"\"\"\n",
    "        modelos = [val for pair in zip(names, sorted(beta, reverse=True)) for val in pair]\n",
    "        it = iter(modelos)\n",
    "        for x in it:\n",
    "            print (\"Modelo {} tem score igual a {:.3f}\".format(x, next(it)))\n",
    "            \n",
    "    def predict(self, names, classifiers, X_train, y_train, X_test):\n",
    "        \"\"\"return the predict of the all models trained\"\"\"\n",
    "        for name, prediction in zip(names, classifiers):\n",
    "            y_pred = prediction.fit(X_train, y_train).predict(X_test)\n",
    "            yield name, y_pred\n",
    "    \n",
    "    def confusion(self, y_test):\n",
    "        \"\"\"\"return the confusion matrix for models\"\"\"\n",
    "        for conf in a:\n",
    "            cnf_matrix = confusion_matrix(y_test, conf)\n",
    "            yield cnf_matrix\n",
    "            \n",
    "    def scores_sorted_list():\n",
    "        \"\"\" get the scores of the models sorted\"\"\"\n",
    "        beta = classificadores.score_sorted(X_test, y_test)\n",
    "        sorted_alarm_list = sorted(list(beta), reverse=True)\n",
    "        for alarm in sorted_alarm_list:\n",
    "            print (alarm)\n",
    "        \n",
    "    \n",
    "    \n",
    "    \n",
    "            "
   ]
  },
  {
   "cell_type": "markdown",
   "metadata": {},
   "source": [
    "## Call the Class for Classifiers"
   ]
  },
  {
   "cell_type": "code",
   "execution_count": 9,
   "metadata": {
    "ExecuteTime": {
     "end_time": "2017-12-11T22:18:57.231674Z",
     "start_time": "2017-12-11T22:18:57.225674Z"
    },
    "collapsed": true,
    "scrolled": true
   },
   "outputs": [],
   "source": [
    "classificadores = Classifiers()"
   ]
  },
  {
   "cell_type": "markdown",
   "metadata": {},
   "source": [
    "## Training the Models"
   ]
  },
  {
   "cell_type": "code",
   "execution_count": 22,
   "metadata": {
    "ExecuteTime": {
     "end_time": "2017-12-11T22:18:59.603810Z",
     "start_time": "2017-12-11T22:18:59.281791Z"
    },
    "scrolled": true
   },
   "outputs": [
    {
     "name": "stdout",
     "output_type": "stream",
     "text": [
      "[SVC(C=0.025, cache_size=200, class_weight=None, coef0=0.0,\n",
      "  decision_function_shape='ovr', degree=3, gamma='auto', kernel='linear',\n",
      "  max_iter=-1, probability=False, random_state=None, shrinking=True,\n",
      "  tol=0.001, verbose=False), SVC(C=1, cache_size=200, class_weight=None, coef0=0.0,\n",
      "  decision_function_shape='ovr', degree=3, gamma=2, kernel='rbf',\n",
      "  max_iter=-1, probability=False, random_state=None, shrinking=True,\n",
      "  tol=0.001, verbose=False), DecisionTreeClassifier(class_weight=None, criterion='gini', max_depth=5,\n",
      "            max_features=None, max_leaf_nodes=None,\n",
      "            min_impurity_decrease=0.0, min_impurity_split=None,\n",
      "            min_samples_leaf=1, min_samples_split=2,\n",
      "            min_weight_fraction_leaf=0.0, presort=False, random_state=None,\n",
      "            splitter='best'), RandomForestClassifier(bootstrap=True, class_weight=None, criterion='gini',\n",
      "            max_depth=5, max_features=1, max_leaf_nodes=None,\n",
      "            min_impurity_decrease=0.0, min_impurity_split=None,\n",
      "            min_samples_leaf=1, min_samples_split=2,\n",
      "            min_weight_fraction_leaf=0.0, n_estimators=10, n_jobs=1,\n",
      "            oob_score=False, random_state=None, verbose=0,\n",
      "            warm_start=False), AdaBoostClassifier(algorithm='SAMME.R', base_estimator=None,\n",
      "          learning_rate=1.0, n_estimators=50, random_state=None), GaussianNB(priors=None)]\n"
     ]
    }
   ],
   "source": [
    "# training the models\n",
    "training = classificadores.training(X_train, y_train)\n",
    "print(list(training))"
   ]
  },
  {
   "cell_type": "markdown",
   "metadata": {},
   "source": [
    "## Scores of the Models"
   ]
  },
  {
   "cell_type": "code",
   "execution_count": 23,
   "metadata": {
    "ExecuteTime": {
     "end_time": "2017-12-11T22:19:01.580923Z",
     "start_time": "2017-12-11T22:19:01.536920Z"
    }
   },
   "outputs": [
    {
     "name": "stdout",
     "output_type": "stream",
     "text": [
      "('Linear SVM', 0.77922077922077926)\n",
      "('RBF SVM', 0.69480519480519476)\n",
      "('Decision Tree', 0.75)\n",
      "('Random Forest', 0.72077922077922074)\n",
      "('AdaBoost', 0.73376623376623373)\n",
      "('GaussianNB', 0.74350649350649356)\n"
     ]
    }
   ],
   "source": [
    "# get the scores of the models\n",
    "alfa = list(classificadores.score(X_test, y_test))\n",
    "for elem in alfa:\n",
    "    print(elem)"
   ]
  },
  {
   "cell_type": "code",
   "execution_count": 39,
   "metadata": {},
   "outputs": [
    {
     "name": "stdout",
     "output_type": "stream",
     "text": [
      "0.779220779221\n",
      "0.75\n",
      "0.743506493506\n",
      "0.733766233766\n",
      "0.720779220779\n",
      "0.694805194805\n"
     ]
    }
   ],
   "source": [
    "# get the scores of the models sorted\n",
    "beta = classificadores.score_sorted(X_test, y_test)\n",
    "sorted_list = sorted(list(beta), reverse=True)\n",
    "for i in sorted_list:\n",
    "    print (i)"
   ]
  },
  {
   "cell_type": "code",
   "execution_count": 36,
   "metadata": {},
   "outputs": [
    {
     "data": {
      "text/plain": [
       "0.77922077922077926"
      ]
     },
     "execution_count": 36,
     "metadata": {},
     "output_type": "execute_result"
    }
   ],
   "source": [
    "sorted_alarm_list[0]"
   ]
  },
  {
   "cell_type": "markdown",
   "metadata": {},
   "source": [
    "## Prediction of all Models"
   ]
  },
  {
   "cell_type": "code",
   "execution_count": 72,
   "metadata": {
    "ExecuteTime": {
     "end_time": "2017-12-11T22:19:05.897170Z",
     "start_time": "2017-12-11T22:19:05.559151Z"
    },
    "collapsed": true,
    "scrolled": true
   },
   "outputs": [],
   "source": [
    "# get the array of prediction of all models\n",
    "h = list(classificadores.predict(names, classifiers, X_train, y_train, X_test))\n"
   ]
  },
  {
   "cell_type": "code",
   "execution_count": 76,
   "metadata": {
    "ExecuteTime": {
     "end_time": "2017-12-11T22:23:18.353610Z",
     "start_time": "2017-12-11T22:23:18.232603Z"
    }
   },
   "outputs": [
    {
     "name": "stdout",
     "output_type": "stream",
     "text": [
      "[ 1.  1.  0.  0.  0.  1.  1.  0.  0.  1.  0.  0.  1.  0.  0.  1.  1.  1.\n",
      "  0.  1.  0.  0.  0.  0.  1.  0.  0.  0.  1.  1.  0.  0.  0.  0.  0.  0.\n",
      "  0.  0.  0.  0.  0.  0.  0.  1.  0.  1.  0.  0.  0.  0.  0.  0.  0.  0.\n",
      "  0.  0.  0.  0.  1.  1.  0.  0.  0.  0.  0.  0.  0.  0.  1.  0.  0.  0.\n",
      "  0.  0.  0.  1.  0.  0.  0.  0.  0.  0.  0.  0.  0.  0.  0.  0.  0.  1.\n",
      "  1.  0.  1.  1.  0.  0.  0.  1.  1.  0.  0.  1.  0.  0.  0.  1.  1.  0.\n",
      "  0.  1.  1.  0.  1.  1.  0.  1.  0.  1.  0.  1.  0.  0.  1.  0.  0.  0.\n",
      "  0.  0.  0.  0.  1.  0.  1.  0.  0.  1.  1.  0.  0.  0.  0.  0.  0.  0.\n",
      "  1.  0.  1.  0.  0.  0.  0.  0.  0.  0.  0.  0.  0.  0.  0.  0.  1.  0.\n",
      "  0.  0.  0.  1.  0.  0.  0.  1.  1.  0.  0.  0.  0.  1.  0.  0.  0.  0.\n",
      "  0.  1.  0.  0.  1.  0.  0.  0.  0.  1.  0.  0.  1.  1.  0.  1.  1.  0.\n",
      "  1.  0.  1.  0.  1.  0.  0.  1.  1.  0.  1.  0.  1.  1.  0.  1.  0.  0.\n",
      "  1.  0.  0.  0.  0.  0.  0.  1.  1.  0.  0.  1.  0.  1.  0.  0.  0.  0.\n",
      "  1.  1.  0.  1.  0.  0.  1.  0.  0.  0.  0.  1.  0.  1.  0.  0.  0.  0.\n",
      "  0.  1.  0.  0.  1.  1.  0.  1.  0.  1.  1.  1.  0.  0.  0.  0.  0.  1.\n",
      "  0.  0.  0.  0.  0.  1.  0.  0.  0.  0.  0.  1.  0.  0.  1.  0.  0.  0.\n",
      "  0.  0.  0.  0.  0.  0.  1.  0.  0.  1.  0.  0.  0.  0.  0.  0.  0.  0.\n",
      "  0.  0.]\n",
      "[ 0.  0.  0.  0.  0.  0.  0.  0.  0.  0.  0.  0.  0.  0.  0.  0.  0.  0.\n",
      "  0.  0.  0.  0.  0.  0.  0.  0.  0.  0.  0.  0.  0.  0.  0.  0.  0.  0.\n",
      "  0.  0.  0.  0.  0.  0.  0.  0.  0.  0.  0.  0.  0.  0.  0.  0.  0.  0.\n",
      "  0.  0.  0.  0.  0.  0.  0.  0.  0.  0.  0.  0.  0.  0.  0.  0.  0.  0.\n",
      "  0.  0.  0.  0.  0.  0.  0.  0.  0.  0.  0.  0.  0.  0.  0.  0.  0.  0.\n",
      "  0.  0.  0.  0.  0.  0.  0.  0.  0.  0.  0.  0.  0.  0.  0.  0.  0.  0.\n",
      "  0.  0.  0.  0.  0.  0.  0.  0.  0.  0.  0.  0.  0.  0.  0.  0.  0.  0.\n",
      "  0.  0.  0.  0.  0.  0.  0.  0.  0.  0.  0.  0.  0.  0.  0.  0.  0.  0.\n",
      "  0.  0.  0.  0.  0.  0.  0.  0.  0.  0.  0.  0.  0.  0.  0.  0.  0.  0.\n",
      "  0.  0.  0.  0.  0.  0.  0.  0.  0.  0.  0.  0.  0.  0.  0.  0.  0.  0.\n",
      "  0.  0.  0.  0.  0.  0.  0.  0.  0.  0.  0.  0.  0.  0.  0.  0.  0.  0.\n",
      "  0.  0.  0.  0.  0.  0.  0.  0.  0.  0.  0.  0.  0.  0.  0.  0.  0.  0.\n",
      "  0.  0.  0.  0.  0.  0.  0.  0.  0.  0.  0.  0.  0.  0.  0.  0.  0.  0.\n",
      "  0.  0.  0.  0.  0.  0.  0.  0.  0.  0.  0.  0.  0.  0.  0.  0.  0.  0.\n",
      "  0.  0.  0.  0.  0.  0.  0.  0.  0.  0.  0.  0.  0.  0.  0.  0.  0.  0.\n",
      "  0.  0.  0.  0.  0.  0.  0.  0.  0.  0.  0.  0.  0.  0.  0.  0.  0.  0.\n",
      "  0.  0.  0.  0.  0.  0.  0.  0.  0.  0.  0.  0.  0.  0.  0.  0.  0.  0.\n",
      "  0.  0.]\n",
      "[ 0.  1.  0.  1.  1.  1.  1.  0.  0.  1.  0.  0.  0.  0.  0.  1.  1.  1.\n",
      "  0.  1.  0.  0.  0.  0.  0.  0.  0.  1.  1.  1.  0.  0.  0.  0.  0.  1.\n",
      "  1.  0.  1.  0.  0.  0.  1.  1.  0.  1.  0.  0.  0.  0.  0.  0.  0.  0.\n",
      "  0.  0.  0.  0.  1.  1.  0.  0.  0.  0.  1.  0.  1.  0.  0.  1.  0.  0.\n",
      "  0.  0.  0.  1.  0.  0.  0.  0.  0.  0.  0.  0.  0.  0.  0.  1.  0.  1.\n",
      "  1.  0.  1.  1.  0.  0.  0.  1.  0.  0.  0.  1.  0.  0.  0.  0.  1.  1.\n",
      "  0.  1.  0.  0.  0.  1.  0.  1.  1.  1.  1.  1.  0.  0.  0.  0.  0.  0.\n",
      "  0.  0.  0.  0.  1.  0.  0.  0.  0.  1.  0.  0.  0.  0.  0.  0.  0.  0.\n",
      "  1.  0.  0.  0.  0.  0.  0.  0.  0.  0.  0.  0.  1.  0.  1.  0.  0.  0.\n",
      "  0.  0.  0.  1.  0.  0.  0.  0.  1.  0.  0.  0.  0.  0.  0.  0.  0.  0.\n",
      "  0.  1.  0.  0.  0.  0.  0.  0.  0.  1.  1.  1.  1.  1.  0.  1.  0.  1.\n",
      "  1.  0.  1.  0.  1.  1.  0.  1.  1.  1.  1.  0.  0.  1.  0.  0.  0.  0.\n",
      "  0.  0.  0.  0.  0.  0.  0.  1.  0.  0.  1.  1.  0.  1.  1.  0.  0.  0.\n",
      "  1.  1.  0.  0.  0.  1.  0.  0.  0.  0.  0.  1.  0.  1.  0.  0.  0.  1.\n",
      "  0.  0.  0.  0.  0.  0.  1.  0.  0.  1.  1.  1.  0.  0.  1.  0.  0.  1.\n",
      "  0.  1.  0.  0.  0.  1.  0.  0.  0.  0.  0.  1.  0.  0.  1.  1.  0.  0.\n",
      "  0.  0.  0.  0.  0.  0.  1.  0.  0.  0.  0.  0.  0.  0.  0.  0.  0.  0.\n",
      "  0.  0.]\n",
      "[ 0.  1.  0.  1.  1.  0.  1.  0.  0.  0.  0.  0.  0.  0.  0.  1.  1.  1.\n",
      "  0.  1.  0.  0.  0.  0.  0.  0.  0.  0.  1.  1.  0.  0.  1.  0.  0.  0.\n",
      "  0.  0.  0.  0.  0.  0.  0.  0.  0.  1.  0.  0.  0.  1.  0.  1.  0.  0.\n",
      "  0.  1.  0.  0.  0.  1.  0.  0.  0.  1.  0.  0.  0.  0.  1.  0.  0.  0.\n",
      "  0.  0.  0.  0.  0.  0.  0.  0.  0.  0.  0.  0.  0.  0.  0.  0.  0.  0.\n",
      "  0.  1.  1.  1.  0.  0.  0.  1.  0.  0.  0.  0.  0.  0.  0.  1.  1.  1.\n",
      "  0.  1.  1.  0.  1.  1.  0.  1.  0.  1.  1.  1.  0.  0.  1.  0.  0.  0.\n",
      "  0.  0.  1.  0.  1.  0.  1.  0.  0.  1.  1.  0.  0.  0.  0.  0.  0.  0.\n",
      "  1.  0.  1.  0.  0.  0.  0.  0.  1.  0.  0.  0.  1.  1.  0.  0.  1.  0.\n",
      "  0.  0.  1.  1.  1.  0.  0.  1.  1.  1.  0.  0.  0.  0.  0.  0.  0.  0.\n",
      "  0.  1.  0.  0.  0.  0.  0.  1.  0.  1.  1.  0.  1.  1.  0.  0.  0.  0.\n",
      "  1.  0.  1.  1.  0.  0.  0.  1.  1.  0.  1.  0.  1.  1.  0.  0.  0.  0.\n",
      "  0.  0.  0.  0.  1.  0.  0.  0.  1.  0.  0.  1.  0.  1.  0.  0.  0.  0.\n",
      "  0.  0.  0.  1.  0.  0.  0.  0.  0.  0.  0.  1.  0.  1.  1.  0.  0.  1.\n",
      "  0.  0.  0.  0.  0.  0.  0.  1.  0.  0.  1.  1.  0.  1.  1.  0.  0.  0.\n",
      "  0.  0.  0.  0.  0.  1.  0.  1.  0.  0.  0.  1.  1.  0.  1.  0.  0.  0.\n",
      "  0.  0.  0.  0.  0.  0.  0.  0.  0.  0.  0.  0.  0.  0.  0.  0.  0.  0.\n",
      "  0.  0.]\n",
      "[ 1.  1.  0.  0.  0.  0.  0.  1.  1.  1.  0.  0.  1.  0.  0.  1.  1.  1.\n",
      "  0.  1.  0.  0.  0.  0.  1.  0.  0.  1.  1.  1.  0.  0.  0.  0.  0.  0.\n",
      "  0.  0.  1.  0.  0.  0.  0.  1.  0.  1.  0.  0.  0.  1.  0.  0.  0.  0.\n",
      "  1.  1.  0.  0.  1.  1.  0.  0.  0.  1.  1.  1.  0.  0.  1.  0.  0.  0.\n",
      "  0.  0.  0.  1.  0.  0.  0.  0.  0.  0.  0.  0.  0.  0.  0.  0.  0.  1.\n",
      "  0.  1.  1.  0.  0.  0.  0.  1.  1.  0.  0.  0.  0.  0.  0.  1.  1.  1.\n",
      "  0.  1.  1.  0.  1.  1.  0.  1.  0.  1.  0.  1.  0.  0.  1.  0.  0.  0.\n",
      "  0.  0.  0.  0.  1.  0.  1.  0.  0.  1.  1.  0.  0.  0.  0.  0.  0.  0.\n",
      "  1.  0.  1.  0.  0.  1.  0.  0.  1.  0.  0.  0.  1.  0.  0.  0.  1.  0.\n",
      "  1.  0.  0.  1.  1.  0.  0.  1.  1.  1.  0.  0.  0.  1.  0.  0.  0.  0.\n",
      "  0.  1.  0.  0.  0.  0.  0.  1.  0.  1.  0.  0.  1.  1.  0.  1.  1.  0.\n",
      "  1.  0.  1.  0.  1.  0.  0.  1.  1.  1.  1.  0.  1.  1.  0.  0.  0.  0.\n",
      "  1.  0.  0.  0.  0.  0.  0.  1.  1.  0.  1.  1.  0.  1.  1.  0.  0.  0.\n",
      "  0.  1.  0.  1.  0.  0.  0.  0.  0.  0.  0.  1.  0.  1.  1.  0.  0.  0.\n",
      "  0.  1.  0.  0.  0.  1.  0.  1.  1.  1.  1.  1.  0.  0.  1.  0.  0.  1.\n",
      "  0.  0.  0.  0.  0.  1.  0.  1.  0.  0.  0.  1.  0.  0.  1.  0.  0.  0.\n",
      "  0.  0.  0.  0.  0.  0.  1.  0.  0.  1.  0.  0.  0.  0.  0.  0.  0.  0.\n",
      "  0.  0.]\n",
      "[ 1.  1.  0.  1.  1.  1.  1.  0.  0.  1.  0.  0.  0.  1.  0.  1.  1.  1.\n",
      "  0.  1.  0.  0.  0.  0.  1.  0.  0.  0.  1.  1.  0.  0.  1.  0.  0.  0.\n",
      "  0.  0.  0.  0.  0.  0.  0.  1.  0.  1.  0.  0.  0.  0.  0.  0.  0.  0.\n",
      "  0.  1.  0.  0.  1.  1.  0.  0.  0.  0.  0.  1.  0.  0.  1.  1.  0.  0.\n",
      "  0.  0.  0.  1.  0.  1.  0.  0.  0.  0.  0.  0.  0.  0.  0.  0.  0.  1.\n",
      "  0.  0.  1.  1.  0.  0.  0.  1.  1.  0.  0.  0.  0.  0.  0.  1.  1.  1.\n",
      "  0.  1.  1.  0.  1.  1.  0.  1.  0.  1.  0.  1.  0.  0.  1.  0.  0.  0.\n",
      "  0.  0.  0.  0.  0.  0.  1.  0.  0.  1.  1.  0.  0.  0.  1.  0.  0.  0.\n",
      "  1.  0.  1.  0.  0.  1.  0.  0.  0.  0.  0.  0.  0.  0.  0.  0.  1.  0.\n",
      "  0.  0.  1.  1.  0.  0.  0.  1.  1.  0.  0.  0.  0.  1.  0.  0.  0.  0.\n",
      "  0.  1.  0.  0.  1.  0.  0.  0.  0.  1.  0.  0.  1.  1.  0.  1.  1.  0.\n",
      "  1.  0.  1.  0.  1.  0.  0.  1.  1.  0.  1.  0.  1.  1.  1.  1.  0.  0.\n",
      "  1.  0.  0.  0.  0.  0.  0.  1.  1.  0.  1.  1.  0.  1.  0.  0.  0.  0.\n",
      "  1.  1.  0.  1.  0.  0.  0.  0.  0.  0.  0.  1.  0.  1.  0.  0.  0.  0.\n",
      "  0.  1.  0.  0.  1.  1.  0.  1.  1.  1.  1.  1.  0.  0.  1.  0.  0.  1.\n",
      "  0.  0.  0.  0.  0.  1.  0.  0.  0.  0.  0.  1.  0.  0.  1.  0.  0.  0.\n",
      "  0.  0.  0.  0.  0.  0.  1.  0.  0.  0.  0.  0.  0.  0.  0.  0.  0.  0.\n",
      "  0.  0.]\n"
     ]
    }
   ],
   "source": [
    "for elem in h:\n",
    "    print(elem[1])\n"
   ]
  },
  {
   "cell_type": "markdown",
   "metadata": {},
   "source": [
    "## Confusion Matrix of All Models"
   ]
  },
  {
   "cell_type": "code",
   "execution_count": null,
   "metadata": {
    "ExecuteTime": {
     "end_time": "2017-12-11T21:26:33.176845Z",
     "start_time": "2017-12-11T21:26:27.558Z"
    },
    "collapsed": true
   },
   "outputs": [],
   "source": [
    "# return the confusion matrix of all models\n",
    "j = list(confusion())\n",
    "for elem in j:\n",
    "    print(elem)"
   ]
  },
  {
   "cell_type": "code",
   "execution_count": null,
   "metadata": {
    "ExecuteTime": {
     "end_time": "2017-12-11T21:26:33.180845Z",
     "start_time": "2017-12-11T21:26:27.580Z"
    },
    "collapsed": true
   },
   "outputs": [],
   "source": [
    "# save the model to disk\n",
    "from sklearn.externals import joblib\n",
    "joblib.dump(clf, 'model_score.pkl')"
   ]
  },
  {
   "cell_type": "markdown",
   "metadata": {},
   "source": [
    "# Pipeline Model Improvement "
   ]
  },
  {
   "cell_type": "code",
   "execution_count": 59,
   "metadata": {
    "collapsed": true
   },
   "outputs": [],
   "source": [
    "from sklearn.ensemble import GradientBoostingClassifier\n",
    "from sklearn.feature_selection import SelectKBest\n",
    "from sklearn.feature_selection import f_regression\n",
    "from sklearn.pipeline import Pipeline\n",
    "from sklearn.preprocessing import MinMaxScaler\n",
    "from sklearn.model_selection import GridSearchCV\n",
    "from sklearn import svm\n",
    "from sklearn.model_selection import train_test_split\n",
    "\n",
    "\n",
    "\n"
   ]
  },
  {
   "cell_type": "code",
   "execution_count": 53,
   "metadata": {},
   "outputs": [
    {
     "name": "stdout",
     "output_type": "stream",
     "text": [
      "0.8984375\n",
      "[ True  True  True  True  True  True  True  True]\n"
     ]
    }
   ],
   "source": [
    "\n",
    "parameters = {'kernel':('linear', 'rbf'), 'C':[1, 10]}\n",
    "svc = svm.SVC()\n",
    "\n",
    "# ANOVA SVM-C\n",
    "anova_filter = SelectKBest(f_regression, k=4)\n",
    "clf = GradientBoostingClassifier(max_features=5)\n",
    "grid = GridSearchCV(svc, param_grid=)\n",
    "\n",
    "anova_gbm = Pipeline([('anova', anova_filter), \n",
    "                      ('MinMax', MinMaxScaler()), \n",
    "                      ('gbm', clf)\n",
    "                     ])\n",
    "\n",
    "# You can set the parameters using the names issued\n",
    "# For instance, fit using a k of 10 in the SelectKBest\n",
    "# and a parameter 'C' of the svm\n",
    "anova_gbm.set_params(anova__k=8).fit(X, y)\n",
    "\n",
    "prediction = anova_gbm.predict(X)\n",
    "score = anova_gbm.score(X, y)\n",
    "print(score)\n",
    "\n",
    "# getting the selected features chosen by anova_filter\n",
    "selected_features = anova_gbm.named_steps['anova'].get_support()\n",
    "print(selected_features)"
   ]
  },
  {
   "cell_type": "code",
   "execution_count": 55,
   "metadata": {},
   "outputs": [
    {
     "name": "stdout",
     "output_type": "stream",
     "text": [
      "0.893229166667\n",
      "[ True  True  True  True  True  True  True  True]\n"
     ]
    }
   ],
   "source": [
    "anova_filter = SelectKBest(f_regression, k=4)\n",
    "clf = GradientBoostingClassifier(max_features=5)\n",
    "\n",
    "anova_gbm = Pipeline([('anova', anova_filter), \n",
    "                      ('MinMax', MinMaxScaler()), \n",
    "                      ('gbm', clf)\n",
    "                     ])\n",
    "\n",
    "# You can set the parameters using the names issued\n",
    "# For instance, fit using a k of 10 in the SelectKBest\n",
    "# and a parameter 'C' of the svm\n",
    "anova_gbm.set_params(anova__k=8).fit(X, y)\n",
    "\n",
    "prediction = anova_gbm.predict(X)\n",
    "score = anova_gbm.score(X, y)\n",
    "print(score)\n",
    "\n",
    "# getting the selected features chosen by anova_filter\n",
    "selected_features = anova_gbm.named_steps['anova'].get_support()\n",
    "print(selected_features)"
   ]
  },
  {
   "cell_type": "code",
   "execution_count": null,
   "metadata": {
    "collapsed": true
   },
   "outputs": [],
   "source": []
  },
  {
   "cell_type": "code",
   "execution_count": 60,
   "metadata": {
    "collapsed": true
   },
   "outputs": [],
   "source": [
    "X_train, X_test, y_train, y_test = train_test_split(X, y, test_size=0.3, random_state=0)"
   ]
  },
  {
   "cell_type": "code",
   "execution_count": 66,
   "metadata": {},
   "outputs": [
    {
     "name": "stdout",
     "output_type": "stream",
     "text": [
      "{'learning_rate': [0.1, 0.05, 0.02, 0.01], 'max_depth': [2, 4, 6, 8], 'min_samples_leaf': [20, 50, 100, 150]}\n",
      "Fitting 3 folds for each of 64 candidates, totalling 192 fits\n",
      "[CV] learning_rate=0.1, max_depth=2, min_samples_leaf=20 .............\n",
      "[CV] learning_rate=0.1, max_depth=2, min_samples_leaf=20 .............\n",
      "[CV] learning_rate=0.1, max_depth=2, min_samples_leaf=20 .............\n",
      "[CV] learning_rate=0.1, max_depth=2, min_samples_leaf=150 ............\n",
      "[CV] learning_rate=0.1, max_depth=2, min_samples_leaf=100 ............\n",
      "[CV] learning_rate=0.1, max_depth=2, min_samples_leaf=100 ............\n",
      "[CV] learning_rate=0.1, max_depth=2, min_samples_leaf=100 ............\n",
      "[CV] learning_rate=0.1, max_depth=2, min_samples_leaf=50 .............\n",
      "[CV] learning_rate=0.1, max_depth=2, min_samples_leaf=50 .............\n",
      "[CV] learning_rate=0.1, max_depth=2, min_samples_leaf=50 .............\n",
      "[CV]  learning_rate=0.1, max_depth=2, min_samples_leaf=100, score=0.8446822742474916, total=   0.2s\n",
      "[CV] learning_rate=0.1, max_depth=2, min_samples_leaf=150 ............\n",
      "[CV]  learning_rate=0.1, max_depth=2, min_samples_leaf=20, score=0.7864882943143813, total=   0.4s\n",
      "[CV] learning_rate=0.1, max_depth=2, min_samples_leaf=150 ............\n",
      "[CV]  learning_rate=0.1, max_depth=2, min_samples_leaf=150, score=0.8614046822742476, total=   0.4s\n",
      "[CV] learning_rate=0.1, max_depth=4, min_samples_leaf=20 .............\n",
      "[CV]  learning_rate=0.1, max_depth=2, min_samples_leaf=50, score=0.8270234113712375, total=   0.4s\n",
      "[CV]  learning_rate=0.1, max_depth=2, min_samples_leaf=100, score=0.7908906882591094, total=   0.5s\n",
      "[CV] learning_rate=0.1, max_depth=4, min_samples_leaf=20 .............\n",
      "[CV]  learning_rate=0.1, max_depth=2, min_samples_leaf=20, score=0.8012145748987854, total=   0.5s\n",
      "[CV]  learning_rate=0.1, max_depth=2, min_samples_leaf=50, score=0.7864583333333334, total=   0.5s\n",
      "[CV]  learning_rate=0.1, max_depth=2, min_samples_leaf=100, score=0.7684347587719298, total=   0.5s\n",
      "[CV] learning_rate=0.1, max_depth=4, min_samples_leaf=20 .............\n",
      "[CV] learning_rate=0.1, max_depth=4, min_samples_leaf=50 .............\n",
      "[CV] learning_rate=0.1, max_depth=4, min_samples_leaf=50 .............\n",
      "[CV] learning_rate=0.1, max_depth=4, min_samples_leaf=50 .............\n",
      "[CV]  learning_rate=0.1, max_depth=2, min_samples_leaf=50, score=0.8251012145748987, total=   0.5s\n",
      "[CV] learning_rate=0.1, max_depth=4, min_samples_leaf=100 ............\n",
      "[CV]  learning_rate=0.1, max_depth=2, min_samples_leaf=20, score=0.795093201754386, total=   0.6s\n",
      "[CV]  learning_rate=0.1, max_depth=2, min_samples_leaf=150, score=0.7996626180836707, total=   0.4s\n",
      "[CV] learning_rate=0.1, max_depth=4, min_samples_leaf=100 ............\n",
      "[CV] learning_rate=0.1, max_depth=4, min_samples_leaf=100 ............\n",
      "[CV]  learning_rate=0.1, max_depth=2, min_samples_leaf=150, score=0.7827576754385965, total=   0.4s\n",
      "[CV] learning_rate=0.1, max_depth=4, min_samples_leaf=150 ............\n",
      "[CV]  learning_rate=0.1, max_depth=4, min_samples_leaf=100, score=0.7684347587719298, total=   0.4s\n"
     ]
    },
    {
     "name": "stderr",
     "output_type": "stream",
     "text": [
      "[Parallel(n_jobs=10)]: Done  12 tasks      | elapsed:    0.9s\n"
     ]
    },
    {
     "name": "stdout",
     "output_type": "stream",
     "text": [
      "[CV] learning_rate=0.1, max_depth=4, min_samples_leaf=150 ............\n",
      "[CV]  learning_rate=0.1, max_depth=4, min_samples_leaf=50, score=0.8080971659919028, total=   0.5s\n",
      "[CV]  learning_rate=0.1, max_depth=4, min_samples_leaf=20, score=0.7806020066889633, total=   0.6s\n",
      "[CV] learning_rate=0.1, max_depth=4, min_samples_leaf=150 ............\n",
      "[CV] learning_rate=0.1, max_depth=6, min_samples_leaf=20 .............\n",
      "[CV]  learning_rate=0.1, max_depth=4, min_samples_leaf=100, score=0.8446822742474916, total=   0.5s\n",
      "[CV]  learning_rate=0.1, max_depth=4, min_samples_leaf=100, score=0.7908906882591094, total=   0.5s\n",
      "[CV] learning_rate=0.1, max_depth=6, min_samples_leaf=20 .............\n",
      "[CV] learning_rate=0.1, max_depth=6, min_samples_leaf=20 .............\n",
      "[CV]  learning_rate=0.1, max_depth=4, min_samples_leaf=50, score=0.8078929765886287, total=   0.6s\n",
      "[CV] learning_rate=0.1, max_depth=6, min_samples_leaf=50 .............\n",
      "[CV]  learning_rate=0.1, max_depth=4, min_samples_leaf=50, score=0.7557565789473684, total=   0.6s\n",
      "[CV] learning_rate=0.1, max_depth=6, min_samples_leaf=50 .............\n",
      "[CV]  learning_rate=0.1, max_depth=4, min_samples_leaf=20, score=0.7921727395411606, total=   0.7s\n",
      "[CV] learning_rate=0.1, max_depth=6, min_samples_leaf=50 .............\n",
      "[CV]  learning_rate=0.1, max_depth=4, min_samples_leaf=20, score=0.7575383771929824, total=   0.7s\n",
      "[CV] learning_rate=0.1, max_depth=6, min_samples_leaf=100 ............\n",
      "[CV]  learning_rate=0.1, max_depth=4, min_samples_leaf=150, score=0.8614046822742476, total=   0.4s\n",
      "[CV] learning_rate=0.1, max_depth=6, min_samples_leaf=100 ............\n",
      "[CV]  learning_rate=0.1, max_depth=4, min_samples_leaf=150, score=0.7996626180836707, total=   0.4s\n",
      "[CV] learning_rate=0.1, max_depth=6, min_samples_leaf=100 ............\n",
      "[CV]  learning_rate=0.1, max_depth=4, min_samples_leaf=150, score=0.7827576754385965, total=   0.4s\n",
      "[CV] learning_rate=0.1, max_depth=6, min_samples_leaf=150 ............\n",
      "[CV]  learning_rate=0.1, max_depth=6, min_samples_leaf=50, score=0.8020066889632107, total=   0.4s\n",
      "[CV] learning_rate=0.1, max_depth=6, min_samples_leaf=150 ............\n",
      "[CV]  learning_rate=0.1, max_depth=6, min_samples_leaf=100, score=0.7908906882591094, total=   0.4s\n",
      "[CV]  learning_rate=0.1, max_depth=6, min_samples_leaf=100, score=0.8446822742474916, total=   0.4s\n",
      "[CV] learning_rate=0.1, max_depth=6, min_samples_leaf=150 ............\n",
      "[CV] learning_rate=0.1, max_depth=8, min_samples_leaf=20 .............\n",
      "[CV]  learning_rate=0.1, max_depth=6, min_samples_leaf=20, score=0.7781939799331105, total=   0.8s\n",
      "[CV]  learning_rate=0.1, max_depth=6, min_samples_leaf=50, score=0.7534265350877194, total=   0.6s\n",
      "[CV] learning_rate=0.1, max_depth=8, min_samples_leaf=20 .............\n",
      "[CV] learning_rate=0.1, max_depth=8, min_samples_leaf=20 .............\n",
      "[CV]  learning_rate=0.1, max_depth=6, min_samples_leaf=150, score=0.7996626180836707, total=   0.3s\n",
      "[CV]  learning_rate=0.1, max_depth=6, min_samples_leaf=150, score=0.8614046822742476, total=   0.4s\n",
      "[CV] learning_rate=0.1, max_depth=8, min_samples_leaf=50 .............\n",
      "[CV]  learning_rate=0.1, max_depth=6, min_samples_leaf=100, score=0.7684347587719298, total=   0.4s\n",
      "[CV] learning_rate=0.1, max_depth=8, min_samples_leaf=50 .............\n",
      "[CV] learning_rate=0.1, max_depth=8, min_samples_leaf=50 .............\n",
      "[CV]  learning_rate=0.1, max_depth=6, min_samples_leaf=50, score=0.8109311740890688, total=   0.8s\n",
      "[CV] learning_rate=0.1, max_depth=8, min_samples_leaf=100 ............\n",
      "[CV]  learning_rate=0.1, max_depth=6, min_samples_leaf=150, score=0.7827576754385965, total=   0.4s\n",
      "[CV] learning_rate=0.1, max_depth=8, min_samples_leaf=100 ............\n",
      "[CV]  learning_rate=0.1, max_depth=6, min_samples_leaf=20, score=0.7491776315789473, total=   1.0s\n",
      "[CV] learning_rate=0.1, max_depth=8, min_samples_leaf=100 ............\n",
      "[CV]  learning_rate=0.1, max_depth=6, min_samples_leaf=20, score=0.799055330634278, total=   1.1s\n",
      "[CV] learning_rate=0.1, max_depth=8, min_samples_leaf=150 ............\n",
      "[CV]  learning_rate=0.1, max_depth=8, min_samples_leaf=100, score=0.8446822742474916, total=   0.4s\n",
      "[CV] learning_rate=0.1, max_depth=8, min_samples_leaf=150 ............\n",
      "[CV]  learning_rate=0.1, max_depth=8, min_samples_leaf=50, score=0.8109311740890688, total=   0.5s\n",
      "[CV]  learning_rate=0.1, max_depth=8, min_samples_leaf=50, score=0.7534265350877194, total=   0.5s\n",
      "[CV] learning_rate=0.1, max_depth=8, min_samples_leaf=150 ............\n",
      "[CV] learning_rate=0.05, max_depth=2, min_samples_leaf=20 ............\n",
      "[CV]  learning_rate=0.1, max_depth=8, min_samples_leaf=100, score=0.7908906882591094, total=   0.4s\n",
      "[CV]  learning_rate=0.1, max_depth=8, min_samples_leaf=100, score=0.7684347587719298, total=   0.4s\n",
      "[CV] learning_rate=0.05, max_depth=2, min_samples_leaf=20 ............\n",
      "[CV] learning_rate=0.05, max_depth=2, min_samples_leaf=20 ............\n",
      "[CV]  learning_rate=0.1, max_depth=8, min_samples_leaf=50, score=0.8020066889632107, total=   0.7s\n",
      "[CV]  learning_rate=0.1, max_depth=8, min_samples_leaf=150, score=0.8614046822742476, total=   0.3s\n",
      "[CV] learning_rate=0.05, max_depth=2, min_samples_leaf=50 ............\n",
      "[CV] learning_rate=0.05, max_depth=2, min_samples_leaf=50 ............\n",
      "[CV]  learning_rate=0.1, max_depth=8, min_samples_leaf=20, score=0.7899665551839464, total=   0.9s\n",
      "[CV] learning_rate=0.05, max_depth=2, min_samples_leaf=50 ............\n",
      "[CV]  learning_rate=0.1, max_depth=8, min_samples_leaf=20, score=0.7978407557354926, total=   0.9s\n",
      "[CV] learning_rate=0.05, max_depth=2, min_samples_leaf=100 ...........\n",
      "[CV]  learning_rate=0.1, max_depth=8, min_samples_leaf=150, score=0.7996626180836707, total=   0.4s\n",
      "[CV] learning_rate=0.05, max_depth=2, min_samples_leaf=100 ...........\n",
      "[CV]  learning_rate=0.1, max_depth=8, min_samples_leaf=150, score=0.7827576754385965, total=   0.4s\n",
      "[CV] learning_rate=0.05, max_depth=2, min_samples_leaf=100 ...........\n",
      "[CV]  learning_rate=0.05, max_depth=2, min_samples_leaf=20, score=0.7986622073578595, total=   0.5s\n",
      "[CV] learning_rate=0.05, max_depth=2, min_samples_leaf=150 ...........\n",
      "[CV]  learning_rate=0.1, max_depth=8, min_samples_leaf=20, score=0.7542489035087719, total=   1.2s\n",
      "[CV] learning_rate=0.05, max_depth=2, min_samples_leaf=150 ...........\n",
      "[CV]  learning_rate=0.05, max_depth=2, min_samples_leaf=20, score=0.8172739541160595, total=   0.5s\n",
      "[CV] learning_rate=0.05, max_depth=2, min_samples_leaf=150 ...........\n",
      "[CV]  learning_rate=0.05, max_depth=2, min_samples_leaf=50, score=0.8358528428093644, total=   0.6s\n",
      "[CV]  learning_rate=0.05, max_depth=2, min_samples_leaf=100, score=0.8503010033444816, total=   0.4s\n",
      "[CV]  learning_rate=0.05, max_depth=2, min_samples_leaf=50, score=0.8313090418353577, total=   0.6s\n",
      "[CV] learning_rate=0.05, max_depth=4, min_samples_leaf=20 ............\n",
      "[CV] learning_rate=0.05, max_depth=4, min_samples_leaf=20 ............\n",
      "[CV] learning_rate=0.05, max_depth=4, min_samples_leaf=20 ............\n",
      "[CV]  learning_rate=0.05, max_depth=2, min_samples_leaf=20, score=0.8053728070175439, total=   0.6s\n",
      "[CV] learning_rate=0.05, max_depth=4, min_samples_leaf=50 ............\n",
      "[CV]  learning_rate=0.05, max_depth=2, min_samples_leaf=50, score=0.7974917763157896, total=   0.6s\n",
      "[CV]  learning_rate=0.05, max_depth=2, min_samples_leaf=100, score=0.8010121457489878, total=   0.5s\n",
      "[CV] learning_rate=0.05, max_depth=4, min_samples_leaf=50 ............\n",
      "[CV] learning_rate=0.05, max_depth=4, min_samples_leaf=50 ............\n",
      "[CV]  learning_rate=0.05, max_depth=2, min_samples_leaf=100, score=0.7756990131578947, total=   0.5s\n",
      "[CV] learning_rate=0.05, max_depth=4, min_samples_leaf=100 ...........\n",
      "[CV]  learning_rate=0.05, max_depth=2, min_samples_leaf=150, score=0.8670234113712375, total=   0.5s\n",
      "[CV] learning_rate=0.05, max_depth=4, min_samples_leaf=100 ...........\n",
      "[CV]  learning_rate=0.05, max_depth=2, min_samples_leaf=150, score=0.8027665317139002, total=   0.5s\n",
      "[CV]  learning_rate=0.05, max_depth=2, min_samples_leaf=150, score=0.7804961622807017, total=   0.4s\n",
      "[CV] learning_rate=0.05, max_depth=4, min_samples_leaf=100 ...........\n",
      "[CV] learning_rate=0.05, max_depth=4, min_samples_leaf=150 ...........\n",
      "[CV]  learning_rate=0.05, max_depth=4, min_samples_leaf=100, score=0.8503010033444816, total=   0.4s\n"
     ]
    },
    {
     "name": "stdout",
     "output_type": "stream",
     "text": [
      "[CV] learning_rate=0.05, max_depth=4, min_samples_leaf=150 ...........\n",
      "[CV]  learning_rate=0.05, max_depth=4, min_samples_leaf=20, score=0.7887625418060201, total=   0.6s\n",
      "[CV] learning_rate=0.05, max_depth=4, min_samples_leaf=150 ...........\n",
      "[CV]  learning_rate=0.05, max_depth=4, min_samples_leaf=50, score=0.7852247807017545, total=   0.6s\n",
      "[CV]  learning_rate=0.05, max_depth=4, min_samples_leaf=50, score=0.8244816053511707, total=   0.7s\n",
      "[CV] learning_rate=0.05, max_depth=6, min_samples_leaf=20 ............\n",
      "[CV] learning_rate=0.05, max_depth=6, min_samples_leaf=20 ............\n",
      "[CV]  learning_rate=0.05, max_depth=4, min_samples_leaf=150, score=0.8670234113712375, total=   0.4s\n",
      "[CV]  learning_rate=0.05, max_depth=4, min_samples_leaf=100, score=0.8010121457489878, total=   0.4s\n",
      "[CV] learning_rate=0.05, max_depth=6, min_samples_leaf=50 ............\n",
      "[CV] learning_rate=0.05, max_depth=6, min_samples_leaf=20 ............\n",
      "[CV]  learning_rate=0.05, max_depth=4, min_samples_leaf=20, score=0.8047233468286099, total=   0.8s\n",
      "[CV]  learning_rate=0.05, max_depth=4, min_samples_leaf=50, score=0.8186234817813766, total=   0.7s\n",
      "[CV] learning_rate=0.05, max_depth=6, min_samples_leaf=50 ............\n",
      "[CV] learning_rate=0.05, max_depth=6, min_samples_leaf=50 ............\n",
      "[CV]  learning_rate=0.05, max_depth=4, min_samples_leaf=100, score=0.7756990131578947, total=   0.5s\n",
      "[CV]  learning_rate=0.05, max_depth=4, min_samples_leaf=150, score=0.7804961622807017, total=   0.2s\n",
      "[CV] learning_rate=0.05, max_depth=6, min_samples_leaf=100 ...........\n",
      "[CV] learning_rate=0.05, max_depth=6, min_samples_leaf=100 ...........\n",
      "[CV]  learning_rate=0.05, max_depth=4, min_samples_leaf=20, score=0.7654879385964912, total=   1.0s\n",
      "[CV] learning_rate=0.05, max_depth=6, min_samples_leaf=100 ...........\n",
      "[CV]  learning_rate=0.05, max_depth=4, min_samples_leaf=150, score=0.8027665317139002, total=   0.5s\n",
      "[CV] learning_rate=0.05, max_depth=6, min_samples_leaf=150 ...........\n",
      "[CV]  learning_rate=0.05, max_depth=6, min_samples_leaf=100, score=0.8010121457489878, total=   0.4s\n",
      "[CV] learning_rate=0.05, max_depth=6, min_samples_leaf=150 ...........\n",
      "[CV]  learning_rate=0.05, max_depth=6, min_samples_leaf=50, score=0.8164642375168691, total=   0.6s\n",
      "[CV]  learning_rate=0.05, max_depth=6, min_samples_leaf=100, score=0.8503010033444816, total=   0.5s\n",
      "[CV] learning_rate=0.05, max_depth=6, min_samples_leaf=150 ...........\n",
      "[CV] learning_rate=0.05, max_depth=8, min_samples_leaf=20 ............\n",
      "[CV]  learning_rate=0.05, max_depth=6, min_samples_leaf=100, score=0.7756990131578947, total=   0.5s\n",
      "[CV]  learning_rate=0.05, max_depth=6, min_samples_leaf=50, score=0.8212709030100334, total=   0.7s\n",
      "[CV]  learning_rate=0.05, max_depth=6, min_samples_leaf=50, score=0.7772752192982456, total=   0.6s\n",
      "[CV] learning_rate=0.05, max_depth=8, min_samples_leaf=20 ............\n",
      "[CV] learning_rate=0.05, max_depth=8, min_samples_leaf=20 ............\n",
      "[CV] learning_rate=0.05, max_depth=8, min_samples_leaf=50 ............\n",
      "[CV]  learning_rate=0.05, max_depth=6, min_samples_leaf=150, score=0.8670234113712375, total=   0.4s\n",
      "[CV]  learning_rate=0.05, max_depth=6, min_samples_leaf=20, score=0.8036437246963564, total=   0.9s\n",
      "[CV] learning_rate=0.05, max_depth=8, min_samples_leaf=50 ............\n",
      "[CV] learning_rate=0.05, max_depth=8, min_samples_leaf=50 ............\n",
      "[CV]  learning_rate=0.05, max_depth=6, min_samples_leaf=20, score=0.7907692307692307, total=   0.9s\n",
      "[CV] learning_rate=0.05, max_depth=8, min_samples_leaf=100 ...........\n",
      "[CV]  learning_rate=0.05, max_depth=6, min_samples_leaf=20, score=0.756578947368421, total=   0.9s\n",
      "[CV] learning_rate=0.05, max_depth=8, min_samples_leaf=100 ...........\n",
      "[CV]  learning_rate=0.05, max_depth=6, min_samples_leaf=150, score=0.8027665317139002, total=   0.4s\n",
      "[CV] learning_rate=0.05, max_depth=8, min_samples_leaf=100 ...........\n",
      "[CV]  learning_rate=0.05, max_depth=6, min_samples_leaf=150, score=0.7804961622807017, total=   0.4s\n",
      "[CV] learning_rate=0.05, max_depth=8, min_samples_leaf=150 ...........\n",
      "[CV]  learning_rate=0.05, max_depth=8, min_samples_leaf=100, score=0.8010121457489878, total=   0.4s\n",
      "[CV]  learning_rate=0.05, max_depth=8, min_samples_leaf=100, score=0.7756990131578947, total=   0.3s\n",
      "[CV] learning_rate=0.05, max_depth=8, min_samples_leaf=150 ...........\n",
      "[CV] learning_rate=0.05, max_depth=8, min_samples_leaf=150 ...........\n",
      "[CV]  learning_rate=0.05, max_depth=8, min_samples_leaf=50, score=0.7772752192982456, total=   0.5s\n",
      "[CV]  learning_rate=0.05, max_depth=8, min_samples_leaf=100, score=0.8503010033444816, total=   0.5s\n",
      "[CV]  learning_rate=0.05, max_depth=8, min_samples_leaf=50, score=0.8212709030100334, total=   0.6s\n",
      "[CV] learning_rate=0.02, max_depth=2, min_samples_leaf=20 ............\n",
      "[CV] learning_rate=0.02, max_depth=2, min_samples_leaf=20 ............\n",
      "[CV] learning_rate=0.02, max_depth=2, min_samples_leaf=20 ............\n",
      "[CV]  learning_rate=0.05, max_depth=8, min_samples_leaf=150, score=0.8670234113712375, total=   0.4s\n",
      "[CV]  learning_rate=0.05, max_depth=8, min_samples_leaf=50, score=0.8164642375168691, total=   0.7s\n",
      "[CV] learning_rate=0.02, max_depth=2, min_samples_leaf=50 ............\n",
      "[CV] learning_rate=0.02, max_depth=2, min_samples_leaf=50 ............\n",
      "[CV]  learning_rate=0.05, max_depth=8, min_samples_leaf=20, score=0.7567160087719298, total=   0.8s\n",
      "[CV]  learning_rate=0.05, max_depth=8, min_samples_leaf=150, score=0.8027665317139002, total=   0.3s\n",
      "[CV] learning_rate=0.02, max_depth=2, min_samples_leaf=50 ............\n",
      "[CV]  learning_rate=0.05, max_depth=8, min_samples_leaf=20, score=0.7958528428093645, total=   0.9s\n",
      "[CV] learning_rate=0.02, max_depth=2, min_samples_leaf=100 ...........\n",
      "[CV] learning_rate=0.02, max_depth=2, min_samples_leaf=100 ...........\n",
      "[CV]  learning_rate=0.05, max_depth=8, min_samples_leaf=150, score=0.7804961622807017, total=   0.4s\n",
      "[CV] learning_rate=0.02, max_depth=2, min_samples_leaf=100 ...........\n",
      "[CV]  learning_rate=0.02, max_depth=2, min_samples_leaf=20, score=0.8219572368421052, total=   0.4s\n",
      "[CV] learning_rate=0.02, max_depth=2, min_samples_leaf=150 ...........\n",
      "[CV]  learning_rate=0.05, max_depth=8, min_samples_leaf=20, score=0.8012145748987854, total=   1.2s\n",
      "[CV] learning_rate=0.02, max_depth=2, min_samples_leaf=150 ...........\n",
      "[CV]  learning_rate=0.02, max_depth=2, min_samples_leaf=20, score=0.8319732441471572, total=   0.5s\n",
      "[CV]  learning_rate=0.02, max_depth=2, min_samples_leaf=50, score=0.8512374581939799, total=   0.4s\n",
      "[CV] learning_rate=0.02, max_depth=4, min_samples_leaf=20 ............\n",
      "[CV] learning_rate=0.02, max_depth=2, min_samples_leaf=150 ...........\n",
      "[CV]  learning_rate=0.02, max_depth=2, min_samples_leaf=20, score=0.8284750337381916, total=   0.6s\n",
      "[CV] learning_rate=0.02, max_depth=4, min_samples_leaf=20 ............\n",
      "[CV]  learning_rate=0.02, max_depth=2, min_samples_leaf=50, score=0.8040707236842106, total=   0.5s\n",
      "[CV]  learning_rate=0.02, max_depth=2, min_samples_leaf=50, score=0.8364372469635628, total=   0.6s\n",
      "[CV]  learning_rate=0.02, max_depth=2, min_samples_leaf=100, score=0.8581270903010034, total=   0.5s\n",
      "[CV] learning_rate=0.02, max_depth=4, min_samples_leaf=20 ............\n",
      "[CV]  learning_rate=0.02, max_depth=2, min_samples_leaf=100, score=0.8105263157894737, total=   0.6s\n",
      "[CV] learning_rate=0.02, max_depth=4, min_samples_leaf=50 ............\n",
      "[CV] learning_rate=0.02, max_depth=4, min_samples_leaf=50 ............\n",
      "[CV] learning_rate=0.02, max_depth=4, min_samples_leaf=50 ............\n",
      "[CV]  learning_rate=0.02, max_depth=2, min_samples_leaf=100, score=0.7783717105263158, total=   0.5s\n",
      "[CV] learning_rate=0.02, max_depth=4, min_samples_leaf=100 ...........\n",
      "[CV]  learning_rate=0.02, max_depth=2, min_samples_leaf=150, score=0.8706354515050169, total=   0.4s\n",
      "[CV] learning_rate=0.02, max_depth=4, min_samples_leaf=100 ...........\n",
      "[CV]  learning_rate=0.02, max_depth=2, min_samples_leaf=150, score=0.8062078272604589, total=   0.4s\n",
      "[CV]  learning_rate=0.02, max_depth=2, min_samples_leaf=150, score=0.7768640350877192, total=   0.4s\n",
      "[CV] learning_rate=0.02, max_depth=4, min_samples_leaf=100 ...........\n",
      "[CV] learning_rate=0.02, max_depth=4, min_samples_leaf=150 ...........\n"
     ]
    },
    {
     "name": "stderr",
     "output_type": "stream",
     "text": [
      "[Parallel(n_jobs=10)]: Done 108 tasks      | elapsed:    6.6s\n"
     ]
    },
    {
     "name": "stdout",
     "output_type": "stream",
     "text": [
      "[CV]  learning_rate=0.02, max_depth=4, min_samples_leaf=150, score=0.8706354515050169, total=   0.3s\n",
      "[CV]  learning_rate=0.02, max_depth=4, min_samples_leaf=20, score=0.8001337792642141, total=   0.7s\n",
      "[CV]  learning_rate=0.02, max_depth=4, min_samples_leaf=100, score=0.8105263157894737, total=   0.3s\n",
      "[CV] learning_rate=0.02, max_depth=4, min_samples_leaf=150 ...........\n",
      "[CV] learning_rate=0.02, max_depth=4, min_samples_leaf=150 ...........\n",
      "[CV] learning_rate=0.02, max_depth=6, min_samples_leaf=20 ............\n",
      "[CV]  learning_rate=0.02, max_depth=4, min_samples_leaf=20, score=0.81417004048583, total=   0.7s\n",
      "[CV] learning_rate=0.02, max_depth=6, min_samples_leaf=20 ............\n",
      "[CV]  learning_rate=0.02, max_depth=4, min_samples_leaf=100, score=0.7783717105263158, total=   0.4s\n",
      "[CV]  learning_rate=0.02, max_depth=4, min_samples_leaf=100, score=0.8581270903010034, total=   0.5s\n",
      "[CV] learning_rate=0.02, max_depth=6, min_samples_leaf=20 ............\n",
      "[CV] learning_rate=0.02, max_depth=6, min_samples_leaf=50 ............\n",
      "[CV]  learning_rate=0.02, max_depth=4, min_samples_leaf=50, score=0.7992050438596491, total=   0.6s\n",
      "[CV] learning_rate=0.02, max_depth=6, min_samples_leaf=50 ............\n",
      "[CV]  learning_rate=0.02, max_depth=4, min_samples_leaf=50, score=0.8306342780026992, total=   0.7s\n",
      "[CV]  learning_rate=0.02, max_depth=4, min_samples_leaf=20, score=0.8012609649122807, total=   0.7s\n",
      "[CV] learning_rate=0.02, max_depth=6, min_samples_leaf=50 ............\n",
      "[CV] learning_rate=0.02, max_depth=6, min_samples_leaf=100 ...........\n",
      "[CV]  learning_rate=0.02, max_depth=4, min_samples_leaf=50, score=0.8393311036789297, total=   0.7s\n",
      "[CV]  learning_rate=0.02, max_depth=4, min_samples_leaf=150, score=0.7768640350877192, total=   0.2s\n",
      "[CV] learning_rate=0.02, max_depth=6, min_samples_leaf=100 ...........\n",
      "[CV] learning_rate=0.02, max_depth=6, min_samples_leaf=100 ...........\n",
      "[CV]  learning_rate=0.02, max_depth=4, min_samples_leaf=150, score=0.8062078272604589, total=   0.4s\n",
      "[CV] learning_rate=0.02, max_depth=6, min_samples_leaf=150 ...........\n",
      "[CV]  learning_rate=0.02, max_depth=6, min_samples_leaf=100, score=0.8105263157894737, total=   0.3s\n",
      "[CV]  learning_rate=0.02, max_depth=6, min_samples_leaf=50, score=0.8346488294314381, total=   0.5s\n",
      "[CV] learning_rate=0.02, max_depth=6, min_samples_leaf=150 ...........\n",
      "[CV] learning_rate=0.02, max_depth=6, min_samples_leaf=150 ...........\n",
      "[CV]  learning_rate=0.02, max_depth=6, min_samples_leaf=100, score=0.8581270903010034, total=   0.5s\n",
      "[CV] learning_rate=0.02, max_depth=8, min_samples_leaf=20 ............\n",
      "[CV]  learning_rate=0.02, max_depth=6, min_samples_leaf=100, score=0.7783717105263158, total=   0.4s\n",
      "[CV] learning_rate=0.02, max_depth=8, min_samples_leaf=20 ............\n",
      "[CV]  learning_rate=0.02, max_depth=6, min_samples_leaf=50, score=0.834412955465587, total=   0.5s\n",
      "[CV] learning_rate=0.02, max_depth=8, min_samples_leaf=20 ............\n",
      "[CV]  learning_rate=0.02, max_depth=6, min_samples_leaf=150, score=0.8706354515050169, total=   0.3s\n",
      "[CV] learning_rate=0.02, max_depth=8, min_samples_leaf=50 ............\n",
      "[CV]  learning_rate=0.02, max_depth=6, min_samples_leaf=50, score=0.7983826754385965, total=   0.6s\n",
      "[CV] learning_rate=0.02, max_depth=8, min_samples_leaf=50 ............\n",
      "[CV]  learning_rate=0.02, max_depth=6, min_samples_leaf=150, score=0.7768640350877192, total=   0.2s\n",
      "[CV] learning_rate=0.02, max_depth=8, min_samples_leaf=50 ............\n",
      "[CV]  learning_rate=0.02, max_depth=6, min_samples_leaf=150, score=0.8062078272604589, total=   0.3s\n",
      "[CV] learning_rate=0.02, max_depth=8, min_samples_leaf=100 ...........\n",
      "[CV]  learning_rate=0.02, max_depth=6, min_samples_leaf=20, score=0.8171390013495277, total=   0.9s\n",
      "[CV]  learning_rate=0.02, max_depth=6, min_samples_leaf=20, score=0.8033444816053512, total=   1.0s\n",
      "[CV] learning_rate=0.02, max_depth=8, min_samples_leaf=100 ...........\n",
      "[CV] learning_rate=0.02, max_depth=8, min_samples_leaf=100 ...........\n",
      "[CV]  learning_rate=0.02, max_depth=6, min_samples_leaf=20, score=0.777138157894737, total=   1.0s\n",
      "[CV] learning_rate=0.02, max_depth=8, min_samples_leaf=150 ...........\n",
      "[CV]  learning_rate=0.02, max_depth=8, min_samples_leaf=50, score=0.8346488294314381, total=   0.6s\n",
      "[CV]  learning_rate=0.02, max_depth=8, min_samples_leaf=50, score=0.834412955465587, total=   0.5s\n",
      "[CV]  learning_rate=0.02, max_depth=8, min_samples_leaf=100, score=0.8581270903010034, total=   0.4s\n",
      "[CV] learning_rate=0.02, max_depth=8, min_samples_leaf=150 ...........\n",
      "[CV] learning_rate=0.02, max_depth=8, min_samples_leaf=150 ...........\n",
      "[CV] learning_rate=0.01, max_depth=2, min_samples_leaf=20 ............\n",
      "[CV]  learning_rate=0.02, max_depth=8, min_samples_leaf=150, score=0.8706354515050169, total=   0.3s\n",
      "[CV] learning_rate=0.01, max_depth=2, min_samples_leaf=20 ............\n",
      "[CV]  learning_rate=0.02, max_depth=8, min_samples_leaf=50, score=0.7983826754385965, total=   0.5s\n",
      "[CV]  learning_rate=0.02, max_depth=8, min_samples_leaf=100, score=0.7783717105263158, total=   0.4s\n",
      "[CV] learning_rate=0.01, max_depth=2, min_samples_leaf=50 ............\n",
      "[CV] learning_rate=0.01, max_depth=2, min_samples_leaf=20 ............\n",
      "[CV]  learning_rate=0.02, max_depth=8, min_samples_leaf=100, score=0.8105263157894737, total=   0.5s\n",
      "[CV] learning_rate=0.01, max_depth=2, min_samples_leaf=50 ............\n",
      "[CV]  learning_rate=0.02, max_depth=8, min_samples_leaf=20, score=0.805886287625418, total=   0.9s\n",
      "[CV] learning_rate=0.01, max_depth=2, min_samples_leaf=50 ............\n",
      "[CV]  learning_rate=0.02, max_depth=8, min_samples_leaf=20, score=0.7765899122807017, total=   0.9s\n",
      "[CV] learning_rate=0.01, max_depth=2, min_samples_leaf=100 ...........\n",
      "[CV]  learning_rate=0.02, max_depth=8, min_samples_leaf=150, score=0.7768640350877192, total=   0.3s\n",
      "[CV] learning_rate=0.01, max_depth=2, min_samples_leaf=100 ...........\n",
      "[CV]  learning_rate=0.02, max_depth=8, min_samples_leaf=150, score=0.8062078272604589, total=   0.4s\n",
      "[CV] learning_rate=0.01, max_depth=2, min_samples_leaf=100 ...........\n",
      "[CV]  learning_rate=0.02, max_depth=8, min_samples_leaf=20, score=0.8093117408906882, total=   1.1s\n",
      "[CV] learning_rate=0.01, max_depth=2, min_samples_leaf=150 ...........\n",
      "[CV]  learning_rate=0.01, max_depth=2, min_samples_leaf=20, score=0.8282051282051283, total=   0.4s\n",
      "[CV]  learning_rate=0.01, max_depth=2, min_samples_leaf=20, score=0.8476254180602008, total=   0.5s\n",
      "[CV] learning_rate=0.01, max_depth=2, min_samples_leaf=150 ...........\n",
      "[CV]  learning_rate=0.01, max_depth=2, min_samples_leaf=50, score=0.8572575250836121, total=   0.4s\n",
      "[CV] learning_rate=0.01, max_depth=2, min_samples_leaf=150 ...........\n",
      "[CV] learning_rate=0.01, max_depth=4, min_samples_leaf=20 ............\n",
      "[CV]  learning_rate=0.01, max_depth=2, min_samples_leaf=50, score=0.8360323886639676, total=   0.4s\n",
      "[CV] learning_rate=0.01, max_depth=4, min_samples_leaf=20 ............\n",
      "[CV]  learning_rate=0.01, max_depth=2, min_samples_leaf=20, score=0.818393640350877, total=   0.5s\n",
      "[CV] learning_rate=0.01, max_depth=4, min_samples_leaf=20 ............\n",
      "[CV]  learning_rate=0.01, max_depth=2, min_samples_leaf=50, score=0.8053042763157895, total=   0.4s\n",
      "[CV] learning_rate=0.01, max_depth=4, min_samples_leaf=50 ............\n",
      "[CV]  learning_rate=0.01, max_depth=2, min_samples_leaf=100, score=0.8618060200668897, total=   0.4s\n",
      "[CV] learning_rate=0.01, max_depth=4, min_samples_leaf=50 ............\n",
      "[CV]  learning_rate=0.01, max_depth=2, min_samples_leaf=100, score=0.8097165991902835, total=   0.4s\n",
      "[CV]  learning_rate=0.01, max_depth=2, min_samples_leaf=100, score=0.7748766447368421, total=   0.4s\n",
      "[CV] learning_rate=0.01, max_depth=4, min_samples_leaf=50 ............\n",
      "[CV] learning_rate=0.01, max_depth=4, min_samples_leaf=100 ...........\n",
      "[CV]  learning_rate=0.01, max_depth=2, min_samples_leaf=150, score=0.8002699055330634, total=   0.3s\n",
      "[CV]  learning_rate=0.01, max_depth=2, min_samples_leaf=150, score=0.7778234649122807, total=   0.3s\n",
      "[CV] learning_rate=0.01, max_depth=4, min_samples_leaf=100 ...........\n",
      "[CV] learning_rate=0.01, max_depth=4, min_samples_leaf=100 ...........\n",
      "[CV]  learning_rate=0.01, max_depth=2, min_samples_leaf=150, score=0.8711036789297658, total=   0.4s\n",
      "[CV] learning_rate=0.01, max_depth=4, min_samples_leaf=150 ...........\n"
     ]
    },
    {
     "name": "stdout",
     "output_type": "stream",
     "text": [
      "[CV]  learning_rate=0.01, max_depth=4, min_samples_leaf=100, score=0.8618060200668897, total=   0.3s\n",
      "[CV] learning_rate=0.01, max_depth=4, min_samples_leaf=150 ...........\n",
      "[CV]  learning_rate=0.01, max_depth=4, min_samples_leaf=20, score=0.8190283400809717, total=   0.6s\n",
      "[CV]  learning_rate=0.01, max_depth=4, min_samples_leaf=50, score=0.7953673245614035, total=   0.4s\n",
      "[CV]  learning_rate=0.01, max_depth=4, min_samples_leaf=100, score=0.7748766447368421, total=   0.4s\n",
      "[CV] learning_rate=0.01, max_depth=6, min_samples_leaf=20 ............\n",
      "[CV] learning_rate=0.01, max_depth=6, min_samples_leaf=20 ............\n",
      "[CV] learning_rate=0.01, max_depth=4, min_samples_leaf=150 ...........\n",
      "[CV]  learning_rate=0.01, max_depth=4, min_samples_leaf=50, score=0.8434782608695652, total=   0.6s\n",
      "[CV]  learning_rate=0.01, max_depth=4, min_samples_leaf=150, score=0.8711036789297658, total=   0.4s\n",
      "[CV]  learning_rate=0.01, max_depth=4, min_samples_leaf=50, score=0.8360323886639676, total=   0.6s\n",
      "[CV]  learning_rate=0.01, max_depth=4, min_samples_leaf=20, score=0.8160535117056855, total=   0.7s\n",
      "[CV] learning_rate=0.01, max_depth=6, min_samples_leaf=20 ............\n",
      "[CV] learning_rate=0.01, max_depth=6, min_samples_leaf=50 ............\n",
      "[CV] learning_rate=0.01, max_depth=6, min_samples_leaf=50 ............\n",
      "[CV] learning_rate=0.01, max_depth=6, min_samples_leaf=50 ............\n",
      "[CV]  learning_rate=0.01, max_depth=4, min_samples_leaf=100, score=0.8097165991902835, total=   0.5s\n",
      "[CV] learning_rate=0.01, max_depth=6, min_samples_leaf=100 ...........\n",
      "[CV]  learning_rate=0.01, max_depth=4, min_samples_leaf=20, score=0.8093475877192983, total=   0.8s\n",
      "[CV] learning_rate=0.01, max_depth=6, min_samples_leaf=100 ...........\n",
      "[CV]  learning_rate=0.01, max_depth=4, min_samples_leaf=150, score=0.8002699055330634, total=   0.4s\n",
      "[CV] learning_rate=0.01, max_depth=6, min_samples_leaf=100 ...........\n",
      "[CV]  learning_rate=0.01, max_depth=4, min_samples_leaf=150, score=0.7778234649122807, total=   0.3s\n",
      "[CV] learning_rate=0.01, max_depth=6, min_samples_leaf=150 ...........\n",
      "[CV]  learning_rate=0.01, max_depth=6, min_samples_leaf=100, score=0.8618060200668897, total=   0.3s\n",
      "[CV] learning_rate=0.01, max_depth=6, min_samples_leaf=150 ...........\n",
      "[CV]  learning_rate=0.01, max_depth=6, min_samples_leaf=50, score=0.8422742474916388, total=   0.6s\n",
      "[CV]  learning_rate=0.01, max_depth=6, min_samples_leaf=100, score=0.8097165991902835, total=   0.5s\n",
      "[CV] learning_rate=0.01, max_depth=6, min_samples_leaf=150 ...........\n",
      "[CV]  learning_rate=0.01, max_depth=6, min_samples_leaf=150, score=0.8002699055330634, total=   0.2s\n",
      "[CV] learning_rate=0.01, max_depth=8, min_samples_leaf=20 ............\n",
      "[CV] learning_rate=0.01, max_depth=8, min_samples_leaf=20 ............\n",
      "[CV]  learning_rate=0.01, max_depth=6, min_samples_leaf=50, score=0.8379217273954117, total=   0.6s\n",
      "[CV] learning_rate=0.01, max_depth=8, min_samples_leaf=20 ............\n",
      "[CV]  learning_rate=0.01, max_depth=6, min_samples_leaf=50, score=0.7976973684210525, total=   0.7s\n",
      "[CV]  learning_rate=0.01, max_depth=6, min_samples_leaf=150, score=0.8711036789297658, total=   0.4s\n",
      "[CV] learning_rate=0.01, max_depth=8, min_samples_leaf=50 ............\n",
      "[CV]  learning_rate=0.01, max_depth=6, min_samples_leaf=100, score=0.7748766447368421, total=   0.5s\n",
      "[CV] learning_rate=0.01, max_depth=8, min_samples_leaf=50 ............\n",
      "[CV] learning_rate=0.01, max_depth=8, min_samples_leaf=50 ............\n",
      "[CV]  learning_rate=0.01, max_depth=6, min_samples_leaf=20, score=0.8242914979757086, total=   0.9s\n",
      "[CV] learning_rate=0.01, max_depth=8, min_samples_leaf=100 ...........\n",
      "[CV]  learning_rate=0.01, max_depth=6, min_samples_leaf=20, score=0.8168561872909699, total=   0.9s\n",
      "[CV] learning_rate=0.01, max_depth=8, min_samples_leaf=100 ...........\n",
      "[CV]  learning_rate=0.01, max_depth=6, min_samples_leaf=20, score=0.7964638157894738, total=   1.0s\n",
      "[CV] learning_rate=0.01, max_depth=8, min_samples_leaf=100 ...........\n",
      "[CV]  learning_rate=0.01, max_depth=6, min_samples_leaf=150, score=0.7778234649122807, total=   0.5s\n",
      "[CV]  learning_rate=0.01, max_depth=8, min_samples_leaf=50, score=0.8379217273954117, total=   0.3s\n",
      "[CV] learning_rate=0.01, max_depth=8, min_samples_leaf=150 ...........\n",
      "[CV] learning_rate=0.01, max_depth=8, min_samples_leaf=150 ...........\n",
      "[CV]  learning_rate=0.01, max_depth=8, min_samples_leaf=100, score=0.8618060200668897, total=   0.4s\n",
      "[CV] learning_rate=0.01, max_depth=8, min_samples_leaf=150 ...........\n",
      "[CV]  learning_rate=0.01, max_depth=8, min_samples_leaf=50, score=0.7976973684210525, total=   0.6s\n",
      "[CV]  learning_rate=0.01, max_depth=8, min_samples_leaf=50, score=0.8422742474916388, total=   0.6s\n",
      "[CV]  learning_rate=0.01, max_depth=8, min_samples_leaf=100, score=0.8097165991902835, total=   0.5s\n",
      "[CV]  learning_rate=0.01, max_depth=8, min_samples_leaf=150, score=0.8711036789297658, total=   0.3s\n",
      "[CV]  learning_rate=0.01, max_depth=8, min_samples_leaf=150, score=0.8002699055330634, total=   0.3s\n",
      "[CV]  learning_rate=0.01, max_depth=8, min_samples_leaf=100, score=0.7748766447368421, total=   0.4s\n",
      "[CV]  learning_rate=0.01, max_depth=8, min_samples_leaf=20, score=0.8222672064777328, total=   0.9s\n",
      "[CV]  learning_rate=0.01, max_depth=8, min_samples_leaf=20, score=0.8218060200668896, total=   0.9s\n",
      "[CV]  learning_rate=0.01, max_depth=8, min_samples_leaf=150, score=0.7778234649122807, total=   0.2s\n",
      "[CV]  learning_rate=0.01, max_depth=8, min_samples_leaf=20, score=0.7930372807017545, total=   0.9s\n"
     ]
    },
    {
     "name": "stderr",
     "output_type": "stream",
     "text": [
      "[Parallel(n_jobs=10)]: Done 192 out of 192 | elapsed:   11.3s finished\n"
     ]
    },
    {
     "data": {
      "text/plain": [
       "Pipeline(memory=None,\n",
       "     steps=[('anova', SelectKBest(k=5, score_func=<function f_regression at 0x7f5cbb578d90>)), ('MinMax', MinMaxScaler(copy=True, feature_range=(0, 1))), ('gbm', GridSearchCV(cv=3, error_score='raise',\n",
       "       estimator=GradientBoostingClassifier(criterion='friedman_mse', init=None,\n",
       "              learning...e_dispatch='2*n_jobs', refit=True, return_train_score='warn',\n",
       "       scoring='roc_auc', verbose=3))])"
      ]
     },
     "execution_count": 66,
     "metadata": {},
     "output_type": "execute_result"
    }
   ],
   "source": [
    "gb_grid_params = {'learning_rate': [0.1, 0.05, 0.02, 0.01],\n",
    "              'max_depth': [2, 4, 6, 8],\n",
    "              'min_samples_leaf': [20, 50,100,150],\n",
    "              #'max_features': [1.0, 0.3, 0.1] \n",
    "              }\n",
    "print(gb_grid_params)\n",
    "\n",
    "gb_gs = GradientBoostingClassifier(n_estimators = 600)\n",
    "\n",
    "clf = GridSearchCV(gb_gs,\n",
    "                   gb_grid_params,\n",
    "                   cv=3,\n",
    "                   scoring='roc_auc',\n",
    "                   verbose = 3, \n",
    "                   n_jobs=10)\n",
    "\n",
    "anova_filter = SelectKBest(f_regression, k=5)\n",
    "\n",
    "anova_gbm = Pipeline([('anova', anova_filter), \n",
    "                      ('MinMax', MinMaxScaler()), \n",
    "                      ('gbm', clf)\n",
    "                     ])\n",
    "\n",
    "# You can set the parameters using the names issued\n",
    "# For instance, fit using a k of 10 in the SelectKBest\n",
    "# and a parameter 'C' of the svm\n",
    "anova_gbm.fit(X_train, y_train)\n",
    "\n",
    "\n"
   ]
  },
  {
   "cell_type": "code",
   "execution_count": 67,
   "metadata": {
    "scrolled": true
   },
   "outputs": [
    {
     "data": {
      "text/plain": [
       "'Accuracy: 0.87113 (+/- 0.00000)'"
      ]
     },
     "execution_count": 67,
     "metadata": {},
     "output_type": "execute_result"
    }
   ],
   "source": [
    "scores = anova_gbm.score(X, y)\n",
    "\"Accuracy: %0.5f (+/- %0.5f)\"%(scores.mean(), scores.std())"
   ]
  },
  {
   "cell_type": "code",
   "execution_count": 62,
   "metadata": {
    "collapsed": true
   },
   "outputs": [],
   "source": [
    "prediction = anova_gbm.predict(X_test)"
   ]
  },
  {
   "cell_type": "code",
   "execution_count": null,
   "metadata": {
    "collapsed": true
   },
   "outputs": [],
   "source": []
  }
 ],
 "metadata": {
  "hide_input": false,
  "kernelspec": {
   "display_name": "Python 3",
   "language": "python",
   "name": "python3"
  },
  "language_info": {
   "codemirror_mode": {
    "name": "ipython",
    "version": 3
   },
   "file_extension": ".py",
   "mimetype": "text/x-python",
   "name": "python",
   "nbconvert_exporter": "python",
   "pygments_lexer": "ipython3",
   "version": "3.6.4"
  },
  "nbTranslate": {
   "displayLangs": [
    "*"
   ],
   "hotkey": "alt-t",
   "langInMainMenu": true,
   "sourceLang": "en",
   "targetLang": "fr",
   "useGoogleTranslate": true
  },
  "toc": {
   "nav_menu": {},
   "number_sections": true,
   "sideBar": true,
   "skip_h1_title": false,
   "toc_cell": false,
   "toc_position": {},
   "toc_section_display": "block",
   "toc_window_display": false
  },
  "varInspector": {
   "cols": {
    "lenName": 16,
    "lenType": 16,
    "lenVar": 40
   },
   "kernels_config": {
    "python": {
     "delete_cmd_postfix": "",
     "delete_cmd_prefix": "del ",
     "library": "var_list.py",
     "varRefreshCmd": "print(var_dic_list())"
    },
    "r": {
     "delete_cmd_postfix": ") ",
     "delete_cmd_prefix": "rm(",
     "library": "var_list.r",
     "varRefreshCmd": "cat(var_dic_list()) "
    }
   },
   "types_to_exclude": [
    "module",
    "function",
    "builtin_function_or_method",
    "instance",
    "_Feature"
   ],
   "window_display": false
  }
 },
 "nbformat": 4,
 "nbformat_minor": 2
}
