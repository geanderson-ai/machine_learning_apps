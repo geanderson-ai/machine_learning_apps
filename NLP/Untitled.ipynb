{
 "cells": [
  {
   "cell_type": "code",
   "execution_count": null,
   "metadata": {},
   "outputs": [],
   "source": [
    "from nltk.stem import SnowballStemmer\n",
    " \n",
    "print(SnowballStemmer.languages)\n",
    "'danish', 'dutch', 'english', 'finnish', 'french', 'german', 'hungarian', 'italian', 'norwegian', 'porter', 'portuguese', 'romanian', 'russian', 'spanish', 'swedish'\n",
    "\n",
    "\n"
   ]
  },
  {
   "cell_type": "code",
   "execution_count": 3,
   "metadata": {},
   "outputs": [
    {
     "name": "stdout",
     "output_type": "stream",
     "text": [
      "eu vou para a copa do mund\n"
     ]
    }
   ],
   "source": [
    "from nltk.stem import SnowballStemmer\n",
    "french_stemmer = SnowballStemmer('portuguese')\n",
    "print(french_stemmer.stem(\"Eu vou para a Copa do Mundo\"))"
   ]
  },
  {
   "cell_type": "code",
   "execution_count": 4,
   "metadata": {},
   "outputs": [
    {
     "name": "stdout",
     "output_type": "stream",
     "text": [
      "french word\n"
     ]
    }
   ],
   "source": [
    "from nltk.stem import SnowballStemmer\n",
    " \n",
    "french_stemmer = SnowballStemmer('french')\n",
    " \n",
    "print(french_stemmer.stem(\"French word\"))"
   ]
  },
  {
   "cell_type": "code",
   "execution_count": 2,
   "metadata": {},
   "outputs": [
    {
     "name": "stdout",
     "output_type": "stream",
     "text": [
      "stone\n",
      "speak\n",
      "bedroom\n",
      "joke\n",
      "lisa\n",
      "purpl\n",
      "----------------------\n",
      "stone\n",
      "speaking\n",
      "bedroom\n",
      "joke\n",
      "lisa\n",
      "purple\n"
     ]
    }
   ],
   "source": [
    "from nltk.stem import WordNetLemmatizer\n",
    " \n",
    "from nltk.stem import PorterStemmer\n",
    " \n",
    "stemmer = PorterStemmer()\n",
    " \n",
    "lemmatizer = WordNetLemmatizer()\n",
    " \n",
    "print(stemmer.stem('stones'))\n",
    " \n",
    "print(stemmer.stem('speaking'))\n",
    " \n",
    "print(stemmer.stem('bedroom'))\n",
    " \n",
    "print(stemmer.stem('jokes'))\n",
    " \n",
    "print(stemmer.stem('lisa'))\n",
    " \n",
    "print(stemmer.stem('purple'))\n",
    " \n",
    "print('----------------------')\n",
    " \n",
    "print(lemmatizer.lemmatize('stones'))\n",
    " \n",
    "print(lemmatizer.lemmatize('speaking'))\n",
    " \n",
    "print(lemmatizer.lemmatize('bedroom'))\n",
    " \n",
    "print(lemmatizer.lemmatize('jokes'))\n",
    " \n",
    "print(lemmatizer.lemmatize('lisa'))\n",
    " \n",
    "print(lemmatizer.lemmatize('purple'))\n"
   ]
  },
  {
   "cell_type": "code",
   "execution_count": 1,
   "metadata": {},
   "outputs": [
    {
     "name": "stdout",
     "output_type": "stream",
     "text": [
      "a symptom of some physical hurt or disorder\n",
      "['the patient developed severe pain and distension']\n"
     ]
    }
   ],
   "source": [
    "from nltk.corpus import wordnet\n",
    " \n",
    "syn = wordnet.synsets(\"pain\")\n",
    " \n",
    "print(syn[0].definition())\n",
    " \n",
    "print(syn[0].examples())"
   ]
  },
  {
   "cell_type": "code",
   "execution_count": null,
   "metadata": {},
   "outputs": [],
   "source": []
  },
  {
   "cell_type": "code",
   "execution_count": null,
   "metadata": {},
   "outputs": [],
   "source": []
  },
  {
   "cell_type": "code",
   "execution_count": null,
   "metadata": {},
   "outputs": [
    {
     "name": "stderr",
     "output_type": "stream",
     "text": [
      " * Running on http://localhost:9000/ (Press CTRL+C to quit)\n",
      "127.0.0.1 - - [21/Mar/2018 18:01:01] \"POST /postagging HTTP/1.1\" 200 -\n",
      "127.0.0.1 - - [21/Mar/2018 18:03:55] \"GET /postagging HTTP/1.1\" 200 -\n",
      "127.0.0.1 - - [21/Mar/2018 18:03:59] \"POST /postagging HTTP/1.1\" 200 -\n"
     ]
    }
   ],
   "source": [
    "from werkzeug.wrappers import Request, Response\n",
    "from flask import Flask, request, render_template, jsonify\n",
    "from textblob import TextBlob\n",
    "import json\n",
    "import spacy\n",
    "\n",
    "nlp = spacy.load(\"en\")\n",
    "\n",
    "app = Flask(__name__)\n",
    "\n",
    "@app.route('/count')\n",
    "def my_form():\n",
    "    return render_template('forms.html')\n",
    "\n",
    "@app.route('/count', methods=['POST'])\n",
    "def my_form_post():\n",
    "    if request.method == 'POST':\n",
    "        text = request.form['text']\n",
    "        processed_text = text.upper()\n",
    "        count_text = text.count(\"oi\")\n",
    "        return jsonify ({'count': count_text})\n",
    "\n",
    "@app.route('/tags')\n",
    "def my_form2():\n",
    "    return render_template('forms2.html')\n",
    "\n",
    "\n",
    "@app.route('/tags', methods=['POST'])\n",
    "def tags():\n",
    "    if request.method == 'POST':\n",
    "        text = request.form['text2']\n",
    "        blob = TextBlob(text)\n",
    "        tags = blob.tags\n",
    "        return jsonify ({'tags': tags})\n",
    "\n",
    "@app.route('/tokenization')\n",
    "def my_form3():\n",
    "    return render_template('forms3.html')\n",
    "\n",
    "\n",
    "@app.route('/tokenization', methods=['POST'])\n",
    "def tokens():\n",
    "    if request.method == 'POST':\n",
    "        text = request.form['text3']\n",
    "        doc = nlp(text)\n",
    "        tokenization = [token.orth_ for token in doc]\n",
    "        return jsonify({'tokenization': tokenization})\n",
    "\n",
    "\n",
    "@app.route('/lemmatisation')\n",
    "def my_form4():\n",
    "    return render_template('forms4.html')\n",
    "\n",
    "@app.route('/lemmatisation', methods=['POST'])\n",
    "def lemma():\n",
    "    if request.method == 'POST':\n",
    "        text = request.form['text4']\n",
    "        doc = nlp(text)\n",
    "        lemmatisation = [word.lemma_ for word in doc]\n",
    "        return jsonify({'lemmatisation': lemmatisation})\n",
    "\n",
    "@app.route('/postagging')\n",
    "def my_form5():\n",
    "    return render_template('forms5.html')\n",
    "\n",
    "@app.route('/postagging', methods=['POST'])\n",
    "def postag():\n",
    "    if request.method == 'POST':\n",
    "        text = request.form['text5']\n",
    "        #tagging = []\n",
    "        doc = nlp(text)\n",
    "        tokenization = [token.orth_ for token in doc]\n",
    "        postagging = [i.tag_ for i in doc]\n",
    "        return jsonify({'postagging': postagging})\n",
    "\n",
    "if __name__ == '__main__':\n",
    "    from werkzeug.serving import run_simple\n",
    "    run_simple('localhost', 9000, app)\n",
    "    app.run(debug=True)"
   ]
  },
  {
   "cell_type": "code",
   "execution_count": 13,
   "metadata": {},
   "outputs": [],
   "source": [
    "from textblob import TextBlob"
   ]
  },
  {
   "cell_type": "code",
   "execution_count": 19,
   "metadata": {},
   "outputs": [
    {
     "name": "stderr",
     "output_type": "stream",
     "text": [
      " * Running on http://localhost:9000/ (Press CTRL+C to quit)\n",
      "127.0.0.1 - - [21/Mar/2018 17:54:02] \"GET / HTTP/1.1\" 200 -\n",
      "127.0.0.1 - - [21/Mar/2018 17:54:02] \"GET /favicon.ico HTTP/1.1\" 404 -\n"
     ]
    }
   ],
   "source": [
    "from werkzeug.wrappers import Request, Response\n",
    "from flask import Flask\n",
    "\n",
    "app = Flask(__name__)\n",
    "\n",
    "@app.route(\"/\")\n",
    "def hello():\n",
    "    return \"Hello World!\"\n",
    "\n",
    "if __name__ == '__main__':\n",
    "    from werkzeug.serving import run_simple\n",
    "    run_simple('localhost', 9000, app)"
   ]
  },
  {
   "cell_type": "code",
   "execution_count": null,
   "metadata": {},
   "outputs": [],
   "source": []
  }
 ],
 "metadata": {
  "kernelspec": {
   "display_name": "Python 3",
   "language": "python",
   "name": "python3"
  },
  "language_info": {
   "codemirror_mode": {
    "name": "ipython",
    "version": 3
   },
   "file_extension": ".py",
   "mimetype": "text/x-python",
   "name": "python",
   "nbconvert_exporter": "python",
   "pygments_lexer": "ipython3",
   "version": "3.6.4"
  }
 },
 "nbformat": 4,
 "nbformat_minor": 2
}
