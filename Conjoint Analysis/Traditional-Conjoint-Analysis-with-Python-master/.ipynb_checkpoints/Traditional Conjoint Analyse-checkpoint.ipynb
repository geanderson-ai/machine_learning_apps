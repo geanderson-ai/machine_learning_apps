{
 "cells": [
  {
   "cell_type": "markdown",
   "metadata": {},
   "source": [
    "Conjoint Analysis - Step by Step\n",
    "\n",
    "1. Fazer o ranking dos estímulos em conjunto\n",
    "2. Transformar cada linha do conjunto de estímulos em dummy variável\n",
    "3. Estimar os efeitos principais com regressão linear (se for ranking), \n",
    "ou estimar com logit ou probit se a decisão é 1=choose ou 2=notchoose\n",
    "4. Variável dependente (y) é o ranking\n",
    "5. Variável independente (X) são os estímulos em forma de dummy\n"
   ]
  },
  {
   "cell_type": "code",
   "execution_count": 1,
   "metadata": {
    "ExecuteTime": {
     "end_time": "2018-06-06T19:02:45.777263Z",
     "start_time": "2018-06-06T19:02:44.592607Z"
    }
   },
   "outputs": [],
   "source": [
    "import numpy as np\n",
    "import pandas as pd"
   ]
  },
  {
   "cell_type": "code",
   "execution_count": 2,
   "metadata": {
    "ExecuteTime": {
     "end_time": "2018-06-06T19:02:45.821553Z",
     "start_time": "2018-06-06T19:02:45.781306Z"
    }
   },
   "outputs": [],
   "source": [
    "caInputeDF = pd.read_csv(\"ConjointInput.csv\", sep = \";\")"
   ]
  },
  {
   "cell_type": "markdown",
   "metadata": {},
   "source": [
    "Input = a ranking of 3 different features (TV Size, TV Type, TV Color) with 3(32\",37\",42\")<br>\n",
    ", 2 (LCD, Plasma), 3(Black, Silver, Anthrazit) different stimuli types."
   ]
  },
  {
   "cell_type": "code",
   "execution_count": 3,
   "metadata": {
    "ExecuteTime": {
     "end_time": "2018-06-06T19:02:46.313248Z",
     "start_time": "2018-06-06T19:02:46.271874Z"
    },
    "scrolled": true
   },
   "outputs": [
    {
     "data": {
      "text/html": [
       "<div>\n",
       "<style scoped>\n",
       "    .dataframe tbody tr th:only-of-type {\n",
       "        vertical-align: middle;\n",
       "    }\n",
       "\n",
       "    .dataframe tbody tr th {\n",
       "        vertical-align: top;\n",
       "    }\n",
       "\n",
       "    .dataframe thead th {\n",
       "        text-align: right;\n",
       "    }\n",
       "</style>\n",
       "<table border=\"1\" class=\"dataframe\">\n",
       "  <thead>\n",
       "    <tr style=\"text-align: right;\">\n",
       "      <th></th>\n",
       "      <th>Stimulus</th>\n",
       "      <th>Rank</th>\n",
       "    </tr>\n",
       "  </thead>\n",
       "  <tbody>\n",
       "    <tr>\n",
       "      <th>0</th>\n",
       "      <td>A1B1C1</td>\n",
       "      <td>2</td>\n",
       "    </tr>\n",
       "    <tr>\n",
       "      <th>1</th>\n",
       "      <td>A1B1C2</td>\n",
       "      <td>3</td>\n",
       "    </tr>\n",
       "    <tr>\n",
       "      <th>2</th>\n",
       "      <td>A1B1C3</td>\n",
       "      <td>1</td>\n",
       "    </tr>\n",
       "    <tr>\n",
       "      <th>3</th>\n",
       "      <td>A1B2C1</td>\n",
       "      <td>5</td>\n",
       "    </tr>\n",
       "    <tr>\n",
       "      <th>4</th>\n",
       "      <td>A1B2C2</td>\n",
       "      <td>6</td>\n",
       "    </tr>\n",
       "    <tr>\n",
       "      <th>5</th>\n",
       "      <td>A1B2C3</td>\n",
       "      <td>4</td>\n",
       "    </tr>\n",
       "    <tr>\n",
       "      <th>6</th>\n",
       "      <td>A2B1C1</td>\n",
       "      <td>8</td>\n",
       "    </tr>\n",
       "    <tr>\n",
       "      <th>7</th>\n",
       "      <td>A2B1C2</td>\n",
       "      <td>9</td>\n",
       "    </tr>\n",
       "    <tr>\n",
       "      <th>8</th>\n",
       "      <td>A2B1C3</td>\n",
       "      <td>7</td>\n",
       "    </tr>\n",
       "    <tr>\n",
       "      <th>9</th>\n",
       "      <td>A2B2C1</td>\n",
       "      <td>11</td>\n",
       "    </tr>\n",
       "    <tr>\n",
       "      <th>10</th>\n",
       "      <td>A2B2C2</td>\n",
       "      <td>12</td>\n",
       "    </tr>\n",
       "    <tr>\n",
       "      <th>11</th>\n",
       "      <td>A2B2C3</td>\n",
       "      <td>10</td>\n",
       "    </tr>\n",
       "    <tr>\n",
       "      <th>12</th>\n",
       "      <td>A3B1C1</td>\n",
       "      <td>14</td>\n",
       "    </tr>\n",
       "    <tr>\n",
       "      <th>13</th>\n",
       "      <td>A3B1C2</td>\n",
       "      <td>15</td>\n",
       "    </tr>\n",
       "    <tr>\n",
       "      <th>14</th>\n",
       "      <td>A3B1C3</td>\n",
       "      <td>13</td>\n",
       "    </tr>\n",
       "    <tr>\n",
       "      <th>15</th>\n",
       "      <td>A3B2C1</td>\n",
       "      <td>17</td>\n",
       "    </tr>\n",
       "    <tr>\n",
       "      <th>16</th>\n",
       "      <td>A3B2C2</td>\n",
       "      <td>18</td>\n",
       "    </tr>\n",
       "    <tr>\n",
       "      <th>17</th>\n",
       "      <td>A3B2C3</td>\n",
       "      <td>16</td>\n",
       "    </tr>\n",
       "  </tbody>\n",
       "</table>\n",
       "</div>"
      ],
      "text/plain": [
       "   Stimulus  Rank\n",
       "0    A1B1C1     2\n",
       "1    A1B1C2     3\n",
       "2    A1B1C3     1\n",
       "3    A1B2C1     5\n",
       "4    A1B2C2     6\n",
       "5    A1B2C3     4\n",
       "6    A2B1C1     8\n",
       "7    A2B1C2     9\n",
       "8    A2B1C3     7\n",
       "9    A2B2C1    11\n",
       "10   A2B2C2    12\n",
       "11   A2B2C3    10\n",
       "12   A3B1C1    14\n",
       "13   A3B1C2    15\n",
       "14   A3B1C3    13\n",
       "15   A3B2C1    17\n",
       "16   A3B2C2    18\n",
       "17   A3B2C3    16"
      ]
     },
     "execution_count": 3,
     "metadata": {},
     "output_type": "execute_result"
    }
   ],
   "source": [
    "\n",
    "caInputeDF"
   ]
  },
  {
   "cell_type": "markdown",
   "metadata": {},
   "source": [
    "## First step is to introduce dummy variables for every stimulus<p>\n",
    "There are in total 9 differen stimuli, and 18 different combinations\n"
   ]
  },
  {
   "cell_type": "code",
   "execution_count": 4,
   "metadata": {
    "ExecuteTime": {
     "end_time": "2018-06-06T19:02:50.480710Z",
     "start_time": "2018-06-06T19:02:50.475102Z"
    }
   },
   "outputs": [],
   "source": [
    "ConjointDummyDF = pd.DataFrame(np.zeros((18,9)), columns=[\"Rank\",\"A1\", \"A2\", \"A3\",\n",
    "                                                    \"B1\",\"B2\", \n",
    "                                                    \"C1\", \"C2\",\n",
    "                                                    \"C3\"])"
   ]
  },
  {
   "cell_type": "code",
   "execution_count": 5,
   "metadata": {
    "ExecuteTime": {
     "end_time": "2018-06-06T19:02:51.022194Z",
     "start_time": "2018-06-06T19:02:50.969346Z"
    }
   },
   "outputs": [
    {
     "name": "stderr",
     "output_type": "stream",
     "text": [
      "/anaconda3/lib/python3.6/site-packages/ipykernel_launcher.py:4: DeprecationWarning: \n",
      ".ix is deprecated. Please use\n",
      ".loc for label based indexing or\n",
      ".iloc for positional indexing\n",
      "\n",
      "See the documentation here:\n",
      "http://pandas.pydata.org/pandas-docs/stable/indexing.html#ix-indexer-is-deprecated\n",
      "  after removing the cwd from sys.path.\n",
      "/anaconda3/lib/python3.6/site-packages/ipykernel_launcher.py:7: DeprecationWarning: \n",
      ".ix is deprecated. Please use\n",
      ".loc for label based indexing or\n",
      ".iloc for positional indexing\n",
      "\n",
      "See the documentation here:\n",
      "http://pandas.pydata.org/pandas-docs/stable/indexing.html#ix-indexer-is-deprecated\n",
      "  import sys\n"
     ]
    }
   ],
   "source": [
    "ConjointDummyDF.Rank = caInputeDF.Rank\n",
    "\n",
    "for index, row in caInputeDF.iterrows(): \n",
    "    stimuli1, stimuli2, stimuli3 = caInputeDF[\"Stimulus\"].ix[index][:2], \\\n",
    "    caInputeDF[\"Stimulus\"].ix[index][2:4], caInputeDF[\"Stimulus\"].ix[index][4:6]\n",
    "    \n",
    "    \n",
    "    ConjointDummyDF.ix[index, [stimuli1,stimuli2,stimuli3]] = 1"
   ]
  },
  {
   "cell_type": "code",
   "execution_count": 6,
   "metadata": {
    "ExecuteTime": {
     "end_time": "2018-06-06T19:02:54.695019Z",
     "start_time": "2018-06-06T19:02:54.670862Z"
    },
    "scrolled": true
   },
   "outputs": [
    {
     "data": {
      "text/html": [
       "<div>\n",
       "<style scoped>\n",
       "    .dataframe tbody tr th:only-of-type {\n",
       "        vertical-align: middle;\n",
       "    }\n",
       "\n",
       "    .dataframe tbody tr th {\n",
       "        vertical-align: top;\n",
       "    }\n",
       "\n",
       "    .dataframe thead th {\n",
       "        text-align: right;\n",
       "    }\n",
       "</style>\n",
       "<table border=\"1\" class=\"dataframe\">\n",
       "  <thead>\n",
       "    <tr style=\"text-align: right;\">\n",
       "      <th></th>\n",
       "      <th>Rank</th>\n",
       "      <th>A1</th>\n",
       "      <th>A2</th>\n",
       "      <th>A3</th>\n",
       "      <th>B1</th>\n",
       "      <th>B2</th>\n",
       "      <th>C1</th>\n",
       "      <th>C2</th>\n",
       "      <th>C3</th>\n",
       "    </tr>\n",
       "  </thead>\n",
       "  <tbody>\n",
       "    <tr>\n",
       "      <th>0</th>\n",
       "      <td>2</td>\n",
       "      <td>1.0</td>\n",
       "      <td>0.0</td>\n",
       "      <td>0.0</td>\n",
       "      <td>1.0</td>\n",
       "      <td>0.0</td>\n",
       "      <td>1.0</td>\n",
       "      <td>0.0</td>\n",
       "      <td>0.0</td>\n",
       "    </tr>\n",
       "    <tr>\n",
       "      <th>1</th>\n",
       "      <td>3</td>\n",
       "      <td>1.0</td>\n",
       "      <td>0.0</td>\n",
       "      <td>0.0</td>\n",
       "      <td>1.0</td>\n",
       "      <td>0.0</td>\n",
       "      <td>0.0</td>\n",
       "      <td>1.0</td>\n",
       "      <td>0.0</td>\n",
       "    </tr>\n",
       "    <tr>\n",
       "      <th>2</th>\n",
       "      <td>1</td>\n",
       "      <td>1.0</td>\n",
       "      <td>0.0</td>\n",
       "      <td>0.0</td>\n",
       "      <td>1.0</td>\n",
       "      <td>0.0</td>\n",
       "      <td>0.0</td>\n",
       "      <td>0.0</td>\n",
       "      <td>1.0</td>\n",
       "    </tr>\n",
       "    <tr>\n",
       "      <th>3</th>\n",
       "      <td>5</td>\n",
       "      <td>1.0</td>\n",
       "      <td>0.0</td>\n",
       "      <td>0.0</td>\n",
       "      <td>0.0</td>\n",
       "      <td>1.0</td>\n",
       "      <td>1.0</td>\n",
       "      <td>0.0</td>\n",
       "      <td>0.0</td>\n",
       "    </tr>\n",
       "    <tr>\n",
       "      <th>4</th>\n",
       "      <td>6</td>\n",
       "      <td>1.0</td>\n",
       "      <td>0.0</td>\n",
       "      <td>0.0</td>\n",
       "      <td>0.0</td>\n",
       "      <td>1.0</td>\n",
       "      <td>0.0</td>\n",
       "      <td>1.0</td>\n",
       "      <td>0.0</td>\n",
       "    </tr>\n",
       "  </tbody>\n",
       "</table>\n",
       "</div>"
      ],
      "text/plain": [
       "   Rank   A1   A2   A3   B1   B2   C1   C2   C3\n",
       "0     2  1.0  0.0  0.0  1.0  0.0  1.0  0.0  0.0\n",
       "1     3  1.0  0.0  0.0  1.0  0.0  0.0  1.0  0.0\n",
       "2     1  1.0  0.0  0.0  1.0  0.0  0.0  0.0  1.0\n",
       "3     5  1.0  0.0  0.0  0.0  1.0  1.0  0.0  0.0\n",
       "4     6  1.0  0.0  0.0  0.0  1.0  0.0  1.0  0.0"
      ]
     },
     "execution_count": 6,
     "metadata": {},
     "output_type": "execute_result"
    }
   ],
   "source": [
    "ConjointDummyDF.head()"
   ]
  },
  {
   "cell_type": "markdown",
   "metadata": {},
   "source": [
    "## Insert the proper Stimulus names"
   ]
  },
  {
   "cell_type": "code",
   "execution_count": 7,
   "metadata": {
    "ExecuteTime": {
     "end_time": "2018-06-06T19:02:55.863746Z",
     "start_time": "2018-06-06T19:02:55.856890Z"
    }
   },
   "outputs": [],
   "source": [
    "fullNames = {\"Rank\":\"Rank\", \\\n",
    "           \"A1\": \"32\\\" (81cm)\",\"A2\": \"37\\\" (94cm)\",\"A3\": \"42\\\" (107cm)\", \\\n",
    "          \"B1\": \"Plasma\", \"B2\":\"LCD\", \\\n",
    "           \"C1\":\"Silver\", \"C2\":\"Black\", \"C3\": \"Anthrazit\",\\\n",
    "          }\n",
    "\n",
    "ConjointDummyDF.rename(columns=fullNames, inplace=True)"
   ]
  },
  {
   "cell_type": "code",
   "execution_count": 8,
   "metadata": {
    "ExecuteTime": {
     "end_time": "2018-06-06T19:02:56.915562Z",
     "start_time": "2018-06-06T19:02:56.891523Z"
    }
   },
   "outputs": [
    {
     "data": {
      "text/html": [
       "<div>\n",
       "<style scoped>\n",
       "    .dataframe tbody tr th:only-of-type {\n",
       "        vertical-align: middle;\n",
       "    }\n",
       "\n",
       "    .dataframe tbody tr th {\n",
       "        vertical-align: top;\n",
       "    }\n",
       "\n",
       "    .dataframe thead th {\n",
       "        text-align: right;\n",
       "    }\n",
       "</style>\n",
       "<table border=\"1\" class=\"dataframe\">\n",
       "  <thead>\n",
       "    <tr style=\"text-align: right;\">\n",
       "      <th></th>\n",
       "      <th>Rank</th>\n",
       "      <th>32\" (81cm)</th>\n",
       "      <th>37\" (94cm)</th>\n",
       "      <th>42\" (107cm)</th>\n",
       "      <th>Plasma</th>\n",
       "      <th>LCD</th>\n",
       "      <th>Silver</th>\n",
       "      <th>Black</th>\n",
       "      <th>Anthrazit</th>\n",
       "    </tr>\n",
       "  </thead>\n",
       "  <tbody>\n",
       "    <tr>\n",
       "      <th>0</th>\n",
       "      <td>2</td>\n",
       "      <td>1.0</td>\n",
       "      <td>0.0</td>\n",
       "      <td>0.0</td>\n",
       "      <td>1.0</td>\n",
       "      <td>0.0</td>\n",
       "      <td>1.0</td>\n",
       "      <td>0.0</td>\n",
       "      <td>0.0</td>\n",
       "    </tr>\n",
       "    <tr>\n",
       "      <th>1</th>\n",
       "      <td>3</td>\n",
       "      <td>1.0</td>\n",
       "      <td>0.0</td>\n",
       "      <td>0.0</td>\n",
       "      <td>1.0</td>\n",
       "      <td>0.0</td>\n",
       "      <td>0.0</td>\n",
       "      <td>1.0</td>\n",
       "      <td>0.0</td>\n",
       "    </tr>\n",
       "    <tr>\n",
       "      <th>2</th>\n",
       "      <td>1</td>\n",
       "      <td>1.0</td>\n",
       "      <td>0.0</td>\n",
       "      <td>0.0</td>\n",
       "      <td>1.0</td>\n",
       "      <td>0.0</td>\n",
       "      <td>0.0</td>\n",
       "      <td>0.0</td>\n",
       "      <td>1.0</td>\n",
       "    </tr>\n",
       "    <tr>\n",
       "      <th>3</th>\n",
       "      <td>5</td>\n",
       "      <td>1.0</td>\n",
       "      <td>0.0</td>\n",
       "      <td>0.0</td>\n",
       "      <td>0.0</td>\n",
       "      <td>1.0</td>\n",
       "      <td>1.0</td>\n",
       "      <td>0.0</td>\n",
       "      <td>0.0</td>\n",
       "    </tr>\n",
       "    <tr>\n",
       "      <th>4</th>\n",
       "      <td>6</td>\n",
       "      <td>1.0</td>\n",
       "      <td>0.0</td>\n",
       "      <td>0.0</td>\n",
       "      <td>0.0</td>\n",
       "      <td>1.0</td>\n",
       "      <td>0.0</td>\n",
       "      <td>1.0</td>\n",
       "      <td>0.0</td>\n",
       "    </tr>\n",
       "  </tbody>\n",
       "</table>\n",
       "</div>"
      ],
      "text/plain": [
       "   Rank  32\" (81cm)  37\" (94cm)  42\" (107cm)  Plasma  LCD  Silver  Black  \\\n",
       "0     2         1.0         0.0          0.0     1.0  0.0     1.0    0.0   \n",
       "1     3         1.0         0.0          0.0     1.0  0.0     0.0    1.0   \n",
       "2     1         1.0         0.0          0.0     1.0  0.0     0.0    0.0   \n",
       "3     5         1.0         0.0          0.0     0.0  1.0     1.0    0.0   \n",
       "4     6         1.0         0.0          0.0     0.0  1.0     0.0    1.0   \n",
       "\n",
       "   Anthrazit  \n",
       "0        0.0  \n",
       "1        0.0  \n",
       "2        1.0  \n",
       "3        0.0  \n",
       "4        0.0  "
      ]
     },
     "execution_count": 8,
     "metadata": {},
     "output_type": "execute_result"
    }
   ],
   "source": [
    "ConjointDummyDF.head()"
   ]
  },
  {
   "cell_type": "markdown",
   "metadata": {},
   "source": [
    "## Estimate Main Effects with a linear regression\n",
    "<p>\n",
    "\n",
    "There are different ways for parameter estimation beside linear regression depending on what kind of rating you have.<br>\n",
    "For example using Probit or Logit is the output is not a rank but a decision (1=chose stimulus, 0 = no choice)."
   ]
  },
  {
   "cell_type": "code",
   "execution_count": 9,
   "metadata": {
    "ExecuteTime": {
     "end_time": "2018-06-06T19:03:03.464253Z",
     "start_time": "2018-06-06T19:03:01.571039Z"
    }
   },
   "outputs": [
    {
     "name": "stderr",
     "output_type": "stream",
     "text": [
      "/anaconda3/lib/python3.6/site-packages/statsmodels/compat/pandas.py:56: FutureWarning: The pandas.core.datetools module is deprecated and will be removed in a future version. Please use the pandas.tseries module instead.\n",
      "  from pandas.core import datetools\n"
     ]
    }
   ],
   "source": [
    "import statsmodels.api as sm"
   ]
  },
  {
   "cell_type": "code",
   "execution_count": 10,
   "metadata": {
    "ExecuteTime": {
     "end_time": "2018-06-06T19:03:03.485929Z",
     "start_time": "2018-06-06T19:03:03.467490Z"
    }
   },
   "outputs": [
    {
     "data": {
      "text/plain": [
       "Index(['Rank', '32\" (81cm)', '37\" (94cm)', '42\" (107cm)', 'Plasma', 'LCD',\n",
       "       'Silver', 'Black', 'Anthrazit'],\n",
       "      dtype='object')"
      ]
     },
     "execution_count": 10,
     "metadata": {},
     "output_type": "execute_result"
    }
   ],
   "source": [
    "ConjointDummyDF.columns"
   ]
  },
  {
   "cell_type": "code",
   "execution_count": 11,
   "metadata": {
    "ExecuteTime": {
     "end_time": "2018-06-06T19:03:04.365909Z",
     "start_time": "2018-06-06T19:03:04.349870Z"
    }
   },
   "outputs": [],
   "source": [
    "X = ConjointDummyDF[[u'32\" (81cm)', u'37\" (94cm)', u'42\" (107cm)', u'Plasma',\\\n",
    "       u'LCD', u'Silver', u'Black', u'Anthrazit']]\n",
    "X = sm.add_constant(X)\n",
    "Y = ConjointDummyDF.Rank"
   ]
  },
  {
   "cell_type": "code",
   "execution_count": 12,
   "metadata": {
    "ExecuteTime": {
     "end_time": "2018-06-06T19:03:06.860623Z",
     "start_time": "2018-06-06T19:03:06.852092Z"
    }
   },
   "outputs": [
    {
     "data": {
      "text/plain": [
       "0      2\n",
       "1      3\n",
       "2      1\n",
       "3      5\n",
       "4      6\n",
       "5      4\n",
       "6      8\n",
       "7      9\n",
       "8      7\n",
       "9     11\n",
       "10    12\n",
       "11    10\n",
       "12    14\n",
       "13    15\n",
       "14    13\n",
       "15    17\n",
       "16    18\n",
       "17    16\n",
       "Name: Rank, dtype: int64"
      ]
     },
     "execution_count": 12,
     "metadata": {},
     "output_type": "execute_result"
    }
   ],
   "source": [
    "Y"
   ]
  },
  {
   "cell_type": "code",
   "execution_count": 13,
   "metadata": {
    "ExecuteTime": {
     "end_time": "2018-06-06T19:03:20.669236Z",
     "start_time": "2018-06-06T19:03:20.643040Z"
    }
   },
   "outputs": [
    {
     "data": {
      "text/html": [
       "<div>\n",
       "<style scoped>\n",
       "    .dataframe tbody tr th:only-of-type {\n",
       "        vertical-align: middle;\n",
       "    }\n",
       "\n",
       "    .dataframe tbody tr th {\n",
       "        vertical-align: top;\n",
       "    }\n",
       "\n",
       "    .dataframe thead th {\n",
       "        text-align: right;\n",
       "    }\n",
       "</style>\n",
       "<table border=\"1\" class=\"dataframe\">\n",
       "  <thead>\n",
       "    <tr style=\"text-align: right;\">\n",
       "      <th></th>\n",
       "      <th>const</th>\n",
       "      <th>32\" (81cm)</th>\n",
       "      <th>37\" (94cm)</th>\n",
       "      <th>42\" (107cm)</th>\n",
       "      <th>Plasma</th>\n",
       "      <th>LCD</th>\n",
       "      <th>Silver</th>\n",
       "      <th>Black</th>\n",
       "      <th>Anthrazit</th>\n",
       "    </tr>\n",
       "  </thead>\n",
       "  <tbody>\n",
       "    <tr>\n",
       "      <th>0</th>\n",
       "      <td>1.0</td>\n",
       "      <td>1.0</td>\n",
       "      <td>0.0</td>\n",
       "      <td>0.0</td>\n",
       "      <td>1.0</td>\n",
       "      <td>0.0</td>\n",
       "      <td>1.0</td>\n",
       "      <td>0.0</td>\n",
       "      <td>0.0</td>\n",
       "    </tr>\n",
       "    <tr>\n",
       "      <th>1</th>\n",
       "      <td>1.0</td>\n",
       "      <td>1.0</td>\n",
       "      <td>0.0</td>\n",
       "      <td>0.0</td>\n",
       "      <td>1.0</td>\n",
       "      <td>0.0</td>\n",
       "      <td>0.0</td>\n",
       "      <td>1.0</td>\n",
       "      <td>0.0</td>\n",
       "    </tr>\n",
       "    <tr>\n",
       "      <th>2</th>\n",
       "      <td>1.0</td>\n",
       "      <td>1.0</td>\n",
       "      <td>0.0</td>\n",
       "      <td>0.0</td>\n",
       "      <td>1.0</td>\n",
       "      <td>0.0</td>\n",
       "      <td>0.0</td>\n",
       "      <td>0.0</td>\n",
       "      <td>1.0</td>\n",
       "    </tr>\n",
       "    <tr>\n",
       "      <th>3</th>\n",
       "      <td>1.0</td>\n",
       "      <td>1.0</td>\n",
       "      <td>0.0</td>\n",
       "      <td>0.0</td>\n",
       "      <td>0.0</td>\n",
       "      <td>1.0</td>\n",
       "      <td>1.0</td>\n",
       "      <td>0.0</td>\n",
       "      <td>0.0</td>\n",
       "    </tr>\n",
       "    <tr>\n",
       "      <th>4</th>\n",
       "      <td>1.0</td>\n",
       "      <td>1.0</td>\n",
       "      <td>0.0</td>\n",
       "      <td>0.0</td>\n",
       "      <td>0.0</td>\n",
       "      <td>1.0</td>\n",
       "      <td>0.0</td>\n",
       "      <td>1.0</td>\n",
       "      <td>0.0</td>\n",
       "    </tr>\n",
       "    <tr>\n",
       "      <th>5</th>\n",
       "      <td>1.0</td>\n",
       "      <td>1.0</td>\n",
       "      <td>0.0</td>\n",
       "      <td>0.0</td>\n",
       "      <td>0.0</td>\n",
       "      <td>1.0</td>\n",
       "      <td>0.0</td>\n",
       "      <td>0.0</td>\n",
       "      <td>1.0</td>\n",
       "    </tr>\n",
       "    <tr>\n",
       "      <th>6</th>\n",
       "      <td>1.0</td>\n",
       "      <td>0.0</td>\n",
       "      <td>1.0</td>\n",
       "      <td>0.0</td>\n",
       "      <td>1.0</td>\n",
       "      <td>0.0</td>\n",
       "      <td>1.0</td>\n",
       "      <td>0.0</td>\n",
       "      <td>0.0</td>\n",
       "    </tr>\n",
       "    <tr>\n",
       "      <th>7</th>\n",
       "      <td>1.0</td>\n",
       "      <td>0.0</td>\n",
       "      <td>1.0</td>\n",
       "      <td>0.0</td>\n",
       "      <td>1.0</td>\n",
       "      <td>0.0</td>\n",
       "      <td>0.0</td>\n",
       "      <td>1.0</td>\n",
       "      <td>0.0</td>\n",
       "    </tr>\n",
       "    <tr>\n",
       "      <th>8</th>\n",
       "      <td>1.0</td>\n",
       "      <td>0.0</td>\n",
       "      <td>1.0</td>\n",
       "      <td>0.0</td>\n",
       "      <td>1.0</td>\n",
       "      <td>0.0</td>\n",
       "      <td>0.0</td>\n",
       "      <td>0.0</td>\n",
       "      <td>1.0</td>\n",
       "    </tr>\n",
       "    <tr>\n",
       "      <th>9</th>\n",
       "      <td>1.0</td>\n",
       "      <td>0.0</td>\n",
       "      <td>1.0</td>\n",
       "      <td>0.0</td>\n",
       "      <td>0.0</td>\n",
       "      <td>1.0</td>\n",
       "      <td>1.0</td>\n",
       "      <td>0.0</td>\n",
       "      <td>0.0</td>\n",
       "    </tr>\n",
       "    <tr>\n",
       "      <th>10</th>\n",
       "      <td>1.0</td>\n",
       "      <td>0.0</td>\n",
       "      <td>1.0</td>\n",
       "      <td>0.0</td>\n",
       "      <td>0.0</td>\n",
       "      <td>1.0</td>\n",
       "      <td>0.0</td>\n",
       "      <td>1.0</td>\n",
       "      <td>0.0</td>\n",
       "    </tr>\n",
       "    <tr>\n",
       "      <th>11</th>\n",
       "      <td>1.0</td>\n",
       "      <td>0.0</td>\n",
       "      <td>1.0</td>\n",
       "      <td>0.0</td>\n",
       "      <td>0.0</td>\n",
       "      <td>1.0</td>\n",
       "      <td>0.0</td>\n",
       "      <td>0.0</td>\n",
       "      <td>1.0</td>\n",
       "    </tr>\n",
       "    <tr>\n",
       "      <th>12</th>\n",
       "      <td>1.0</td>\n",
       "      <td>0.0</td>\n",
       "      <td>0.0</td>\n",
       "      <td>1.0</td>\n",
       "      <td>1.0</td>\n",
       "      <td>0.0</td>\n",
       "      <td>1.0</td>\n",
       "      <td>0.0</td>\n",
       "      <td>0.0</td>\n",
       "    </tr>\n",
       "    <tr>\n",
       "      <th>13</th>\n",
       "      <td>1.0</td>\n",
       "      <td>0.0</td>\n",
       "      <td>0.0</td>\n",
       "      <td>1.0</td>\n",
       "      <td>1.0</td>\n",
       "      <td>0.0</td>\n",
       "      <td>0.0</td>\n",
       "      <td>1.0</td>\n",
       "      <td>0.0</td>\n",
       "    </tr>\n",
       "    <tr>\n",
       "      <th>14</th>\n",
       "      <td>1.0</td>\n",
       "      <td>0.0</td>\n",
       "      <td>0.0</td>\n",
       "      <td>1.0</td>\n",
       "      <td>1.0</td>\n",
       "      <td>0.0</td>\n",
       "      <td>0.0</td>\n",
       "      <td>0.0</td>\n",
       "      <td>1.0</td>\n",
       "    </tr>\n",
       "    <tr>\n",
       "      <th>15</th>\n",
       "      <td>1.0</td>\n",
       "      <td>0.0</td>\n",
       "      <td>0.0</td>\n",
       "      <td>1.0</td>\n",
       "      <td>0.0</td>\n",
       "      <td>1.0</td>\n",
       "      <td>1.0</td>\n",
       "      <td>0.0</td>\n",
       "      <td>0.0</td>\n",
       "    </tr>\n",
       "    <tr>\n",
       "      <th>16</th>\n",
       "      <td>1.0</td>\n",
       "      <td>0.0</td>\n",
       "      <td>0.0</td>\n",
       "      <td>1.0</td>\n",
       "      <td>0.0</td>\n",
       "      <td>1.0</td>\n",
       "      <td>0.0</td>\n",
       "      <td>1.0</td>\n",
       "      <td>0.0</td>\n",
       "    </tr>\n",
       "    <tr>\n",
       "      <th>17</th>\n",
       "      <td>1.0</td>\n",
       "      <td>0.0</td>\n",
       "      <td>0.0</td>\n",
       "      <td>1.0</td>\n",
       "      <td>0.0</td>\n",
       "      <td>1.0</td>\n",
       "      <td>0.0</td>\n",
       "      <td>0.0</td>\n",
       "      <td>1.0</td>\n",
       "    </tr>\n",
       "  </tbody>\n",
       "</table>\n",
       "</div>"
      ],
      "text/plain": [
       "    const  32\" (81cm)  37\" (94cm)  42\" (107cm)  Plasma  LCD  Silver  Black  \\\n",
       "0     1.0         1.0         0.0          0.0     1.0  0.0     1.0    0.0   \n",
       "1     1.0         1.0         0.0          0.0     1.0  0.0     0.0    1.0   \n",
       "2     1.0         1.0         0.0          0.0     1.0  0.0     0.0    0.0   \n",
       "3     1.0         1.0         0.0          0.0     0.0  1.0     1.0    0.0   \n",
       "4     1.0         1.0         0.0          0.0     0.0  1.0     0.0    1.0   \n",
       "5     1.0         1.0         0.0          0.0     0.0  1.0     0.0    0.0   \n",
       "6     1.0         0.0         1.0          0.0     1.0  0.0     1.0    0.0   \n",
       "7     1.0         0.0         1.0          0.0     1.0  0.0     0.0    1.0   \n",
       "8     1.0         0.0         1.0          0.0     1.0  0.0     0.0    0.0   \n",
       "9     1.0         0.0         1.0          0.0     0.0  1.0     1.0    0.0   \n",
       "10    1.0         0.0         1.0          0.0     0.0  1.0     0.0    1.0   \n",
       "11    1.0         0.0         1.0          0.0     0.0  1.0     0.0    0.0   \n",
       "12    1.0         0.0         0.0          1.0     1.0  0.0     1.0    0.0   \n",
       "13    1.0         0.0         0.0          1.0     1.0  0.0     0.0    1.0   \n",
       "14    1.0         0.0         0.0          1.0     1.0  0.0     0.0    0.0   \n",
       "15    1.0         0.0         0.0          1.0     0.0  1.0     1.0    0.0   \n",
       "16    1.0         0.0         0.0          1.0     0.0  1.0     0.0    1.0   \n",
       "17    1.0         0.0         0.0          1.0     0.0  1.0     0.0    0.0   \n",
       "\n",
       "    Anthrazit  \n",
       "0         0.0  \n",
       "1         0.0  \n",
       "2         1.0  \n",
       "3         0.0  \n",
       "4         0.0  \n",
       "5         1.0  \n",
       "6         0.0  \n",
       "7         0.0  \n",
       "8         1.0  \n",
       "9         0.0  \n",
       "10        0.0  \n",
       "11        1.0  \n",
       "12        0.0  \n",
       "13        0.0  \n",
       "14        1.0  \n",
       "15        0.0  \n",
       "16        0.0  \n",
       "17        1.0  "
      ]
     },
     "execution_count": 13,
     "metadata": {},
     "output_type": "execute_result"
    }
   ],
   "source": [
    "X"
   ]
  },
  {
   "cell_type": "code",
   "execution_count": 14,
   "metadata": {
    "ExecuteTime": {
     "end_time": "2018-06-06T19:03:43.109635Z",
     "start_time": "2018-06-06T19:03:42.606372Z"
    }
   },
   "outputs": [
    {
     "name": "stderr",
     "output_type": "stream",
     "text": [
      "/anaconda3/lib/python3.6/site-packages/scipy/stats/stats.py:1390: UserWarning: kurtosistest only valid for n>=20 ... continuing anyway, n=18\n",
      "  \"anyway, n=%i\" % int(n))\n"
     ]
    },
    {
     "data": {
      "text/html": [
       "<table class=\"simpletable\">\n",
       "<caption>OLS Regression Results</caption>\n",
       "<tr>\n",
       "  <th>Dep. Variable:</th>          <td>Rank</td>       <th>  R-squared:         </th> <td>   1.000</td> \n",
       "</tr>\n",
       "<tr>\n",
       "  <th>Model:</th>                   <td>OLS</td>       <th>  Adj. R-squared:    </th> <td>   1.000</td> \n",
       "</tr>\n",
       "<tr>\n",
       "  <th>Method:</th>             <td>Least Squares</td>  <th>  F-statistic:       </th> <td>2.376e+30</td>\n",
       "</tr>\n",
       "<tr>\n",
       "  <th>Date:</th>             <td>Wed, 06 Jun 2018</td> <th>  Prob (F-statistic):</th> <td>1.56e-179</td>\n",
       "</tr>\n",
       "<tr>\n",
       "  <th>Time:</th>                 <td>16:03:43</td>     <th>  Log-Likelihood:    </th> <td>  566.43</td> \n",
       "</tr>\n",
       "<tr>\n",
       "  <th>No. Observations:</th>      <td>    18</td>      <th>  AIC:               </th> <td>  -1121.</td> \n",
       "</tr>\n",
       "<tr>\n",
       "  <th>Df Residuals:</th>          <td>    12</td>      <th>  BIC:               </th> <td>  -1116.</td> \n",
       "</tr>\n",
       "<tr>\n",
       "  <th>Df Model:</th>              <td>     5</td>      <th>                     </th>     <td> </td>    \n",
       "</tr>\n",
       "<tr>\n",
       "  <th>Covariance Type:</th>      <td>nonrobust</td>    <th>                     </th>     <td> </td>    \n",
       "</tr>\n",
       "</table>\n",
       "<table class=\"simpletable\">\n",
       "<tr>\n",
       "       <td></td>          <th>coef</th>     <th>std err</th>      <th>t</th>      <th>P>|t|</th>  <th>[0.025</th>    <th>0.975]</th>  \n",
       "</tr>\n",
       "<tr>\n",
       "  <th>const</th>       <td>    4.3846</td> <td> 6.95e-16</td> <td> 6.31e+15</td> <td> 0.000</td> <td>    4.385</td> <td>    4.385</td>\n",
       "</tr>\n",
       "<tr>\n",
       "  <th>32\" (81cm)</th>  <td>   -4.5385</td> <td> 2.14e-15</td> <td>-2.12e+15</td> <td> 0.000</td> <td>   -4.538</td> <td>   -4.538</td>\n",
       "</tr>\n",
       "<tr>\n",
       "  <th>37\" (94cm)</th>  <td>    1.4615</td> <td> 2.14e-15</td> <td> 6.83e+14</td> <td> 0.000</td> <td>    1.462</td> <td>    1.462</td>\n",
       "</tr>\n",
       "<tr>\n",
       "  <th>42\" (107cm)</th> <td>    7.4615</td> <td> 2.14e-15</td> <td> 3.48e+15</td> <td> 0.000</td> <td>    7.462</td> <td>    7.462</td>\n",
       "</tr>\n",
       "<tr>\n",
       "  <th>Plasma</th>      <td>    0.6923</td> <td> 1.54e-15</td> <td> 4.48e+14</td> <td> 0.000</td> <td>    0.692</td> <td>    0.692</td>\n",
       "</tr>\n",
       "<tr>\n",
       "  <th>LCD</th>         <td>    3.6923</td> <td> 1.54e-15</td> <td> 2.39e+15</td> <td> 0.000</td> <td>    3.692</td> <td>    3.692</td>\n",
       "</tr>\n",
       "<tr>\n",
       "  <th>Silver</th>      <td>    1.4615</td> <td> 2.14e-15</td> <td> 6.83e+14</td> <td> 0.000</td> <td>    1.462</td> <td>    1.462</td>\n",
       "</tr>\n",
       "<tr>\n",
       "  <th>Black</th>       <td>    2.4615</td> <td> 2.14e-15</td> <td> 1.15e+15</td> <td> 0.000</td> <td>    2.462</td> <td>    2.462</td>\n",
       "</tr>\n",
       "<tr>\n",
       "  <th>Anthrazit</th>   <td>    0.4615</td> <td> 2.14e-15</td> <td> 2.16e+14</td> <td> 0.000</td> <td>    0.462</td> <td>    0.462</td>\n",
       "</tr>\n",
       "</table>\n",
       "<table class=\"simpletable\">\n",
       "<tr>\n",
       "  <th>Omnibus:</th>       <td> 2.105</td> <th>  Durbin-Watson:     </th> <td>   0.545</td>\n",
       "</tr>\n",
       "<tr>\n",
       "  <th>Prob(Omnibus):</th> <td> 0.349</td> <th>  Jarque-Bera (JB):  </th> <td>   1.403</td>\n",
       "</tr>\n",
       "<tr>\n",
       "  <th>Skew:</th>          <td> 0.451</td> <th>  Prob(JB):          </th> <td>   0.496</td>\n",
       "</tr>\n",
       "<tr>\n",
       "  <th>Kurtosis:</th>      <td> 1.971</td> <th>  Cond. No.          </th> <td>9.92e+16</td>\n",
       "</tr>\n",
       "</table>"
      ],
      "text/plain": [
       "<class 'statsmodels.iolib.summary.Summary'>\n",
       "\"\"\"\n",
       "                            OLS Regression Results                            \n",
       "==============================================================================\n",
       "Dep. Variable:                   Rank   R-squared:                       1.000\n",
       "Model:                            OLS   Adj. R-squared:                  1.000\n",
       "Method:                 Least Squares   F-statistic:                 2.376e+30\n",
       "Date:                Wed, 06 Jun 2018   Prob (F-statistic):          1.56e-179\n",
       "Time:                        16:03:43   Log-Likelihood:                 566.43\n",
       "No. Observations:                  18   AIC:                            -1121.\n",
       "Df Residuals:                      12   BIC:                            -1116.\n",
       "Df Model:                           5                                         \n",
       "Covariance Type:            nonrobust                                         \n",
       "===============================================================================\n",
       "                  coef    std err          t      P>|t|      [0.025      0.975]\n",
       "-------------------------------------------------------------------------------\n",
       "const           4.3846   6.95e-16   6.31e+15      0.000       4.385       4.385\n",
       "32\" (81cm)     -4.5385   2.14e-15  -2.12e+15      0.000      -4.538      -4.538\n",
       "37\" (94cm)      1.4615   2.14e-15   6.83e+14      0.000       1.462       1.462\n",
       "42\" (107cm)     7.4615   2.14e-15   3.48e+15      0.000       7.462       7.462\n",
       "Plasma          0.6923   1.54e-15   4.48e+14      0.000       0.692       0.692\n",
       "LCD             3.6923   1.54e-15   2.39e+15      0.000       3.692       3.692\n",
       "Silver          1.4615   2.14e-15   6.83e+14      0.000       1.462       1.462\n",
       "Black           2.4615   2.14e-15   1.15e+15      0.000       2.462       2.462\n",
       "Anthrazit       0.4615   2.14e-15   2.16e+14      0.000       0.462       0.462\n",
       "==============================================================================\n",
       "Omnibus:                        2.105   Durbin-Watson:                   0.545\n",
       "Prob(Omnibus):                  0.349   Jarque-Bera (JB):                1.403\n",
       "Skew:                           0.451   Prob(JB):                        0.496\n",
       "Kurtosis:                       1.971   Cond. No.                     9.92e+16\n",
       "==============================================================================\n",
       "\n",
       "Warnings:\n",
       "[1] Standard Errors assume that the covariance matrix of the errors is correctly specified.\n",
       "[2] The smallest eigenvalue is 3.96e-33. This might indicate that there are\n",
       "strong multicollinearity problems or that the design matrix is singular.\n",
       "\"\"\""
      ]
     },
     "execution_count": 14,
     "metadata": {},
     "output_type": "execute_result"
    }
   ],
   "source": [
    "\n",
    "linearRegression = sm.OLS(Y, X). fit()\n",
    "linearRegression.summary()"
   ]
  },
  {
   "cell_type": "markdown",
   "metadata": {},
   "source": [
    "## Part worth values & relative importance of the stimuli\n",
    "<p>\n",
    "Importance of Stimuli= Max(beta) - Min(beta)\n",
    "<br>\n",
    "Relative Importance of Stimuli = Importance of Stim / Sum(Importance of all Stimuli)"
   ]
  },
  {
   "cell_type": "code",
   "execution_count": 28,
   "metadata": {
    "ExecuteTime": {
     "end_time": "2018-06-06T19:19:51.872217Z",
     "start_time": "2018-06-06T19:19:51.865854Z"
    }
   },
   "outputs": [
    {
     "data": {
      "text/plain": [
       "[[-4.538461538461538, 1.4615384615384652, 7.4615384615384555],\n",
       " [-4.538461538461538, 1.4615384615384652, 7.4615384615384555],\n",
       " [0.6923076923076924, 3.6923076923076934]]"
      ]
     },
     "execution_count": 28,
     "metadata": {},
     "output_type": "execute_result"
    }
   ],
   "source": [
    "rangePerFeature"
   ]
  },
  {
   "cell_type": "code",
   "execution_count": 34,
   "metadata": {
    "ExecuteTime": {
     "end_time": "2018-06-06T19:33:51.997048Z",
     "start_time": "2018-06-06T19:33:51.991139Z"
    }
   },
   "outputs": [
    {
     "data": {
      "text/plain": [
       "[11.999999999999993, 11.999999999999993, 3.000000000000001]"
      ]
     },
     "execution_count": 34,
     "metadata": {},
     "output_type": "execute_result"
    }
   ],
   "source": [
    "importance"
   ]
  },
  {
   "cell_type": "code",
   "execution_count": 36,
   "metadata": {
    "ExecuteTime": {
     "end_time": "2018-06-06T19:34:13.608663Z",
     "start_time": "2018-06-06T19:34:13.601170Z"
    }
   },
   "outputs": [
    {
     "data": {
      "text/plain": [
       "[44.4, 44.4, 11.1]"
      ]
     },
     "execution_count": 36,
     "metadata": {},
     "output_type": "execute_result"
    }
   ],
   "source": [
    "relative_importance"
   ]
  },
  {
   "cell_type": "code",
   "execution_count": 38,
   "metadata": {
    "ExecuteTime": {
     "end_time": "2018-06-06T19:42:27.433578Z",
     "start_time": "2018-06-06T19:42:27.427769Z"
    }
   },
   "outputs": [
    {
     "data": {
      "text/plain": [
       "dict_values(['Rank', '32\" (81cm)', '37\" (94cm)', '42\" (107cm)', 'Plasma', 'LCD', 'Silver', 'Black', 'Anthrazit'])"
      ]
     },
     "execution_count": 38,
     "metadata": {},
     "output_type": "execute_result"
    }
   ],
   "source": [
    "fullNames.values()"
   ]
  },
  {
   "cell_type": "code",
   "execution_count": 39,
   "metadata": {
    "ExecuteTime": {
     "end_time": "2018-06-06T19:42:54.252172Z",
     "start_time": "2018-06-06T19:42:54.246204Z"
    }
   },
   "outputs": [
    {
     "data": {
      "text/plain": [
       "[1.4615384615384597, 2.4615384615384617, 0.46153846153846273]"
      ]
     },
     "execution_count": 39,
     "metadata": {},
     "output_type": "execute_result"
    }
   ],
   "source": [
    "tempRange"
   ]
  },
  {
   "cell_type": "code",
   "execution_count": 15,
   "metadata": {
    "ExecuteTime": {
     "end_time": "2018-06-06T19:05:18.445998Z",
     "start_time": "2018-06-06T19:05:18.428452Z"
    }
   },
   "outputs": [],
   "source": [
    "importance = []\n",
    "relative_importance = []\n",
    "\n",
    "rangePerFeature = []\n",
    "\n",
    "begin = \"A\"\n",
    "tempRange = []\n",
    "for stimuli in fullNames.keys():\n",
    "    if stimuli[0] == begin:\n",
    "        tempRange.append(linearRegression.params[fullNames[stimuli]])\n",
    "    elif stimuli == \"Rank\":\n",
    "        rangePerFeature.append(tempRange)\n",
    "    else:\n",
    "        rangePerFeature.append(tempRange)\n",
    "        begin = stimuli[0]\n",
    "        tempRange = [linearRegression.params[fullNames[stimuli]]]\n",
    "        "
   ]
  },
  {
   "cell_type": "code",
   "execution_count": 41,
   "metadata": {
    "ExecuteTime": {
     "end_time": "2018-06-06T19:46:25.260255Z",
     "start_time": "2018-06-06T19:46:25.253407Z"
    }
   },
   "outputs": [
    {
     "data": {
      "text/plain": [
       "const          4.384615\n",
       "32\" (81cm)    -4.538462\n",
       "37\" (94cm)     1.461538\n",
       "42\" (107cm)    7.461538\n",
       "Plasma         0.692308\n",
       "LCD            3.692308\n",
       "Silver         1.461538\n",
       "Black          2.461538\n",
       "Anthrazit      0.461538\n",
       "dtype: float64"
      ]
     },
     "execution_count": 41,
     "metadata": {},
     "output_type": "execute_result"
    }
   ],
   "source": [
    "linearRegression.params"
   ]
  },
  {
   "cell_type": "code",
   "execution_count": 16,
   "metadata": {
    "ExecuteTime": {
     "end_time": "2018-06-06T19:05:19.518687Z",
     "start_time": "2018-06-06T19:05:19.511071Z"
    }
   },
   "outputs": [],
   "source": [
    "for item in rangePerFeature:\n",
    "    importance.append( max(item) - min(item))\n",
    "\n",
    "for item in importance:\n",
    "    relative_importance.append(100* round(item/sum(importance),3))"
   ]
  },
  {
   "cell_type": "code",
   "execution_count": 33,
   "metadata": {
    "ExecuteTime": {
     "end_time": "2018-06-06T19:23:37.584756Z",
     "start_time": "2018-06-06T19:23:37.579151Z"
    }
   },
   "outputs": [
    {
     "data": {
      "text/plain": [
       "[11.999999999999993, 11.999999999999993, 3.000000000000001]"
      ]
     },
     "execution_count": 33,
     "metadata": {},
     "output_type": "execute_result"
    }
   ],
   "source": [
    "importance"
   ]
  },
  {
   "cell_type": "code",
   "execution_count": 17,
   "metadata": {
    "ExecuteTime": {
     "end_time": "2018-06-06T19:05:21.065620Z",
     "start_time": "2018-06-06T19:05:21.051704Z"
    }
   },
   "outputs": [
    {
     "name": "stdout",
     "output_type": "stream",
     "text": [
      "32\" (81cm)   -4.538462\n",
      "37\" (94cm)    1.461538\n",
      "dtype: float64\n",
      "42\" (107cm)    7.461538\n",
      "Plasma         0.692308\n",
      "dtype: float64\n",
      "LCD       3.692308\n",
      "Silver    1.461538\n",
      "Black     2.461538\n",
      "dtype: float64\n"
     ]
    }
   ],
   "source": [
    "\n",
    "partworths = []\n",
    "\n",
    "item_levels = [1,3,5,8]\n",
    "\n",
    "for i in range(1,4):\n",
    "    part_worth_range = linearRegression.params[item_levels[i-1]:item_levels[i]]\n",
    "    print (part_worth_range)"
   ]
  },
  {
   "cell_type": "code",
   "execution_count": 18,
   "metadata": {
    "ExecuteTime": {
     "end_time": "2018-06-06T19:05:32.448215Z",
     "start_time": "2018-06-06T19:05:32.426775Z"
    }
   },
   "outputs": [],
   "source": [
    "meanRank = []\n",
    "for i in ConjointDummyDF.columns[1:]:\n",
    "    newmeanRank = ConjointDummyDF[\"Rank\"].loc[ConjointDummyDF[i] == 1].mean()\n",
    "    meanRank.append(newmeanRank)\n",
    "\n",
    "    \n",
    "#total Mean or, \"basic utility\" is used as the \"zero alternative\"\n",
    "totalMeanRank = sum(meanRank) / len(meanRank)\n",
    "\n",
    "\n",
    "\n",
    "partWorths = {}\n",
    "for i in range(len(meanRank)):\n",
    "    name = fullNames[sorted(fullNames.keys())[i]]\n",
    "    partWorths[name] = meanRank[i] - totalMeanRank"
   ]
  },
  {
   "cell_type": "code",
   "execution_count": 27,
   "metadata": {
    "ExecuteTime": {
     "end_time": "2018-06-06T19:14:23.296434Z",
     "start_time": "2018-06-06T19:14:23.290618Z"
    }
   },
   "outputs": [
    {
     "data": {
      "text/plain": [
       "[3.5, 9.5, 15.5, 8.0, 11.0, 9.5, 10.5, 8.5]"
      ]
     },
     "execution_count": 27,
     "metadata": {},
     "output_type": "execute_result"
    }
   ],
   "source": [
    "meanRank"
   ]
  },
  {
   "cell_type": "code",
   "execution_count": 19,
   "metadata": {
    "ExecuteTime": {
     "end_time": "2018-06-06T19:05:33.027600Z",
     "start_time": "2018-06-06T19:05:33.018478Z"
    }
   },
   "outputs": [
    {
     "data": {
      "text/plain": [
       "{'32\" (81cm)': -6.0,\n",
       " '37\" (94cm)': 0.0,\n",
       " '42\" (107cm)': 6.0,\n",
       " 'Anthrazit': -1.0,\n",
       " 'Black': 1.0,\n",
       " 'LCD': 1.5,\n",
       " 'Plasma': -1.5,\n",
       " 'Silver': 0.0}"
      ]
     },
     "execution_count": 19,
     "metadata": {},
     "output_type": "execute_result"
    }
   ],
   "source": [
    "partWorths"
   ]
  },
  {
   "cell_type": "markdown",
   "metadata": {
    "collapsed": true
   },
   "source": [
    "### Summary & Results"
   ]
  },
  {
   "cell_type": "code",
   "execution_count": 20,
   "metadata": {
    "ExecuteTime": {
     "end_time": "2018-06-06T19:05:36.015252Z",
     "start_time": "2018-06-06T19:05:36.005025Z"
    }
   },
   "outputs": [
    {
     "name": "stdout",
     "output_type": "stream",
     "text": [
      "Relative Importance of Feature:\n",
      "\n",
      "Monitor Size: 44.4 % \n",
      "Type of Monitor: 44.4 % \n",
      "Color of TV: 11.1 %\n",
      "\n",
      "\n",
      "------------------------------------------------------------\n",
      "Importance of Feature:\n",
      "\n",
      "Monitor Size: 11.999999999999993 \n",
      "Type of Monitor: 11.999999999999993 \n",
      "Color of TV: 3.000000000000001\n"
     ]
    }
   ],
   "source": [
    "print (\"Relative Importance of Feature:\\n\\nMonitor Size:\",relative_importance[0], \"%\",\\\n",
    "\"\\nType of Monitor:\", relative_importance[1], \"%\", \"\\nColor of TV:\", relative_importance[2], \"%\\n\\n\")\n",
    "\n",
    "print (\"--\"*30)\n",
    "\n",
    "print (\"Importance of Feature:\\n\\nMonitor Size:\",importance[0],\\\n",
    "\"\\nType of Monitor:\", importance[1],  \"\\nColor of TV:\", importance[2])"
   ]
  },
  {
   "cell_type": "markdown",
   "metadata": {},
   "source": [
    "What would be the optimal product bundle? <p>\n",
    "42\", LCD, Black"
   ]
  },
  {
   "cell_type": "code",
   "execution_count": 20,
   "metadata": {
    "ExecuteTime": {
     "end_time": "2018-05-28T03:38:40.625882Z",
     "start_time": "2018-05-28T03:38:40.620027Z"
    }
   },
   "outputs": [
    {
     "name": "stdout",
     "output_type": "stream",
     "text": [
      "The best possible Combination of Stimuli would have the highest rank: 17.999999999999993\n"
     ]
    }
   ],
   "source": [
    "#As array that looks like X\n",
    "#Must include Constant!\n",
    "\n",
    "optBundle = [1,0,0,1,0,1,0,1,0]\n",
    "print (\"The best possible Combination of Stimuli would have the highest rank:\",\\\n",
    "linearRegression.predict(optBundle)[0])"
   ]
  },
  {
   "cell_type": "markdown",
   "metadata": {
    "collapsed": true
   },
   "source": [
    "Or using the Partworths:"
   ]
  },
  {
   "cell_type": "code",
   "execution_count": 21,
   "metadata": {
    "ExecuteTime": {
     "end_time": "2018-05-28T03:38:45.875447Z",
     "start_time": "2018-05-28T03:38:45.868014Z"
    }
   },
   "outputs": [
    {
     "name": "stdout",
     "output_type": "stream",
     "text": [
      "Choosing the optimal Combination brings the user an additional  8.5 'units' of utility\n"
     ]
    }
   ],
   "source": [
    "#Optimal Bundle:\n",
    "#42\", LCD, Black\n",
    "\n",
    "optimalWorth = partWorths[\"42\\\" (107cm)\"] + partWorths[\"LCD\"] + partWorths[\"Black\"]\n",
    "\n",
    "print (\"Choosing the optimal Combination brings the user an additional \", optimalWorth, \"'units' of utility\")"
   ]
  }
 ],
 "metadata": {
  "kernelspec": {
   "display_name": "Python 3",
   "language": "python",
   "name": "python3"
  },
  "language_info": {
   "codemirror_mode": {
    "name": "ipython",
    "version": 3
   },
   "file_extension": ".py",
   "mimetype": "text/x-python",
   "name": "python",
   "nbconvert_exporter": "python",
   "pygments_lexer": "ipython3",
   "version": "3.6.4"
  }
 },
 "nbformat": 4,
 "nbformat_minor": 1
}
