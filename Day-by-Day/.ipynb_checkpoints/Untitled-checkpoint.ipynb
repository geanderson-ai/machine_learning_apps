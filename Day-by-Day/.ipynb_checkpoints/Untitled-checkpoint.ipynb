{
 "cells": [
  {
   "cell_type": "code",
   "execution_count": 2,
   "metadata": {
    "ExecuteTime": {
     "end_time": "2018-06-28T18:43:23.979563Z",
     "start_time": "2018-06-28T18:43:23.973406Z"
    }
   },
   "outputs": [],
   "source": [
    "import datetime\n",
    "numdays = 10\n",
    "base = datetime.datetime.today()\n",
    "date_list = [base - datetime.timedelta(days=x) for x in range(0, numdays)]"
   ]
  },
  {
   "cell_type": "code",
   "execution_count": 3,
   "metadata": {
    "ExecuteTime": {
     "end_time": "2018-06-28T18:43:29.505013Z",
     "start_time": "2018-06-28T18:43:29.491640Z"
    }
   },
   "outputs": [
    {
     "data": {
      "text/plain": [
       "[datetime.datetime(2018, 6, 28, 15, 43, 23, 976685),\n",
       " datetime.datetime(2018, 6, 27, 15, 43, 23, 976685),\n",
       " datetime.datetime(2018, 6, 26, 15, 43, 23, 976685),\n",
       " datetime.datetime(2018, 6, 25, 15, 43, 23, 976685),\n",
       " datetime.datetime(2018, 6, 24, 15, 43, 23, 976685),\n",
       " datetime.datetime(2018, 6, 23, 15, 43, 23, 976685),\n",
       " datetime.datetime(2018, 6, 22, 15, 43, 23, 976685),\n",
       " datetime.datetime(2018, 6, 21, 15, 43, 23, 976685),\n",
       " datetime.datetime(2018, 6, 20, 15, 43, 23, 976685),\n",
       " datetime.datetime(2018, 6, 19, 15, 43, 23, 976685)]"
      ]
     },
     "execution_count": 3,
     "metadata": {},
     "output_type": "execute_result"
    }
   ],
   "source": [
    "date_list."
   ]
  },
  {
   "cell_type": "code",
   "execution_count": 9,
   "metadata": {
    "ExecuteTime": {
     "end_time": "2018-06-28T18:45:52.931286Z",
     "start_time": "2018-06-28T18:45:52.915465Z"
    }
   },
   "outputs": [
    {
     "ename": "AttributeError",
     "evalue": "module 'pandas' has no attribute 'date'",
     "output_type": "error",
     "traceback": [
      "\u001b[0;31m---------------------------------------------------------------------------\u001b[0m",
      "\u001b[0;31mAttributeError\u001b[0m                            Traceback (most recent call last)",
      "\u001b[0;32m<ipython-input-9-5e01ca0c349e>\u001b[0m in \u001b[0;36m<module>\u001b[0;34m()\u001b[0m\n\u001b[1;32m      1\u001b[0m \u001b[0;32mimport\u001b[0m \u001b[0mpandas\u001b[0m \u001b[0;32mas\u001b[0m \u001b[0mpd\u001b[0m\u001b[0;34m\u001b[0m\u001b[0m\n\u001b[0;32m----> 2\u001b[0;31m \u001b[0mdatelist\u001b[0m \u001b[0;34m=\u001b[0m \u001b[0mpd\u001b[0m\u001b[0;34m.\u001b[0m\u001b[0mdate_range\u001b[0m\u001b[0;34m(\u001b[0m\u001b[0mpd\u001b[0m\u001b[0;34m.\u001b[0m\u001b[0mdate\u001b[0m\u001b[0;34m.\u001b[0m\u001b[0mtoday\u001b[0m\u001b[0;34m(\u001b[0m\u001b[0;34m)\u001b[0m\u001b[0;34m,\u001b[0m \u001b[0mperiods\u001b[0m\u001b[0;34m=\u001b[0m\u001b[0;36m10\u001b[0m\u001b[0;34m)\u001b[0m\u001b[0;34m.\u001b[0m\u001b[0mtolist\u001b[0m\u001b[0;34m(\u001b[0m\u001b[0;34m)\u001b[0m\u001b[0;34m\u001b[0m\u001b[0m\n\u001b[0m",
      "\u001b[0;31mAttributeError\u001b[0m: module 'pandas' has no attribute 'date'"
     ]
    }
   ],
   "source": [
    "import pandas as pd\n",
    "datelist = pd.date_range(pd.date.today(), periods=10).tolist()"
   ]
  },
  {
   "cell_type": "code",
   "execution_count": 8,
   "metadata": {
    "ExecuteTime": {
     "end_time": "2018-06-28T18:45:32.634631Z",
     "start_time": "2018-06-28T18:45:32.626966Z"
    }
   },
   "outputs": [
    {
     "data": {
      "text/plain": [
       "Timestamp('2018-06-28 15:44:52.344288', freq='D')"
      ]
     },
     "execution_count": 8,
     "metadata": {},
     "output_type": "execute_result"
    }
   ],
   "source": [
    "datelist[0]"
   ]
  },
  {
   "cell_type": "code",
   "execution_count": 5,
   "metadata": {
    "ExecuteTime": {
     "end_time": "2018-07-01T22:16:46.998347Z",
     "start_time": "2018-07-01T22:16:46.965154Z"
    }
   },
   "outputs": [
    {
     "data": {
      "text/plain": [
       "{'day': Int64Index([1, 2, 3, 4, 5, 6, 7, 8, 9, 10], dtype='int64'),\n",
       " 'hours': Int64Index([19, 19, 19, 19, 19, 19, 19, 19, 19, 19], dtype='int64'),\n",
       " 'minutes': Int64Index([16, 16, 16, 16, 16, 16, 16, 16, 16, 16], dtype='int64'),\n",
       " 'month': Int64Index([7, 7, 7, 7, 7, 7, 7, 7, 7, 7], dtype='int64'),\n",
       " 'year': Int64Index([2018, 2018, 2018, 2018, 2018, 2018, 2018, 2018, 2018, 2018], dtype='int64')}"
      ]
     },
     "execution_count": 5,
     "metadata": {},
     "output_type": "execute_result"
    }
   ],
   "source": [
    "import pandas as pd\n",
    "import numpy as np\n",
    "from datetime import datetime, timedelta\n",
    "\n",
    "date_today = datetime.now()\n",
    "days = pd.date_range(date_today, date_today + timedelta(9), freq='D')\n",
    "\n",
    "np.random.seed(seed=1111)\n",
    "data = {'day': days.day, 'month': days.month, 'year': days.year,'hours': days.hour, 'minutes': days.minute}\n",
    "#df = pd.DataFrame({'day': days.day, 'month': days.month, 'year': days.year,'hours': days.hour, 'minutes': days.minute})\n",
    "#df = df.set_index('timestamp')\n",
    "#df\n",
    "data"
   ]
  },
  {
   "cell_type": "code",
   "execution_count": 9,
   "metadata": {
    "ExecuteTime": {
     "end_time": "2018-07-01T22:39:52.033069Z",
     "start_time": "2018-07-01T22:39:51.325820Z"
    }
   },
   "outputs": [
    {
     "data": {
      "text/plain": [
       "{'day': Int64Index([1, 2, 3, 4, 5, 6, 7, 8, 9, 10], dtype='int64'),\n",
       " 'forecast': ['Sunny',\n",
       "  'Sunny',\n",
       "  'Sunny',\n",
       "  'Partly Cloudy',\n",
       "  'Mostly Sunny',\n",
       "  'Partly Cloudy',\n",
       "  'Mostly Sunny',\n",
       "  'Partly Cloudy',\n",
       "  'Partly Cloudy',\n",
       "  'Rain'],\n",
       " 'hours': Int64Index([19, 19, 19, 19, 19, 19, 19, 19, 19, 19], dtype='int64'),\n",
       " 'maxima': ['22', '23', '26', '22', '22', '21', '22', '25', '25', '21'],\n",
       " 'minima': ['21', '19', '21', '21', '20', '21', '21', '20', '21', '20'],\n",
       " 'minutes': Int64Index([39, 39, 39, 39, 39, 39, 39, 39, 39, 39], dtype='int64'),\n",
       " 'month': Int64Index([7, 7, 7, 7, 7, 7, 7, 7, 7, 7], dtype='int64'),\n",
       " 'year': Int64Index([2018, 2018, 2018, 2018, 2018, 2018, 2018, 2018, 2018, 2018], dtype='int64')}"
      ]
     },
     "execution_count": 9,
     "metadata": {},
     "output_type": "execute_result"
    }
   ],
   "source": [
    "from weather import Weather, Unit\n",
    "from datetime import datetime, timedelta\n",
    "import pandas as pd\n",
    "import numpy as np\n",
    "\n",
    "date_today = datetime.now()\n",
    "days = pd.date_range(date_today, date_today + timedelta(9), freq='D')\n",
    "\n",
    "np.random.seed(seed=1111)\n",
    "#data = {'day': days.day, 'month': days.month, 'year': days.year,'hours': days.hour, 'minutes': days.minute}\n",
    "\n",
    "\n",
    "weather = Weather(unit=Unit.CELSIUS)\n",
    "\n",
    "location = weather.lookup_by_location('rio de janeiro')\n",
    "forecasts = location.forecast\n",
    "weather = [forecast.text for forecast in forecasts]\n",
    "minima = [forecast.low for forecast in forecasts]\n",
    "maxima = [forecast.high for forecast in forecasts]\n",
    "tempo = {'forecast': weather, 'minima': minima, \n",
    "         'maxima': maxima, 'day': days.day, \n",
    "         'month': days.month, 'year': days.year,\n",
    "         'hours': days.hour, 'minutes': days.minute}\n",
    "tempo\n",
    "#data = pd.DataFrame(data=weather, columns=['forecast'])\n",
    "\n",
    "\n",
    "#data\n",
    "#weather = []\n",
    "#for forecast in forecasts:\n",
    "#    df['weather'] = forecast.text\n",
    "    \n",
    "\n",
    "#weather.append(forecast.text)\n",
    "#print(weather)\n",
    "#for forecast in forecasts:\n",
    "#    print(forecast.text)\n",
    "#    print(forecast.date)\n",
    "#    print(forecast.high)\n",
    "#    print(forecast.low)\n"
   ]
  },
  {
   "cell_type": "code",
   "execution_count": 32,
   "metadata": {
    "ExecuteTime": {
     "end_time": "2018-06-28T19:45:11.862402Z",
     "start_time": "2018-06-28T19:45:11.857162Z"
    }
   },
   "outputs": [],
   "source": [
    "z = {**data, **tempo}\n"
   ]
  },
  {
   "cell_type": "code",
   "execution_count": 33,
   "metadata": {
    "ExecuteTime": {
     "end_time": "2018-06-28T19:45:12.546269Z",
     "start_time": "2018-06-28T19:45:12.539397Z"
    }
   },
   "outputs": [
    {
     "data": {
      "text/plain": [
       "{'day': Int64Index([28, 29, 30, 1, 2, 3, 4, 5, 6, 7], dtype='int64'),\n",
       " 'forecast': ['Thunderstorms',\n",
       "  'Thunderstorms',\n",
       "  'Showers',\n",
       "  'Mostly Sunny',\n",
       "  'Scattered Thunderstorms',\n",
       "  'Showers',\n",
       "  'Scattered Thunderstorms',\n",
       "  'Rain',\n",
       "  'Partly Cloudy',\n",
       "  'Partly Cloudy'],\n",
       " 'hours': Int64Index([16, 16, 16, 16, 16, 16, 16, 16, 16, 16], dtype='int64'),\n",
       " 'maxima': ['20', '21', '21', '23', '23', '15', '12', '13', '21', '22'],\n",
       " 'minima': ['13', '15', '11', '12', '15', '8', '7', '9', '11', '13'],\n",
       " 'minutes': Int64Index([31, 31, 31, 31, 31, 31, 31, 31, 31, 31], dtype='int64'),\n",
       " 'month': Int64Index([6, 6, 6, 7, 7, 7, 7, 7, 7, 7], dtype='int64'),\n",
       " 'year': Int64Index([2018, 2018, 2018, 2018, 2018, 2018, 2018, 2018, 2018, 2018], dtype='int64')}"
      ]
     },
     "execution_count": 33,
     "metadata": {},
     "output_type": "execute_result"
    }
   ],
   "source": [
    "z"
   ]
  },
  {
   "cell_type": "code",
   "execution_count": 23,
   "metadata": {
    "ExecuteTime": {
     "end_time": "2018-06-28T19:18:45.609937Z",
     "start_time": "2018-06-28T19:18:45.593749Z"
    }
   },
   "outputs": [
    {
     "data": {
      "text/html": [
       "<div>\n",
       "<style scoped>\n",
       "    .dataframe tbody tr th:only-of-type {\n",
       "        vertical-align: middle;\n",
       "    }\n",
       "\n",
       "    .dataframe tbody tr th {\n",
       "        vertical-align: top;\n",
       "    }\n",
       "\n",
       "    .dataframe thead th {\n",
       "        text-align: right;\n",
       "    }\n",
       "</style>\n",
       "<table border=\"1\" class=\"dataframe\">\n",
       "  <thead>\n",
       "    <tr style=\"text-align: right;\">\n",
       "      <th></th>\n",
       "      <th>day</th>\n",
       "      <th>month</th>\n",
       "      <th>year</th>\n",
       "      <th>hours</th>\n",
       "      <th>minutes</th>\n",
       "      <th>weather</th>\n",
       "    </tr>\n",
       "  </thead>\n",
       "  <tbody>\n",
       "    <tr>\n",
       "      <th>0</th>\n",
       "      <td>28</td>\n",
       "      <td>6</td>\n",
       "      <td>2018</td>\n",
       "      <td>16</td>\n",
       "      <td>0</td>\n",
       "      <td>Partly Cloudy</td>\n",
       "    </tr>\n",
       "    <tr>\n",
       "      <th>1</th>\n",
       "      <td>29</td>\n",
       "      <td>6</td>\n",
       "      <td>2018</td>\n",
       "      <td>16</td>\n",
       "      <td>0</td>\n",
       "      <td>Partly Cloudy</td>\n",
       "    </tr>\n",
       "    <tr>\n",
       "      <th>2</th>\n",
       "      <td>30</td>\n",
       "      <td>6</td>\n",
       "      <td>2018</td>\n",
       "      <td>16</td>\n",
       "      <td>0</td>\n",
       "      <td>Partly Cloudy</td>\n",
       "    </tr>\n",
       "    <tr>\n",
       "      <th>3</th>\n",
       "      <td>1</td>\n",
       "      <td>7</td>\n",
       "      <td>2018</td>\n",
       "      <td>16</td>\n",
       "      <td>0</td>\n",
       "      <td>Partly Cloudy</td>\n",
       "    </tr>\n",
       "    <tr>\n",
       "      <th>4</th>\n",
       "      <td>2</td>\n",
       "      <td>7</td>\n",
       "      <td>2018</td>\n",
       "      <td>16</td>\n",
       "      <td>0</td>\n",
       "      <td>Partly Cloudy</td>\n",
       "    </tr>\n",
       "    <tr>\n",
       "      <th>5</th>\n",
       "      <td>3</td>\n",
       "      <td>7</td>\n",
       "      <td>2018</td>\n",
       "      <td>16</td>\n",
       "      <td>0</td>\n",
       "      <td>Partly Cloudy</td>\n",
       "    </tr>\n",
       "    <tr>\n",
       "      <th>6</th>\n",
       "      <td>4</td>\n",
       "      <td>7</td>\n",
       "      <td>2018</td>\n",
       "      <td>16</td>\n",
       "      <td>0</td>\n",
       "      <td>Partly Cloudy</td>\n",
       "    </tr>\n",
       "    <tr>\n",
       "      <th>7</th>\n",
       "      <td>5</td>\n",
       "      <td>7</td>\n",
       "      <td>2018</td>\n",
       "      <td>16</td>\n",
       "      <td>0</td>\n",
       "      <td>Partly Cloudy</td>\n",
       "    </tr>\n",
       "  </tbody>\n",
       "</table>\n",
       "</div>"
      ],
      "text/plain": [
       "   day  month  year  hours  minutes        weather\n",
       "0   28      6  2018     16        0  Partly Cloudy\n",
       "1   29      6  2018     16        0  Partly Cloudy\n",
       "2   30      6  2018     16        0  Partly Cloudy\n",
       "3    1      7  2018     16        0  Partly Cloudy\n",
       "4    2      7  2018     16        0  Partly Cloudy\n",
       "5    3      7  2018     16        0  Partly Cloudy\n",
       "6    4      7  2018     16        0  Partly Cloudy\n",
       "7    5      7  2018     16        0  Partly Cloudy"
      ]
     },
     "execution_count": 23,
     "metadata": {},
     "output_type": "execute_result"
    }
   ],
   "source": [
    "df"
   ]
  },
  {
   "cell_type": "code",
   "execution_count": 13,
   "metadata": {
    "ExecuteTime": {
     "end_time": "2018-06-28T18:53:21.415475Z",
     "start_time": "2018-06-28T18:53:21.409550Z"
    }
   },
   "outputs": [
    {
     "name": "stdout",
     "output_type": "stream",
     "text": [
      "2018-06-28 15:49:12.289886\n"
     ]
    }
   ],
   "source": [
    "print(date_today)"
   ]
  },
  {
   "cell_type": "code",
   "execution_count": 14,
   "metadata": {
    "ExecuteTime": {
     "end_time": "2018-06-28T18:53:44.764991Z",
     "start_time": "2018-06-28T18:53:44.759896Z"
    }
   },
   "outputs": [
    {
     "name": "stdout",
     "output_type": "stream",
     "text": [
      "<built-in method time of datetime.datetime object at 0x10fb4aaa8>\n"
     ]
    }
   ],
   "source": [
    "print(date_today.time)"
   ]
  },
  {
   "cell_type": "code",
   "execution_count": null,
   "metadata": {},
   "outputs": [],
   "source": []
  }
 ],
 "metadata": {
  "kernelspec": {
   "display_name": "Python 3",
   "language": "python",
   "name": "python3"
  },
  "language_info": {
   "codemirror_mode": {
    "name": "ipython",
    "version": 3
   },
   "file_extension": ".py",
   "mimetype": "text/x-python",
   "name": "python",
   "nbconvert_exporter": "python",
   "pygments_lexer": "ipython3",
   "version": "3.6.4"
  }
 },
 "nbformat": 4,
 "nbformat_minor": 2
}
