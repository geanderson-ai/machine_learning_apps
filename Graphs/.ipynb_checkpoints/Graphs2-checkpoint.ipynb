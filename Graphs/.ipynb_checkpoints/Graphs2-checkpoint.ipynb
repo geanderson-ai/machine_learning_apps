{
 "cells": [
  {
   "cell_type": "code",
   "execution_count": 1,
   "metadata": {
    "ExecuteTime": {
     "end_time": "2018-06-11T14:11:17.588177Z",
     "start_time": "2018-06-11T14:11:15.824514Z"
    }
   },
   "outputs": [],
   "source": [
    "import pandas as pd \n",
    "import networkx as nx\n",
    "import numpy as np "
   ]
  },
  {
   "cell_type": "code",
   "execution_count": 2,
   "metadata": {
    "ExecuteTime": {
     "end_time": "2018-06-11T14:11:50.682701Z",
     "start_time": "2018-06-11T14:11:44.485935Z"
    }
   },
   "outputs": [],
   "source": [
    "url = 'https://raw.githubusercontent.com/roberthryniewicz/datasets/master/airline-dataset/flights/flights.csv'\n",
    "df = pd.read_csv(url)"
   ]
  },
  {
   "cell_type": "code",
   "execution_count": 3,
   "metadata": {
    "ExecuteTime": {
     "end_time": "2018-06-11T14:11:56.635372Z",
     "start_time": "2018-06-11T14:11:56.562729Z"
    }
   },
   "outputs": [
    {
     "data": {
      "text/html": [
       "<div>\n",
       "<style scoped>\n",
       "    .dataframe tbody tr th:only-of-type {\n",
       "        vertical-align: middle;\n",
       "    }\n",
       "\n",
       "    .dataframe tbody tr th {\n",
       "        vertical-align: top;\n",
       "    }\n",
       "\n",
       "    .dataframe thead th {\n",
       "        text-align: right;\n",
       "    }\n",
       "</style>\n",
       "<table border=\"1\" class=\"dataframe\">\n",
       "  <thead>\n",
       "    <tr style=\"text-align: right;\">\n",
       "      <th></th>\n",
       "      <th>Year</th>\n",
       "      <th>Month</th>\n",
       "      <th>DayofMonth</th>\n",
       "      <th>DayOfWeek</th>\n",
       "      <th>DepTime</th>\n",
       "      <th>CRSDepTime</th>\n",
       "      <th>ArrTime</th>\n",
       "      <th>CRSArrTime</th>\n",
       "      <th>UniqueCarrier</th>\n",
       "      <th>FlightNum</th>\n",
       "      <th>...</th>\n",
       "      <th>TaxiIn</th>\n",
       "      <th>TaxiOut</th>\n",
       "      <th>Cancelled</th>\n",
       "      <th>CancellationCode</th>\n",
       "      <th>Diverted</th>\n",
       "      <th>CarrierDelay</th>\n",
       "      <th>WeatherDelay</th>\n",
       "      <th>NASDelay</th>\n",
       "      <th>SecurityDelay</th>\n",
       "      <th>LateAircraftDelay</th>\n",
       "    </tr>\n",
       "  </thead>\n",
       "  <tbody>\n",
       "    <tr>\n",
       "      <th>0</th>\n",
       "      <td>2008</td>\n",
       "      <td>1</td>\n",
       "      <td>3</td>\n",
       "      <td>4</td>\n",
       "      <td>2003.0</td>\n",
       "      <td>1955</td>\n",
       "      <td>2211.0</td>\n",
       "      <td>2225</td>\n",
       "      <td>WN</td>\n",
       "      <td>335</td>\n",
       "      <td>...</td>\n",
       "      <td>4.0</td>\n",
       "      <td>8.0</td>\n",
       "      <td>0</td>\n",
       "      <td>NaN</td>\n",
       "      <td>0</td>\n",
       "      <td>NaN</td>\n",
       "      <td>NaN</td>\n",
       "      <td>NaN</td>\n",
       "      <td>NaN</td>\n",
       "      <td>NaN</td>\n",
       "    </tr>\n",
       "    <tr>\n",
       "      <th>1</th>\n",
       "      <td>2008</td>\n",
       "      <td>1</td>\n",
       "      <td>3</td>\n",
       "      <td>4</td>\n",
       "      <td>754.0</td>\n",
       "      <td>735</td>\n",
       "      <td>1002.0</td>\n",
       "      <td>1000</td>\n",
       "      <td>WN</td>\n",
       "      <td>3231</td>\n",
       "      <td>...</td>\n",
       "      <td>5.0</td>\n",
       "      <td>10.0</td>\n",
       "      <td>0</td>\n",
       "      <td>NaN</td>\n",
       "      <td>0</td>\n",
       "      <td>NaN</td>\n",
       "      <td>NaN</td>\n",
       "      <td>NaN</td>\n",
       "      <td>NaN</td>\n",
       "      <td>NaN</td>\n",
       "    </tr>\n",
       "    <tr>\n",
       "      <th>2</th>\n",
       "      <td>2008</td>\n",
       "      <td>1</td>\n",
       "      <td>3</td>\n",
       "      <td>4</td>\n",
       "      <td>628.0</td>\n",
       "      <td>620</td>\n",
       "      <td>804.0</td>\n",
       "      <td>750</td>\n",
       "      <td>WN</td>\n",
       "      <td>448</td>\n",
       "      <td>...</td>\n",
       "      <td>3.0</td>\n",
       "      <td>17.0</td>\n",
       "      <td>0</td>\n",
       "      <td>NaN</td>\n",
       "      <td>0</td>\n",
       "      <td>NaN</td>\n",
       "      <td>NaN</td>\n",
       "      <td>NaN</td>\n",
       "      <td>NaN</td>\n",
       "      <td>NaN</td>\n",
       "    </tr>\n",
       "    <tr>\n",
       "      <th>3</th>\n",
       "      <td>2008</td>\n",
       "      <td>1</td>\n",
       "      <td>3</td>\n",
       "      <td>4</td>\n",
       "      <td>926.0</td>\n",
       "      <td>930</td>\n",
       "      <td>1054.0</td>\n",
       "      <td>1100</td>\n",
       "      <td>WN</td>\n",
       "      <td>1746</td>\n",
       "      <td>...</td>\n",
       "      <td>3.0</td>\n",
       "      <td>7.0</td>\n",
       "      <td>0</td>\n",
       "      <td>NaN</td>\n",
       "      <td>0</td>\n",
       "      <td>NaN</td>\n",
       "      <td>NaN</td>\n",
       "      <td>NaN</td>\n",
       "      <td>NaN</td>\n",
       "      <td>NaN</td>\n",
       "    </tr>\n",
       "    <tr>\n",
       "      <th>4</th>\n",
       "      <td>2008</td>\n",
       "      <td>1</td>\n",
       "      <td>3</td>\n",
       "      <td>4</td>\n",
       "      <td>1829.0</td>\n",
       "      <td>1755</td>\n",
       "      <td>1959.0</td>\n",
       "      <td>1925</td>\n",
       "      <td>WN</td>\n",
       "      <td>3920</td>\n",
       "      <td>...</td>\n",
       "      <td>3.0</td>\n",
       "      <td>10.0</td>\n",
       "      <td>0</td>\n",
       "      <td>NaN</td>\n",
       "      <td>0</td>\n",
       "      <td>2.0</td>\n",
       "      <td>0.0</td>\n",
       "      <td>0.0</td>\n",
       "      <td>0.0</td>\n",
       "      <td>32.0</td>\n",
       "    </tr>\n",
       "  </tbody>\n",
       "</table>\n",
       "<p>5 rows × 29 columns</p>\n",
       "</div>"
      ],
      "text/plain": [
       "   Year  Month  DayofMonth  DayOfWeek  DepTime  CRSDepTime  ArrTime  \\\n",
       "0  2008      1           3          4   2003.0        1955   2211.0   \n",
       "1  2008      1           3          4    754.0         735   1002.0   \n",
       "2  2008      1           3          4    628.0         620    804.0   \n",
       "3  2008      1           3          4    926.0         930   1054.0   \n",
       "4  2008      1           3          4   1829.0        1755   1959.0   \n",
       "\n",
       "   CRSArrTime UniqueCarrier  FlightNum        ...         TaxiIn  TaxiOut  \\\n",
       "0        2225            WN        335        ...            4.0      8.0   \n",
       "1        1000            WN       3231        ...            5.0     10.0   \n",
       "2         750            WN        448        ...            3.0     17.0   \n",
       "3        1100            WN       1746        ...            3.0      7.0   \n",
       "4        1925            WN       3920        ...            3.0     10.0   \n",
       "\n",
       "   Cancelled  CancellationCode  Diverted  CarrierDelay WeatherDelay NASDelay  \\\n",
       "0          0               NaN         0           NaN          NaN      NaN   \n",
       "1          0               NaN         0           NaN          NaN      NaN   \n",
       "2          0               NaN         0           NaN          NaN      NaN   \n",
       "3          0               NaN         0           NaN          NaN      NaN   \n",
       "4          0               NaN         0           2.0          0.0      0.0   \n",
       "\n",
       "   SecurityDelay  LateAircraftDelay  \n",
       "0            NaN                NaN  \n",
       "1            NaN                NaN  \n",
       "2            NaN                NaN  \n",
       "3            NaN                NaN  \n",
       "4            0.0               32.0  \n",
       "\n",
       "[5 rows x 29 columns]"
      ]
     },
     "execution_count": 3,
     "metadata": {},
     "output_type": "execute_result"
    }
   ],
   "source": [
    "df.head()"
   ]
  },
  {
   "cell_type": "code",
   "execution_count": 4,
   "metadata": {
    "ExecuteTime": {
     "end_time": "2018-06-11T14:17:29.896818Z",
     "start_time": "2018-06-11T14:17:29.889948Z"
    }
   },
   "outputs": [
    {
     "data": {
      "text/plain": [
       "Index(['Year', 'Month', 'DayofMonth', 'DayOfWeek', 'DepTime', 'CRSDepTime',\n",
       "       'ArrTime', 'CRSArrTime', 'UniqueCarrier', 'FlightNum', 'TailNum',\n",
       "       'ActualElapsedTime', 'CRSElapsedTime', 'AirTime', 'ArrDelay',\n",
       "       'DepDelay', 'Origin', 'Dest', 'Distance', 'TaxiIn', 'TaxiOut',\n",
       "       'Cancelled', 'CancellationCode', 'Diverted', 'CarrierDelay',\n",
       "       'WeatherDelay', 'NASDelay', 'SecurityDelay', 'LateAircraftDelay'],\n",
       "      dtype='object')"
      ]
     },
     "execution_count": 4,
     "metadata": {},
     "output_type": "execute_result"
    }
   ],
   "source": [
    "df.columns"
   ]
  },
  {
   "cell_type": "code",
   "execution_count": 14,
   "metadata": {
    "ExecuteTime": {
     "end_time": "2018-06-11T14:41:21.838348Z",
     "start_time": "2018-06-11T14:41:21.755186Z"
    }
   },
   "outputs": [],
   "source": [
    "df.rename(index=str, columns={\"DayofMonth\": \"Day\"}, inplace=True)\n"
   ]
  },
  {
   "cell_type": "code",
   "execution_count": 15,
   "metadata": {
    "ExecuteTime": {
     "end_time": "2018-06-11T14:41:23.804146Z",
     "start_time": "2018-06-11T14:41:23.796080Z"
    }
   },
   "outputs": [
    {
     "data": {
      "text/plain": [
       "Year                   int64\n",
       "Month                  int64\n",
       "Day                    int64\n",
       "DayOfWeek              int64\n",
       "DepTime              float64\n",
       "CRSDepTime             int64\n",
       "ArrTime              float64\n",
       "CRSArrTime             int64\n",
       "UniqueCarrier         object\n",
       "FlightNum              int64\n",
       "TailNum               object\n",
       "ActualElapsedTime    float64\n",
       "CRSElapsedTime         int64\n",
       "AirTime              float64\n",
       "ArrDelay             float64\n",
       "DepDelay             float64\n",
       "Origin                object\n",
       "Dest                  object\n",
       "Distance               int64\n",
       "TaxiIn               float64\n",
       "TaxiOut              float64\n",
       "Cancelled              int64\n",
       "CancellationCode      object\n",
       "Diverted               int64\n",
       "CarrierDelay         float64\n",
       "WeatherDelay         float64\n",
       "NASDelay             float64\n",
       "SecurityDelay        float64\n",
       "LateAircraftDelay    float64\n",
       "dtype: object"
      ]
     },
     "execution_count": 15,
     "metadata": {},
     "output_type": "execute_result"
    }
   ],
   "source": [
    "df.dtypes"
   ]
  },
  {
   "cell_type": "code",
   "execution_count": 16,
   "metadata": {
    "ExecuteTime": {
     "end_time": "2018-06-11T14:41:33.253903Z",
     "start_time": "2018-06-11T14:41:33.244920Z"
    }
   },
   "outputs": [
    {
     "data": {
      "text/plain": [
       "(100000, 29)"
      ]
     },
     "execution_count": 16,
     "metadata": {},
     "output_type": "execute_result"
    }
   ],
   "source": [
    "df.shape"
   ]
  },
  {
   "cell_type": "code",
   "execution_count": 18,
   "metadata": {
    "ExecuteTime": {
     "end_time": "2018-06-11T14:41:43.474330Z",
     "start_time": "2018-06-11T14:41:43.000347Z"
    }
   },
   "outputs": [],
   "source": [
    "df['Date'] = pd.to_datetime(df[['Year', 'Month', 'Day']])\n",
    "df.Date.head()"
   ]
  },
  {
   "cell_type": "code",
   "execution_count": 22,
   "metadata": {
    "ExecuteTime": {
     "end_time": "2018-06-11T17:09:55.869253Z",
     "start_time": "2018-06-11T17:09:55.856682Z"
    }
   },
   "outputs": [],
   "source": [
    "sample = df.sample(n=5000)"
   ]
  },
  {
   "cell_type": "code",
   "execution_count": 23,
   "metadata": {
    "ExecuteTime": {
     "end_time": "2018-06-11T17:09:56.329360Z",
     "start_time": "2018-06-11T17:09:56.231763Z"
    }
   },
   "outputs": [],
   "source": [
    "FG = nx.from_pandas_edgelist(sample, source='Origin', target='Dest', edge_attr=True,)\n"
   ]
  },
  {
   "cell_type": "code",
   "execution_count": 24,
   "metadata": {
    "ExecuteTime": {
     "end_time": "2018-06-11T17:11:05.650132Z",
     "start_time": "2018-06-11T17:11:05.641461Z"
    }
   },
   "outputs": [
    {
     "data": {
      "text/plain": [
       "NodeView(('LAX', 'OAK', 'MCO', 'ISP', 'LAS', 'ALB', 'DAL', 'MCI', 'AUS', 'MDW', 'SAN', 'PHX', 'IND', 'ELP', 'SAT', 'PBI', 'TPA', 'ABQ', 'BUR', 'BWI', 'DTW', 'BNA', 'SMF', 'MHT', 'SJC', 'HOU', 'PIT', 'ONT', 'PDX', 'STL', 'SDF', 'BHM', 'LGB', 'MRY', 'BOI', 'BFL', 'DEN', 'RSW', 'AMA', 'SLC', 'SNA', 'JAN', 'CMH', 'RDU', 'SEA', 'OKC', 'PHL', 'PVD', 'BDL', 'LBB', 'RNO', 'FLL', 'LIT', 'ORF', 'JAX', 'TUL', 'MSY', 'IAD', 'EWR', 'BUF', 'TUS', 'COS', 'GEG', 'OMA', 'SFO', 'MAF', 'HRL', 'CLE', 'FAT', 'ORD', 'CRP', 'DAY', 'IAH', 'EUG'))"
      ]
     },
     "execution_count": 24,
     "metadata": {},
     "output_type": "execute_result"
    }
   ],
   "source": [
    "FG.nodes()"
   ]
  },
  {
   "cell_type": "code",
   "execution_count": 25,
   "metadata": {
    "ExecuteTime": {
     "end_time": "2018-06-11T17:11:14.349735Z",
     "start_time": "2018-06-11T17:11:14.340078Z"
    }
   },
   "outputs": [
    {
     "data": {
      "text/plain": [
       "EdgeView([('LAX', 'OAK'), ('LAX', 'LAS'), ('LAX', 'ABQ'), ('LAX', 'SAT'), ('LAX', 'SLC'), ('LAX', 'SMF'), ('LAX', 'PHX'), ('LAX', 'MCI'), ('LAX', 'MDW'), ('LAX', 'SFO'), ('LAX', 'SJC'), ('LAX', 'TUS'), ('LAX', 'HOU'), ('LAX', 'ELP'), ('LAX', 'RNO'), ('LAX', 'AUS'), ('LAX', 'BNA'), ('LAX', 'STL'), ('OAK', 'LAS'), ('OAK', 'BUR'), ('OAK', 'PDX'), ('OAK', 'SNA'), ('OAK', 'SAN'), ('OAK', 'ONT'), ('OAK', 'MDW'), ('OAK', 'SEA'), ('OAK', 'MCI'), ('OAK', 'DEN'), ('OAK', 'PHX'), ('OAK', 'HOU'), ('OAK', 'SLC'), ('OAK', 'BOI'), ('OAK', 'TUS'), ('OAK', 'RNO'), ('OAK', 'BNA'), ('OAK', 'GEG'), ('OAK', 'ABQ'), ('MCO', 'ISP'), ('MCO', 'SAT'), ('MCO', 'ABQ'), ('MCO', 'PIT'), ('MCO', 'BWI'), ('MCO', 'RSW'), ('MCO', 'RDU'), ('MCO', 'PHL'), ('MCO', 'PVD'), ('MCO', 'MHT'), ('MCO', 'MCI'), ('MCO', 'HOU'), ('MCO', 'CMH'), ('MCO', 'STL'), ('MCO', 'FLL'), ('MCO', 'MDW'), ('MCO', 'MSY'), ('MCO', 'BDL'), ('MCO', 'BNA'), ('MCO', 'BHM'), ('MCO', 'IAD'), ('MCO', 'BUF'), ('MCO', 'LAS'), ('MCO', 'ORF'), ('MCO', 'CLE'), ('MCO', 'DEN'), ('MCO', 'DTW'), ('MCO', 'PHX'), ('MCO', 'ALB'), ('MCO', 'SDF'), ('MCO', 'IND'), ('MCO', 'AUS'), ('MCO', 'JAN'), ('ISP', 'LAS'), ('ISP', 'MDW'), ('ISP', 'BWI'), ('ISP', 'PBI'), ('ISP', 'TPA'), ('ISP', 'RSW'), ('ISP', 'FLL'), ('LAS', 'ALB'), ('LAS', 'BOI'), ('LAS', 'DEN'), ('LAS', 'SNA'), ('LAS', 'BUR'), ('LAS', 'SMF'), ('LAS', 'ABQ'), ('LAS', 'ONT'), ('LAS', 'SAT'), ('LAS', 'SLC'), ('LAS', 'SAN'), ('LAS', 'RDU'), ('LAS', 'ELP'), ('LAS', 'MDW'), ('LAS', 'PHX'), ('LAS', 'SFO'), ('LAS', 'SJC'), ('LAS', 'MCI'), ('LAS', 'ORF'), ('LAS', 'RNO'), ('LAS', 'PIT'), ('LAS', 'TUS'), ('LAS', 'IND'), ('LAS', 'CMH'), ('LAS', 'SEA'), ('LAS', 'HOU'), ('LAS', 'SDF'), ('LAS', 'PHL'), ('LAS', 'IAD'), ('LAS', 'BNA'), ('LAS', 'AUS'), ('LAS', 'PDX'), ('LAS', 'BWI'), ('LAS', 'MHT'), ('LAS', 'BDL'), ('LAS', 'OKC'), ('LAS', 'BHM'), ('LAS', 'TPA'), ('LAS', 'MSY'), ('LAS', 'TUL'), ('LAS', 'GEG'), ('LAS', 'STL'), ('LAS', 'CLE'), ('LAS', 'LIT'), ('LAS', 'MAF'), ('LAS', 'OMA'), ('LAS', 'LBB'), ('LAS', 'AMA'), ('LAS', 'BUF'), ('LAS', 'PVD'), ('ALB', 'MDW'), ('ALB', 'BWI'), ('DAL', 'MCI'), ('DAL', 'AUS'), ('DAL', 'OKC'), ('DAL', 'LBB'), ('DAL', 'HOU'), ('DAL', 'STL'), ('DAL', 'ELP'), ('DAL', 'SAT'), ('DAL', 'LIT'), ('DAL', 'ABQ'), ('DAL', 'BHM'), ('DAL', 'MAF'), ('DAL', 'AMA'), ('DAL', 'TUL'), ('DAL', 'MSY'), ('MCI', 'STL'), ('MCI', 'IND'), ('MCI', 'MDW'), ('MCI', 'SEA'), ('MCI', 'TUL'), ('MCI', 'PDX'), ('MCI', 'TPA'), ('MCI', 'SMF'), ('MCI', 'JAX'), ('MCI', 'BWI'), ('MCI', 'BNA'), ('MCI', 'OKC'), ('MCI', 'RDU'), ('MCI', 'PHX'), ('MCI', 'SAN'), ('MCI', 'ABQ'), ('MCI', 'TUS'), ('MCI', 'MSY'), ('MCI', 'DEN'), ('MCI', 'AUS'), ('MCI', 'ONT'), ('AUS', 'ELP'), ('AUS', 'HOU'), ('AUS', 'PHX'), ('AUS', 'TUS'), ('AUS', 'BNA'), ('AUS', 'MAF'), ('AUS', 'ABQ'), ('AUS', 'MSY'), ('AUS', 'SAN'), ('AUS', 'BWI'), ('AUS', 'JAX'), ('AUS', 'MDW'), ('AUS', 'ONT'), ('AUS', 'HRL'), ('AUS', 'OKC'), ('AUS', 'TPA'), ('AUS', 'DEN'), ('AUS', 'LBB'), ('MDW', 'SAN'), ('MDW', 'SDF'), ('MDW', 'TPA'), ('MDW', 'SEA'), ('MDW', 'ORF'), ('MDW', 'PIT'), ('MDW', 'MSY'), ('MDW', 'MHT'), ('MDW', 'IAD'), ('MDW', 'DTW'), ('MDW', 'PHL'), ('MDW', 'RSW'), ('MDW', 'PHX'), ('MDW', 'BUF'), ('MDW', 'TUS'), ('MDW', 'FLL'), ('MDW', 'OMA'), ('MDW', 'ABQ'), ('MDW', 'STL'), ('MDW', 'CLE'), ('MDW', 'IND'), ('MDW', 'RDU'), ('MDW', 'BNA'), ('MDW', 'BDL'), ('MDW', 'SFO'), ('MDW', 'CMH'), ('MDW', 'PVD'), ('MDW', 'DEN'), ('MDW', 'BWI'), ('MDW', 'HOU'), ('MDW', 'PDX'), ('MDW', 'BHM'), ('MDW', 'JAN'), ('MDW', 'SAT'), ('MDW', 'RNO'), ('MDW', 'LIT'), ('MDW', 'SJC'), ('MDW', 'SMF'), ('MDW', 'SLC'), ('SAN', 'SJC'), ('SAN', 'BFL'), ('SAN', 'BNA'), ('SAN', 'SMF'), ('SAN', 'TUS'), ('SAN', 'COS'), ('SAN', 'OMA'), ('SAN', 'ABQ'), ('SAN', 'SFO'), ('SAN', 'GEG'), ('SAN', 'FAT'), ('SAN', 'TUL'), ('SAN', 'SAT'), ('SAN', 'PHX'), ('SAN', 'BOI'), ('SAN', 'OKC'), ('SAN', 'MRY'), ('SAN', 'ELP'), ('SAN', 'RNO'), ('SAN', 'BWI'), ('SAN', 'HOU'), ('PHX', 'IND'), ('PHX', 'SMF'), ('PHX', 'BWI'), ('PHX', 'SAT'), ('PHX', 'SLC'), ('PHX', 'ELP'), ('PHX', 'RDU'), ('PHX', 'BUR'), ('PHX', 'DEN'), ('PHX', 'HOU'), ('PHX', 'STL'), ('PHX', 'LIT'), ('PHX', 'ABQ'), ('PHX', 'PHL'), ('PHX', 'SNA'), ('PHX', 'BNA'), ('PHX', 'PDX'), ('PHX', 'OMA'), ('PHX', 'SJC'), ('PHX', 'ONT'), ('PHX', 'BHM'), ('PHX', 'TUL'), ('PHX', 'MSY'), ('PHX', 'OKC'), ('PHX', 'SEA'), ('PHX', 'SDF'), ('PHX', 'CMH'), ('PHX', 'RNO'), ('PHX', 'DTW'), ('PHX', 'PIT'), ('PHX', 'TPA'), ('PHX', 'MHT'), ('PHX', 'PVD'), ('IND', 'BWI'), ('IND', 'TPA'), ('IND', 'JAX'), ('ELP', 'HOU'), ('ELP', 'SAT'), ('ELP', 'ABQ'), ('ELP', 'TUS'), ('ELP', 'ONT'), ('ELP', 'LBB'), ('SAT', 'HOU'), ('SAT', 'TPA'), ('SAT', 'ABQ'), ('SAT', 'SMF'), ('SAT', 'BWI'), ('SAT', 'MSY'), ('SAT', 'TUS'), ('SAT', 'ONT'), ('SAT', 'OKC'), ('SAT', 'BNA'), ('SAT', 'HRL'), ('SAT', 'TUL'), ('PBI', 'TPA'), ('PBI', 'PHL'), ('PBI', 'BWI'), ('TPA', 'ABQ'), ('TPA', 'HOU'), ('TPA', 'BDL'), ('TPA', 'DEN'), ('TPA', 'IAD'), ('TPA', 'BNA'), ('TPA', 'CMH'), ('TPA', 'PHL'), ('TPA', 'FLL'), ('TPA', 'PIT'), ('TPA', 'JAX'), ('TPA', 'PVD'), ('TPA', 'MHT'), ('TPA', 'MSY'), ('TPA', 'BWI'), ('TPA', 'ORF'), ('TPA', 'BUF'), ('TPA', 'STL'), ('TPA', 'RDU'), ('TPA', 'BHM'), ('TPA', 'SDF'), ('ABQ', 'HOU'), ('ABQ', 'SMF'), ('ABQ', 'TUS'), ('ABQ', 'SEA'), ('ABQ', 'ONT'), ('ABQ', 'BWI'), ('ABQ', 'AMA'), ('ABQ', 'DEN'), ('ABQ', 'STL'), ('ABQ', 'SLC'), ('ABQ', 'LBB'), ('ABQ', 'TUL'), ('ABQ', 'MAF'), ('ABQ', 'PDX'), ('BUR', 'SMF'), ('BUR', 'SJC'), ('BWI', 'DTW'), ('BWI', 'BNA'), ('BWI', 'MHT'), ('BWI', 'PIT'), ('BWI', 'SDF'), ('BWI', 'BHM'), ('BWI', 'JAX'), ('BWI', 'RDU'), ('BWI', 'SLC'), ('BWI', 'BDL'), ('BWI', 'OKC'), ('BWI', 'ORF'), ('BWI', 'PVD'), ('BWI', 'CMH'), ('BWI', 'BUF'), ('BWI', 'FLL'), ('BWI', 'RSW'), ('BWI', 'CLE'), ('BWI', 'DEN'), ('BWI', 'STL'), ('BWI', 'HOU'), ('BWI', 'JAN'), ('BWI', 'LIT'), ('BWI', 'MSY'), ('DTW', 'EWR'), ('DTW', 'STL'), ('DTW', 'BNA'), ('BNA', 'BHM'), ('BNA', 'JAX'), ('BNA', 'MSY'), ('BNA', 'PHL'), ('BNA', 'RDU'), ('BNA', 'FLL'), ('BNA', 'PVD'), ('BNA', 'HOU'), ('BNA', 'CMH'), ('BNA', 'CLE'), ('BNA', 'DEN'), ('BNA', 'ONT'), ('BNA', 'SEA'), ('BNA', 'BDL'), ('SMF', 'ONT'), ('SMF', 'PDX'), ('SMF', 'SEA'), ('SMF', 'SNA'), ('SMF', 'BFL'), ('SMF', 'GEG'), ('SMF', 'TUS'), ('SMF', 'COS'), ('SMF', 'TUL'), ('SMF', 'OKC'), ('MHT', 'PHL'), ('SJC', 'SNA'), ('SJC', 'RNO'), ('SJC', 'PDX'), ('SJC', 'SEA'), ('SJC', 'ONT'), ('HOU', 'JAN'), ('HOU', 'LIT'), ('HOU', 'MSY'), ('HOU', 'OKC'), ('HOU', 'HRL'), ('HOU', 'TUL'), ('HOU', 'DEN'), ('HOU', 'STL'), ('HOU', 'FLL'), ('HOU', 'JAX'), ('HOU', 'BHM'), ('HOU', 'MAF'), ('HOU', 'CRP'), ('HOU', 'PHL'), ('PIT', 'PHL'), ('ONT', 'TUL'), ('ONT', 'OMA'), ('ONT', 'OKC'), ('ONT', 'COS'), ('ONT', 'FAT'), ('ONT', 'RNO'), ('ONT', 'TUS'), ('ONT', 'SLC'), ('ONT', 'BOI'), ('ONT', 'GEG'), ('ONT', 'MRY'), ('PDX', 'GEG'), ('PDX', 'RNO'), ('PDX', 'SLC'), ('PDX', 'BOI'), ('STL', 'CMH'), ('STL', 'FLL'), ('STL', 'SLC'), ('STL', 'OMA'), ('STL', 'TUL'), ('STL', 'OKC'), ('STL', 'BHM'), ('STL', 'LIT'), ('STL', 'SDF'), ('STL', 'CLE'), ('SDF', 'BHM'), ('BHM', 'JAX'), ('BHM', 'MSY'), ('BHM', 'RDU'), ('LGB', 'MRY'), ('LGB', 'RNO'), ('LGB', 'FAT'), ('BOI', 'SEA'), ('BOI', 'RNO'), ('BOI', 'SLC'), ('BOI', 'GEG'), ('DEN', 'AMA'), ('DEN', 'SEA'), ('DEN', 'SLC'), ('DEN', 'OKC'), ('RSW', 'PHL'), ('SLC', 'RNO'), ('SLC', 'GEG'), ('SLC', 'SEA'), ('SLC', 'OKC'), ('SLC', 'EUG'), ('SLC', 'IAH'), ('CMH', 'PHL'), ('RDU', 'MSY'), ('RDU', 'JAX'), ('RDU', 'PHL'), ('RDU', 'EWR'), ('SEA', 'RNO'), ('SEA', 'GEG'), ('PHL', 'JAX'), ('PHL', 'PVD'), ('PHL', 'FLL'), ('PVD', 'FLL'), ('LBB', 'IAH'), ('RNO', 'GEG'), ('RNO', 'TUS'), ('FLL', 'JAX'), ('FLL', 'MSY'), ('ORF', 'JAX'), ('JAX', 'MSY'), ('EWR', 'ORD'), ('BUF', 'CLE'), ('TUS', 'OMA'), ('TUS', 'GEG'), ('DAY', 'IAH')])"
      ]
     },
     "execution_count": 25,
     "metadata": {},
     "output_type": "execute_result"
    }
   ],
   "source": [
    "FG.edges"
   ]
  },
  {
   "cell_type": "code",
   "execution_count": 40,
   "metadata": {
    "ExecuteTime": {
     "end_time": "2018-06-12T02:25:27.513327Z",
     "start_time": "2018-06-12T02:25:26.828700Z"
    }
   },
   "outputs": [
    {
     "data": {
      "image/png": "[encoded data removed]",
      "text/plain": [
       "<matplotlib.figure.Figure at 0x151576d128>"
      ]
     },
     "metadata": {},
     "output_type": "display_data"
    }
   ],
   "source": [
    "nx.draw_networkx(FG, figsize=(20, 16))"
   ]
  },
  {
   "cell_type": "code",
   "execution_count": 30,
   "metadata": {
    "ExecuteTime": {
     "end_time": "2018-06-11T17:14:51.176583Z",
     "start_time": "2018-06-11T17:14:51.166903Z"
    }
   },
   "outputs": [
    {
     "data": {
      "text/plain": [
       "{'ABQ': 0.3698630136986301,\n",
       " 'ALB': 0.0547945205479452,\n",
       " 'AMA': 0.0547945205479452,\n",
       " 'AUS': 0.3150684931506849,\n",
       " 'BDL': 0.0821917808219178,\n",
       " 'BFL': 0.0273972602739726,\n",
       " 'BHM': 0.1917808219178082,\n",
       " 'BNA': 0.3698630136986301,\n",
       " 'BOI': 0.1232876712328767,\n",
       " 'BUF': 0.0821917808219178,\n",
       " 'BUR': 0.0684931506849315,\n",
       " 'BWI': 0.5205479452054794,\n",
       " 'CLE': 0.0958904109589041,\n",
       " 'CMH': 0.1232876712328767,\n",
       " 'COS': 0.0410958904109589,\n",
       " 'CRP': 0.0136986301369863,\n",
       " 'DAL': 0.2054794520547945,\n",
       " 'DAY': 0.0136986301369863,\n",
       " 'DEN': 0.2191780821917808,\n",
       " 'DTW': 0.0958904109589041,\n",
       " 'ELP': 0.1643835616438356,\n",
       " 'EUG': 0.0136986301369863,\n",
       " 'EWR': 0.0410958904109589,\n",
       " 'FAT': 0.0410958904109589,\n",
       " 'FLL': 0.1643835616438356,\n",
       " 'GEG': 0.1506849315068493,\n",
       " 'HOU': 0.3972602739726027,\n",
       " 'HRL': 0.0410958904109589,\n",
       " 'IAD': 0.0547945205479452,\n",
       " 'IAH': 0.0410958904109589,\n",
       " 'IND': 0.1095890410958904,\n",
       " 'ISP': 0.1095890410958904,\n",
       " 'JAN': 0.0547945205479452,\n",
       " 'JAX': 0.1780821917808219,\n",
       " 'LAS': 0.7397260273972602,\n",
       " 'LAX': 0.2465753424657534,\n",
       " 'LBB': 0.0821917808219178,\n",
       " 'LGB': 0.0410958904109589,\n",
       " 'LIT': 0.0958904109589041,\n",
       " 'MAF': 0.0684931506849315,\n",
       " 'MCI': 0.3561643835616438,\n",
       " 'MCO': 0.4520547945205479,\n",
       " 'MDW': 0.6438356164383561,\n",
       " 'MHT': 0.0958904109589041,\n",
       " 'MRY': 0.0410958904109589,\n",
       " 'MSY': 0.2191780821917808,\n",
       " 'OAK': 0.273972602739726,\n",
       " 'OKC': 0.1917808219178082,\n",
       " 'OMA': 0.0958904109589041,\n",
       " 'ONT': 0.3013698630136986,\n",
       " 'ORD': 0.0136986301369863,\n",
       " 'ORF': 0.0821917808219178,\n",
       " 'PBI': 0.0547945205479452,\n",
       " 'PDX': 0.1643835616438356,\n",
       " 'PHL': 0.2191780821917808,\n",
       " 'PHX': 0.5616438356164384,\n",
       " 'PIT': 0.0958904109589041,\n",
       " 'PVD': 0.1232876712328767,\n",
       " 'RDU': 0.1780821917808219,\n",
       " 'RNO': 0.2054794520547945,\n",
       " 'RSW': 0.0684931506849315,\n",
       " 'SAN': 0.3561643835616438,\n",
       " 'SAT': 0.273972602739726,\n",
       " 'SDF': 0.1095890410958904,\n",
       " 'SEA': 0.1917808219178082,\n",
       " 'SFO': 0.0547945205479452,\n",
       " 'SJC': 0.1506849315068493,\n",
       " 'SLC': 0.2465753424657534,\n",
       " 'SMF': 0.2602739726027397,\n",
       " 'SNA': 0.0684931506849315,\n",
       " 'STL': 0.3013698630136986,\n",
       " 'TPA': 0.410958904109589,\n",
       " 'TUL': 0.1506849315068493,\n",
       " 'TUS': 0.2054794520547945}"
      ]
     },
     "execution_count": 30,
     "metadata": {},
     "output_type": "execute_result"
    }
   ],
   "source": [
    "nx.algorithms.degree_centrality(FG)"
   ]
  },
  {
   "cell_type": "code",
   "execution_count": 31,
   "metadata": {
    "ExecuteTime": {
     "end_time": "2018-06-11T17:15:32.432855Z",
     "start_time": "2018-06-11T17:15:32.424123Z"
    }
   },
   "outputs": [
    {
     "data": {
      "text/plain": [
       "0.17734172528693076"
      ]
     },
     "execution_count": 31,
     "metadata": {},
     "output_type": "execute_result"
    }
   ],
   "source": [
    "nx.density(FG) # Average edge density of the Graphs"
   ]
  },
  {
   "cell_type": "code",
   "execution_count": 32,
   "metadata": {
    "ExecuteTime": {
     "end_time": "2018-06-11T17:21:13.400309Z",
     "start_time": "2018-06-11T17:21:13.343103Z"
    }
   },
   "outputs": [
    {
     "data": {
      "text/plain": [
       "2.1077378748611624"
      ]
     },
     "execution_count": 32,
     "metadata": {},
     "output_type": "execute_result"
    }
   ],
   "source": [
    "nx.average_shortest_path_length(FG) # Average shortest path length for ALL paths in the Graph"
   ]
  },
  {
   "cell_type": "code",
   "execution_count": 33,
   "metadata": {
    "ExecuteTime": {
     "end_time": "2018-06-11T17:21:33.900907Z",
     "start_time": "2018-06-11T17:21:33.890453Z"
    }
   },
   "outputs": [
    {
     "data": {
      "text/plain": [
       "{1: 13.25,\n",
       " 2: 22.5,\n",
       " 3: 14.666666666666666,\n",
       " 4: 34.666666666666664,\n",
       " 5: 29.0,\n",
       " 6: 32.791666666666664,\n",
       " 7: 34.023809523809526,\n",
       " 8: 32.666666666666664,\n",
       " 9: 29.555555555555557,\n",
       " 11: 23.757575757575758,\n",
       " 12: 24.5,\n",
       " 13: 23.692307692307693,\n",
       " 14: 26.095238095238095,\n",
       " 15: 20.08888888888889,\n",
       " 16: 25.416666666666668,\n",
       " 18: 22.61111111111111,\n",
       " 19: 19.63157894736842,\n",
       " 20: 23.35,\n",
       " 22: 19.568181818181817,\n",
       " 23: 23.17391304347826,\n",
       " 26: 20.865384615384617,\n",
       " 27: 21.75925925925926,\n",
       " 29: 20.17241379310345,\n",
       " 30: 17.866666666666667,\n",
       " 33: 16.545454545454547,\n",
       " 38: 16.657894736842106,\n",
       " 41: 18.097560975609756,\n",
       " 47: 15.914893617021276,\n",
       " 54: 15.12962962962963}"
      ]
     },
     "execution_count": 33,
     "metadata": {},
     "output_type": "execute_result"
    }
   ],
   "source": [
    "nx.average_degree_connectivity(FG) # For a node of degree k - What is the average of its neighbours' degree?"
   ]
  },
  {
   "cell_type": "code",
   "execution_count": 35,
   "metadata": {
    "ExecuteTime": {
     "end_time": "2018-06-11T17:32:52.113262Z",
     "start_time": "2018-06-11T17:32:52.105580Z"
    }
   },
   "outputs": [
    {
     "data": {
      "text/plain": [
       "<generator object _all_simple_paths_graph at 0x15156c24c0>"
      ]
     },
     "execution_count": 35,
     "metadata": {},
     "output_type": "execute_result"
    }
   ],
   "source": [
    "nx.all_simple_paths(FG, source='LAX', target='FLL')"
   ]
  },
  {
   "cell_type": "code",
   "execution_count": null,
   "metadata": {
    "ExecuteTime": {
     "end_time": "2018-06-11T17:34:16.681156Z",
     "start_time": "2018-06-11T17:33:25.111Z"
    }
   },
   "outputs": [],
   "source": [
    "# Let us find all the paths available\n",
    "for path in nx.all_simple_paths(FG, source='LAX', target='FLL'):\n",
    " print(path[0][1])\n"
   ]
  },
  {
   "cell_type": "code",
   "execution_count": 37,
   "metadata": {
    "ExecuteTime": {
     "end_time": "2018-06-11T17:34:21.172453Z",
     "start_time": "2018-06-11T17:34:21.164123Z"
    }
   },
   "outputs": [
    {
     "data": {
      "text/plain": [
       "['LAX', 'MDW', 'FLL']"
      ]
     },
     "execution_count": 37,
     "metadata": {},
     "output_type": "execute_result"
    }
   ],
   "source": [
    "# Let us find the dijkstra path from JAX to DFW.\n",
    "# You can read more in-depth on how dijkstra works from this resource - https://courses.csail.mit.edu/6.006/fall11/lectures/lecture16.pdf\n",
    "dijpath = nx.dijkstra_path(FG, source='LAX', target='FLL')\n",
    "dijpath"
   ]
  },
  {
   "cell_type": "code",
   "execution_count": 38,
   "metadata": {
    "ExecuteTime": {
     "end_time": "2018-06-11T17:43:55.169558Z",
     "start_time": "2018-06-11T17:43:55.159756Z"
    }
   },
   "outputs": [
    {
     "data": {
      "text/plain": [
       "['LAX', 'PHX', 'MSY', 'FLL']"
      ]
     },
     "execution_count": 38,
     "metadata": {},
     "output_type": "execute_result"
    }
   ],
   "source": [
    "# Let us try to find the dijkstra path weighted by airtime (approximate case)\n",
    "shortpath = nx.dijkstra_path(FG, source='LAX', target='FLL', weight='Distance')\n",
    "shortpath"
   ]
  },
  {
   "cell_type": "code",
   "execution_count": 39,
   "metadata": {
    "ExecuteTime": {
     "end_time": "2018-06-12T01:41:07.545396Z",
     "start_time": "2018-06-12T01:41:07.527530Z"
    }
   },
   "outputs": [
    {
     "data": {
      "text/plain": [
       "{'ABQ': 0.47293447293447294,\n",
       " 'ALB': 1.0,\n",
       " 'AMA': 0.6666666666666666,\n",
       " 'AUS': 0.49407114624505927,\n",
       " 'BDL': 0.9333333333333333,\n",
       " 'BFL': 1.0,\n",
       " 'BHM': 0.7252747252747253,\n",
       " 'BNA': 0.4672364672364672,\n",
       " 'BOI': 0.8055555555555556,\n",
       " 'BUF': 0.8666666666666667,\n",
       " 'BUR': 0.7,\n",
       " 'BWI': 0.31436699857752487,\n",
       " 'CLE': 0.8571428571428571,\n",
       " 'CMH': 0.8888888888888888,\n",
       " 'COS': 0.6666666666666666,\n",
       " 'CRP': 0,\n",
       " 'DAL': 0.38095238095238093,\n",
       " 'DAY': 0,\n",
       " 'DEN': 0.6833333333333333,\n",
       " 'DTW': 0.6666666666666666,\n",
       " 'ELP': 0.696969696969697,\n",
       " 'EUG': 0,\n",
       " 'EWR': 0,\n",
       " 'FAT': 0,\n",
       " 'FLL': 0.696969696969697,\n",
       " 'GEG': 0.7272727272727273,\n",
       " 'HOU': 0.41133004926108374,\n",
       " 'HRL': 0.6666666666666666,\n",
       " 'IAD': 0.8333333333333334,\n",
       " 'IAH': 0,\n",
       " 'IND': 0.8214285714285714,\n",
       " 'ISP': 0.6428571428571429,\n",
       " 'JAN': 1.0,\n",
       " 'JAX': 0.5897435897435898,\n",
       " 'LAS': 0.24039133473095736,\n",
       " 'LAX': 0.5490196078431373,\n",
       " 'LBB': 0.6,\n",
       " 'LGB': 0,\n",
       " 'LIT': 0.8095238095238095,\n",
       " 'MAF': 0.9,\n",
       " 'MCI': 0.48923076923076925,\n",
       " 'MCO': 0.3162878787878788,\n",
       " 'MDW': 0.2682701202590194,\n",
       " 'MHT': 0.9047619047619048,\n",
       " 'MRY': 0,\n",
       " 'MSY': 0.7333333333333333,\n",
       " 'OAK': 0.5421052631578948,\n",
       " 'OKC': 0.6373626373626373,\n",
       " 'OMA': 0.7142857142857143,\n",
       " 'ONT': 0.35064935064935066,\n",
       " 'ORD': 0,\n",
       " 'ORF': 0.7333333333333333,\n",
       " 'PBI': 0.6666666666666666,\n",
       " 'PDX': 0.6666666666666666,\n",
       " 'PHL': 0.5166666666666667,\n",
       " 'PHX': 0.3402439024390244,\n",
       " 'PIT': 0.9047619047619048,\n",
       " 'PVD': 0.8888888888888888,\n",
       " 'RDU': 0.717948717948718,\n",
       " 'RNO': 0.6,\n",
       " 'RSW': 0.8,\n",
       " 'SAN': 0.3384615384615385,\n",
       " 'SAT': 0.5368421052631579,\n",
       " 'SDF': 0.9642857142857143,\n",
       " 'SEA': 0.6263736263736264,\n",
       " 'SFO': 0.8333333333333334,\n",
       " 'SJC': 0.5272727272727272,\n",
       " 'SLC': 0.477124183006536,\n",
       " 'SMF': 0.43859649122807015,\n",
       " 'SNA': 0.7,\n",
       " 'STL': 0.45454545454545453,\n",
       " 'TPA': 0.3701149425287356,\n",
       " 'TUL': 0.7454545454545455,\n",
       " 'TUS': 0.6476190476190476}"
      ]
     },
     "execution_count": 39,
     "metadata": {},
     "output_type": "execute_result"
    }
   ],
   "source": [
    "nx.clustering(FG)"
   ]
  },
  {
   "cell_type": "code",
   "execution_count": null,
   "metadata": {},
   "outputs": [],
   "source": []
  }
 ],
 "metadata": {
  "kernelspec": {
   "display_name": "Python 3",
   "language": "python",
   "name": "python3"
  },
  "language_info": {
   "codemirror_mode": {
    "name": "ipython",
    "version": 3
   },
   "file_extension": ".py",
   "mimetype": "text/x-python",
   "name": "python",
   "nbconvert_exporter": "python",
   "pygments_lexer": "ipython3",
   "version": "3.6.4"
  }
 },
 "nbformat": 4,
 "nbformat_minor": 2
}
