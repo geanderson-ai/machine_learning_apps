{
 "cells": [
  {
   "cell_type": "markdown",
   "metadata": {},
   "source": [
    "Model specification\n",
    "Two main components of models are distinguished in SEM: the *structural model* showing potential causal dependencies\n",
    "between endogenous and exogenous variables, and the *measurement model* showing the relations between latent variables\n",
    "and their indicators. Exploratory and confirmatory factor analysis models, for example, contain only the measurement part,\n",
    "while path diagrams can be viewed as SEMs that contain only the structural part."
   ]
  },
  {
   "cell_type": "code",
   "execution_count": 1,
   "metadata": {
    "ExecuteTime": {
     "end_time": "2018-06-05T17:46:44.081423Z",
     "start_time": "2018-06-05T17:46:41.392079Z"
    }
   },
   "outputs": [],
   "source": [
    "import numpy as np\n",
    "import pandas as pd\n",
    "from sklearn.decomposition import FactorAnalysis"
   ]
  },
  {
   "cell_type": "code",
   "execution_count": 2,
   "metadata": {
    "ExecuteTime": {
     "end_time": "2018-06-05T17:46:46.498899Z",
     "start_time": "2018-06-05T17:46:44.086011Z"
    }
   },
   "outputs": [],
   "source": [
    "df = pd.read_csv('retail_may.csv')"
   ]
  },
  {
   "cell_type": "code",
   "execution_count": 3,
   "metadata": {
    "ExecuteTime": {
     "end_time": "2018-06-05T17:47:27.185038Z",
     "start_time": "2018-06-05T17:47:27.151787Z"
    }
   },
   "outputs": [],
   "source": [
    "sample = df.sample(n=1000)"
   ]
  },
  {
   "cell_type": "code",
   "execution_count": 11,
   "metadata": {
    "ExecuteTime": {
     "end_time": "2018-06-05T17:51:18.053101Z",
     "start_time": "2018-06-05T17:51:18.024955Z"
    }
   },
   "outputs": [
    {
     "data": {
      "text/plain": [
       "Quantity               3.867069e+02\n",
       "UnitPrice              3.895306e+04\n",
       "CustomerID             2.948601e+06\n",
       "AcceptDiscount         2.500541e-01\n",
       "NormalPrice            3.316560e+01\n",
       "LenghtDiscount         6.783151e+00\n",
       "PromotionDays          8.604916e+00\n",
       "Elasticity             1.289273e+00\n",
       "KindOfSale             6.669379e-01\n",
       "Display                2.502012e-01\n",
       "DisplayInStore         2.502342e-01\n",
       "TypeofPromotion        1.230747e+00\n",
       "TypeofProduct          8.128673e+00\n",
       "CompetitionPressure    2.501862e-01\n",
       "Seasonality            2.499610e-01\n",
       "Revenue                4.067894e+04\n",
       "Clustering             2.118294e+00\n",
       "dtype: float64"
      ]
     },
     "execution_count": 11,
     "metadata": {},
     "output_type": "execute_result"
    }
   ],
   "source": [
    "sample.var()"
   ]
  },
  {
   "cell_type": "code",
   "execution_count": 33,
   "metadata": {
    "ExecuteTime": {
     "end_time": "2018-05-12T03:46:48.311737Z",
     "start_time": "2018-05-12T03:46:47.651700Z"
    }
   },
   "outputs": [
    {
     "data": {
      "text/html": [
       "<div>\n",
       "<style scoped>\n",
       "    .dataframe tbody tr th:only-of-type {\n",
       "        vertical-align: middle;\n",
       "    }\n",
       "\n",
       "    .dataframe tbody tr th {\n",
       "        vertical-align: top;\n",
       "    }\n",
       "\n",
       "    .dataframe thead th {\n",
       "        text-align: right;\n",
       "    }\n",
       "</style>\n",
       "<table border=\"1\" class=\"dataframe\">\n",
       "  <thead>\n",
       "    <tr style=\"text-align: right;\">\n",
       "      <th></th>\n",
       "      <th>Quantity</th>\n",
       "      <th>UnitPrice</th>\n",
       "      <th>CustomerID</th>\n",
       "      <th>AcceptDiscount</th>\n",
       "      <th>NormalPrice</th>\n",
       "      <th>LenghtDiscount</th>\n",
       "      <th>PromotionDays</th>\n",
       "      <th>Elasticity</th>\n",
       "      <th>KindOfSale</th>\n",
       "      <th>Display</th>\n",
       "      <th>DisplayInStore</th>\n",
       "      <th>TypeofPromotion</th>\n",
       "      <th>TypeofProduct</th>\n",
       "      <th>CompetitionPressure</th>\n",
       "      <th>Seasonality</th>\n",
       "      <th>Revenue</th>\n",
       "      <th>Clustering</th>\n",
       "    </tr>\n",
       "  </thead>\n",
       "  <tbody>\n",
       "    <tr>\n",
       "      <th>Quantity</th>\n",
       "      <td>1.000000</td>\n",
       "      <td>-0.001512</td>\n",
       "      <td>-0.004612</td>\n",
       "      <td>-0.002522</td>\n",
       "      <td>0.001144</td>\n",
       "      <td>0.001361</td>\n",
       "      <td>-0.000076</td>\n",
       "      <td>0.000227</td>\n",
       "      <td>-0.000172</td>\n",
       "      <td>0.002672</td>\n",
       "      <td>-0.000240</td>\n",
       "      <td>0.001826</td>\n",
       "      <td>0.000161</td>\n",
       "      <td>0.000635</td>\n",
       "      <td>0.002169</td>\n",
       "      <td>0.787030</td>\n",
       "      <td>-0.000530</td>\n",
       "    </tr>\n",
       "    <tr>\n",
       "      <th>UnitPrice</th>\n",
       "      <td>-0.001512</td>\n",
       "      <td>1.000000</td>\n",
       "      <td>-0.002132</td>\n",
       "      <td>-0.000076</td>\n",
       "      <td>0.000630</td>\n",
       "      <td>-0.000021</td>\n",
       "      <td>-0.000797</td>\n",
       "      <td>0.000067</td>\n",
       "      <td>0.000839</td>\n",
       "      <td>-0.002557</td>\n",
       "      <td>-0.000040</td>\n",
       "      <td>-0.002031</td>\n",
       "      <td>-0.000789</td>\n",
       "      <td>0.001478</td>\n",
       "      <td>-0.000447</td>\n",
       "      <td>-0.294454</td>\n",
       "      <td>-0.003904</td>\n",
       "    </tr>\n",
       "    <tr>\n",
       "      <th>CustomerID</th>\n",
       "      <td>-0.004612</td>\n",
       "      <td>-0.002132</td>\n",
       "      <td>1.000000</td>\n",
       "      <td>0.002601</td>\n",
       "      <td>-0.001197</td>\n",
       "      <td>0.003026</td>\n",
       "      <td>-0.001908</td>\n",
       "      <td>0.000759</td>\n",
       "      <td>-0.000307</td>\n",
       "      <td>0.000846</td>\n",
       "      <td>0.001000</td>\n",
       "      <td>-0.000126</td>\n",
       "      <td>-0.000141</td>\n",
       "      <td>-0.002620</td>\n",
       "      <td>0.001680</td>\n",
       "      <td>-0.003519</td>\n",
       "      <td>-0.002810</td>\n",
       "    </tr>\n",
       "    <tr>\n",
       "      <th>AcceptDiscount</th>\n",
       "      <td>-0.002522</td>\n",
       "      <td>-0.000076</td>\n",
       "      <td>0.002601</td>\n",
       "      <td>1.000000</td>\n",
       "      <td>-0.001518</td>\n",
       "      <td>-0.001547</td>\n",
       "      <td>-0.001945</td>\n",
       "      <td>0.002362</td>\n",
       "      <td>0.001868</td>\n",
       "      <td>0.000141</td>\n",
       "      <td>0.002810</td>\n",
       "      <td>0.000792</td>\n",
       "      <td>0.003488</td>\n",
       "      <td>-0.002771</td>\n",
       "      <td>-0.000518</td>\n",
       "      <td>-0.002020</td>\n",
       "      <td>0.069982</td>\n",
       "    </tr>\n",
       "    <tr>\n",
       "      <th>NormalPrice</th>\n",
       "      <td>0.001144</td>\n",
       "      <td>0.000630</td>\n",
       "      <td>-0.001197</td>\n",
       "      <td>-0.001518</td>\n",
       "      <td>1.000000</td>\n",
       "      <td>-0.000365</td>\n",
       "      <td>-0.001701</td>\n",
       "      <td>0.001022</td>\n",
       "      <td>0.000157</td>\n",
       "      <td>-0.001041</td>\n",
       "      <td>0.001723</td>\n",
       "      <td>0.002671</td>\n",
       "      <td>-0.003759</td>\n",
       "      <td>0.002485</td>\n",
       "      <td>0.001736</td>\n",
       "      <td>0.001991</td>\n",
       "      <td>0.001393</td>\n",
       "    </tr>\n",
       "    <tr>\n",
       "      <th>LenghtDiscount</th>\n",
       "      <td>0.001361</td>\n",
       "      <td>-0.000021</td>\n",
       "      <td>0.003026</td>\n",
       "      <td>-0.001547</td>\n",
       "      <td>-0.000365</td>\n",
       "      <td>1.000000</td>\n",
       "      <td>-0.002573</td>\n",
       "      <td>0.002105</td>\n",
       "      <td>-0.002654</td>\n",
       "      <td>-0.002052</td>\n",
       "      <td>0.000591</td>\n",
       "      <td>0.002679</td>\n",
       "      <td>0.001910</td>\n",
       "      <td>-0.000765</td>\n",
       "      <td>0.002720</td>\n",
       "      <td>0.000982</td>\n",
       "      <td>0.004726</td>\n",
       "    </tr>\n",
       "    <tr>\n",
       "      <th>PromotionDays</th>\n",
       "      <td>-0.000076</td>\n",
       "      <td>-0.000797</td>\n",
       "      <td>-0.001908</td>\n",
       "      <td>-0.001945</td>\n",
       "      <td>-0.001701</td>\n",
       "      <td>-0.002573</td>\n",
       "      <td>1.000000</td>\n",
       "      <td>0.002284</td>\n",
       "      <td>-0.000786</td>\n",
       "      <td>0.001688</td>\n",
       "      <td>0.002598</td>\n",
       "      <td>0.001237</td>\n",
       "      <td>0.002605</td>\n",
       "      <td>0.001100</td>\n",
       "      <td>0.000168</td>\n",
       "      <td>0.000352</td>\n",
       "      <td>0.000704</td>\n",
       "    </tr>\n",
       "    <tr>\n",
       "      <th>Elasticity</th>\n",
       "      <td>0.000227</td>\n",
       "      <td>0.000067</td>\n",
       "      <td>0.000759</td>\n",
       "      <td>0.002362</td>\n",
       "      <td>0.001022</td>\n",
       "      <td>0.002105</td>\n",
       "      <td>0.002284</td>\n",
       "      <td>1.000000</td>\n",
       "      <td>-0.000249</td>\n",
       "      <td>-0.000853</td>\n",
       "      <td>-0.000880</td>\n",
       "      <td>-0.001909</td>\n",
       "      <td>-0.000235</td>\n",
       "      <td>-0.003445</td>\n",
       "      <td>0.000576</td>\n",
       "      <td>0.000491</td>\n",
       "      <td>0.104851</td>\n",
       "    </tr>\n",
       "    <tr>\n",
       "      <th>KindOfSale</th>\n",
       "      <td>-0.000172</td>\n",
       "      <td>0.000839</td>\n",
       "      <td>-0.000307</td>\n",
       "      <td>0.001868</td>\n",
       "      <td>0.000157</td>\n",
       "      <td>-0.002654</td>\n",
       "      <td>-0.000786</td>\n",
       "      <td>-0.000249</td>\n",
       "      <td>1.000000</td>\n",
       "      <td>0.001997</td>\n",
       "      <td>-0.002015</td>\n",
       "      <td>0.001403</td>\n",
       "      <td>0.001039</td>\n",
       "      <td>-0.000887</td>\n",
       "      <td>0.002217</td>\n",
       "      <td>0.001637</td>\n",
       "      <td>0.089412</td>\n",
       "    </tr>\n",
       "    <tr>\n",
       "      <th>Display</th>\n",
       "      <td>0.002672</td>\n",
       "      <td>-0.002557</td>\n",
       "      <td>0.000846</td>\n",
       "      <td>0.000141</td>\n",
       "      <td>-0.001041</td>\n",
       "      <td>-0.002052</td>\n",
       "      <td>0.001688</td>\n",
       "      <td>-0.000853</td>\n",
       "      <td>0.001997</td>\n",
       "      <td>1.000000</td>\n",
       "      <td>0.001166</td>\n",
       "      <td>-0.000492</td>\n",
       "      <td>0.000885</td>\n",
       "      <td>0.000739</td>\n",
       "      <td>-0.002340</td>\n",
       "      <td>0.003612</td>\n",
       "      <td>-0.144741</td>\n",
       "    </tr>\n",
       "    <tr>\n",
       "      <th>DisplayInStore</th>\n",
       "      <td>-0.000240</td>\n",
       "      <td>-0.000040</td>\n",
       "      <td>0.001000</td>\n",
       "      <td>0.002810</td>\n",
       "      <td>0.001723</td>\n",
       "      <td>0.000591</td>\n",
       "      <td>0.002598</td>\n",
       "      <td>-0.000880</td>\n",
       "      <td>-0.002015</td>\n",
       "      <td>0.001166</td>\n",
       "      <td>1.000000</td>\n",
       "      <td>0.002045</td>\n",
       "      <td>0.000924</td>\n",
       "      <td>0.000995</td>\n",
       "      <td>-0.000008</td>\n",
       "      <td>0.001357</td>\n",
       "      <td>0.189309</td>\n",
       "    </tr>\n",
       "    <tr>\n",
       "      <th>TypeofPromotion</th>\n",
       "      <td>0.001826</td>\n",
       "      <td>-0.002031</td>\n",
       "      <td>-0.000126</td>\n",
       "      <td>0.000792</td>\n",
       "      <td>0.002671</td>\n",
       "      <td>0.002679</td>\n",
       "      <td>0.001237</td>\n",
       "      <td>-0.001909</td>\n",
       "      <td>0.001403</td>\n",
       "      <td>-0.000492</td>\n",
       "      <td>0.002045</td>\n",
       "      <td>1.000000</td>\n",
       "      <td>-0.001019</td>\n",
       "      <td>0.002134</td>\n",
       "      <td>0.001323</td>\n",
       "      <td>0.003380</td>\n",
       "      <td>0.111187</td>\n",
       "    </tr>\n",
       "    <tr>\n",
       "      <th>TypeofProduct</th>\n",
       "      <td>0.000161</td>\n",
       "      <td>-0.000789</td>\n",
       "      <td>-0.000141</td>\n",
       "      <td>0.003488</td>\n",
       "      <td>-0.003759</td>\n",
       "      <td>0.001910</td>\n",
       "      <td>0.002605</td>\n",
       "      <td>-0.000235</td>\n",
       "      <td>0.001039</td>\n",
       "      <td>0.000885</td>\n",
       "      <td>0.000924</td>\n",
       "      <td>-0.001019</td>\n",
       "      <td>1.000000</td>\n",
       "      <td>0.003565</td>\n",
       "      <td>0.001780</td>\n",
       "      <td>0.000950</td>\n",
       "      <td>0.135789</td>\n",
       "    </tr>\n",
       "    <tr>\n",
       "      <th>CompetitionPressure</th>\n",
       "      <td>0.000635</td>\n",
       "      <td>0.001478</td>\n",
       "      <td>-0.002620</td>\n",
       "      <td>-0.002771</td>\n",
       "      <td>0.002485</td>\n",
       "      <td>-0.000765</td>\n",
       "      <td>0.001100</td>\n",
       "      <td>-0.003445</td>\n",
       "      <td>-0.000887</td>\n",
       "      <td>0.000739</td>\n",
       "      <td>0.000995</td>\n",
       "      <td>0.002134</td>\n",
       "      <td>0.003565</td>\n",
       "      <td>1.000000</td>\n",
       "      <td>-0.000893</td>\n",
       "      <td>-0.000522</td>\n",
       "      <td>0.728720</td>\n",
       "    </tr>\n",
       "    <tr>\n",
       "      <th>Seasonality</th>\n",
       "      <td>0.002169</td>\n",
       "      <td>-0.000447</td>\n",
       "      <td>0.001680</td>\n",
       "      <td>-0.000518</td>\n",
       "      <td>0.001736</td>\n",
       "      <td>0.002720</td>\n",
       "      <td>0.000168</td>\n",
       "      <td>0.000576</td>\n",
       "      <td>0.002217</td>\n",
       "      <td>-0.002340</td>\n",
       "      <td>-0.000008</td>\n",
       "      <td>0.001323</td>\n",
       "      <td>0.001780</td>\n",
       "      <td>-0.000893</td>\n",
       "      <td>1.000000</td>\n",
       "      <td>0.001095</td>\n",
       "      <td>-0.057399</td>\n",
       "    </tr>\n",
       "    <tr>\n",
       "      <th>Revenue</th>\n",
       "      <td>0.787030</td>\n",
       "      <td>-0.294454</td>\n",
       "      <td>-0.003519</td>\n",
       "      <td>-0.002020</td>\n",
       "      <td>0.001991</td>\n",
       "      <td>0.000982</td>\n",
       "      <td>0.000352</td>\n",
       "      <td>0.000491</td>\n",
       "      <td>0.001637</td>\n",
       "      <td>0.003612</td>\n",
       "      <td>0.001357</td>\n",
       "      <td>0.003380</td>\n",
       "      <td>0.000950</td>\n",
       "      <td>-0.000522</td>\n",
       "      <td>0.001095</td>\n",
       "      <td>1.000000</td>\n",
       "      <td>0.001659</td>\n",
       "    </tr>\n",
       "    <tr>\n",
       "      <th>Clustering</th>\n",
       "      <td>-0.000530</td>\n",
       "      <td>-0.003904</td>\n",
       "      <td>-0.002810</td>\n",
       "      <td>0.069982</td>\n",
       "      <td>0.001393</td>\n",
       "      <td>0.004726</td>\n",
       "      <td>0.000704</td>\n",
       "      <td>0.104851</td>\n",
       "      <td>0.089412</td>\n",
       "      <td>-0.144741</td>\n",
       "      <td>0.189309</td>\n",
       "      <td>0.111187</td>\n",
       "      <td>0.135789</td>\n",
       "      <td>0.728720</td>\n",
       "      <td>-0.057399</td>\n",
       "      <td>0.001659</td>\n",
       "      <td>1.000000</td>\n",
       "    </tr>\n",
       "  </tbody>\n",
       "</table>\n",
       "</div>"
      ],
      "text/plain": [
       "                     Quantity  UnitPrice  CustomerID  AcceptDiscount  \\\n",
       "Quantity             1.000000  -0.001512   -0.004612       -0.002522   \n",
       "UnitPrice           -0.001512   1.000000   -0.002132       -0.000076   \n",
       "CustomerID          -0.004612  -0.002132    1.000000        0.002601   \n",
       "AcceptDiscount      -0.002522  -0.000076    0.002601        1.000000   \n",
       "NormalPrice          0.001144   0.000630   -0.001197       -0.001518   \n",
       "LenghtDiscount       0.001361  -0.000021    0.003026       -0.001547   \n",
       "PromotionDays       -0.000076  -0.000797   -0.001908       -0.001945   \n",
       "Elasticity           0.000227   0.000067    0.000759        0.002362   \n",
       "KindOfSale          -0.000172   0.000839   -0.000307        0.001868   \n",
       "Display              0.002672  -0.002557    0.000846        0.000141   \n",
       "DisplayInStore      -0.000240  -0.000040    0.001000        0.002810   \n",
       "TypeofPromotion      0.001826  -0.002031   -0.000126        0.000792   \n",
       "TypeofProduct        0.000161  -0.000789   -0.000141        0.003488   \n",
       "CompetitionPressure  0.000635   0.001478   -0.002620       -0.002771   \n",
       "Seasonality          0.002169  -0.000447    0.001680       -0.000518   \n",
       "Revenue              0.787030  -0.294454   -0.003519       -0.002020   \n",
       "Clustering          -0.000530  -0.003904   -0.002810        0.069982   \n",
       "\n",
       "                     NormalPrice  LenghtDiscount  PromotionDays  Elasticity  \\\n",
       "Quantity                0.001144        0.001361      -0.000076    0.000227   \n",
       "UnitPrice               0.000630       -0.000021      -0.000797    0.000067   \n",
       "CustomerID             -0.001197        0.003026      -0.001908    0.000759   \n",
       "AcceptDiscount         -0.001518       -0.001547      -0.001945    0.002362   \n",
       "NormalPrice             1.000000       -0.000365      -0.001701    0.001022   \n",
       "LenghtDiscount         -0.000365        1.000000      -0.002573    0.002105   \n",
       "PromotionDays          -0.001701       -0.002573       1.000000    0.002284   \n",
       "Elasticity              0.001022        0.002105       0.002284    1.000000   \n",
       "KindOfSale              0.000157       -0.002654      -0.000786   -0.000249   \n",
       "Display                -0.001041       -0.002052       0.001688   -0.000853   \n",
       "DisplayInStore          0.001723        0.000591       0.002598   -0.000880   \n",
       "TypeofPromotion         0.002671        0.002679       0.001237   -0.001909   \n",
       "TypeofProduct          -0.003759        0.001910       0.002605   -0.000235   \n",
       "CompetitionPressure     0.002485       -0.000765       0.001100   -0.003445   \n",
       "Seasonality             0.001736        0.002720       0.000168    0.000576   \n",
       "Revenue                 0.001991        0.000982       0.000352    0.000491   \n",
       "Clustering              0.001393        0.004726       0.000704    0.104851   \n",
       "\n",
       "                     KindOfSale   Display  DisplayInStore  TypeofPromotion  \\\n",
       "Quantity              -0.000172  0.002672       -0.000240         0.001826   \n",
       "UnitPrice              0.000839 -0.002557       -0.000040        -0.002031   \n",
       "CustomerID            -0.000307  0.000846        0.001000        -0.000126   \n",
       "AcceptDiscount         0.001868  0.000141        0.002810         0.000792   \n",
       "NormalPrice            0.000157 -0.001041        0.001723         0.002671   \n",
       "LenghtDiscount        -0.002654 -0.002052        0.000591         0.002679   \n",
       "PromotionDays         -0.000786  0.001688        0.002598         0.001237   \n",
       "Elasticity            -0.000249 -0.000853       -0.000880        -0.001909   \n",
       "KindOfSale             1.000000  0.001997       -0.002015         0.001403   \n",
       "Display                0.001997  1.000000        0.001166        -0.000492   \n",
       "DisplayInStore        -0.002015  0.001166        1.000000         0.002045   \n",
       "TypeofPromotion        0.001403 -0.000492        0.002045         1.000000   \n",
       "TypeofProduct          0.001039  0.000885        0.000924        -0.001019   \n",
       "CompetitionPressure   -0.000887  0.000739        0.000995         0.002134   \n",
       "Seasonality            0.002217 -0.002340       -0.000008         0.001323   \n",
       "Revenue                0.001637  0.003612        0.001357         0.003380   \n",
       "Clustering             0.089412 -0.144741        0.189309         0.111187   \n",
       "\n",
       "                     TypeofProduct  CompetitionPressure  Seasonality  \\\n",
       "Quantity                  0.000161             0.000635     0.002169   \n",
       "UnitPrice                -0.000789             0.001478    -0.000447   \n",
       "CustomerID               -0.000141            -0.002620     0.001680   \n",
       "AcceptDiscount            0.003488            -0.002771    -0.000518   \n",
       "NormalPrice              -0.003759             0.002485     0.001736   \n",
       "LenghtDiscount            0.001910            -0.000765     0.002720   \n",
       "PromotionDays             0.002605             0.001100     0.000168   \n",
       "Elasticity               -0.000235            -0.003445     0.000576   \n",
       "KindOfSale                0.001039            -0.000887     0.002217   \n",
       "Display                   0.000885             0.000739    -0.002340   \n",
       "DisplayInStore            0.000924             0.000995    -0.000008   \n",
       "TypeofPromotion          -0.001019             0.002134     0.001323   \n",
       "TypeofProduct             1.000000             0.003565     0.001780   \n",
       "CompetitionPressure       0.003565             1.000000    -0.000893   \n",
       "Seasonality               0.001780            -0.000893     1.000000   \n",
       "Revenue                   0.000950            -0.000522     0.001095   \n",
       "Clustering                0.135789             0.728720    -0.057399   \n",
       "\n",
       "                      Revenue  Clustering  \n",
       "Quantity             0.787030   -0.000530  \n",
       "UnitPrice           -0.294454   -0.003904  \n",
       "CustomerID          -0.003519   -0.002810  \n",
       "AcceptDiscount      -0.002020    0.069982  \n",
       "NormalPrice          0.001991    0.001393  \n",
       "LenghtDiscount       0.000982    0.004726  \n",
       "PromotionDays        0.000352    0.000704  \n",
       "Elasticity           0.000491    0.104851  \n",
       "KindOfSale           0.001637    0.089412  \n",
       "Display              0.003612   -0.144741  \n",
       "DisplayInStore       0.001357    0.189309  \n",
       "TypeofPromotion      0.003380    0.111187  \n",
       "TypeofProduct        0.000950    0.135789  \n",
       "CompetitionPressure -0.000522    0.728720  \n",
       "Seasonality          0.001095   -0.057399  \n",
       "Revenue              1.000000    0.001659  \n",
       "Clustering           0.001659    1.000000  "
      ]
     },
     "execution_count": 33,
     "metadata": {},
     "output_type": "execute_result"
    }
   ],
   "source": [
    "df.corr()"
   ]
  },
  {
   "cell_type": "code",
   "execution_count": 25,
   "metadata": {
    "ExecuteTime": {
     "end_time": "2018-05-12T03:26:39.456595Z",
     "start_time": "2018-05-12T03:26:39.448594Z"
    }
   },
   "outputs": [],
   "source": [
    "columns_names = ['Casual', 'Party', 'Sports', 'Luxury']\n",
    "xx = pd.DataFrame(np.random.randint(0,100,size=(100, 4)), columns=list(columns_names))\n"
   ]
  },
  {
   "cell_type": "code",
   "execution_count": 29,
   "metadata": {
    "ExecuteTime": {
     "end_time": "2018-05-12T03:28:49.995061Z",
     "start_time": "2018-05-12T03:28:49.976060Z"
    }
   },
   "outputs": [],
   "source": [
    "factor = FactorAnalysis().fit(xx)\n",
    "results = pd.DataFrame(factor.components_, columns=columns_names)"
   ]
  },
  {
   "cell_type": "markdown",
   "metadata": {},
   "source": [
    "After loading the data and having stored all the predictive features, the FactorAnalysis class is initialized with a request to look for four factors. \n",
    "The data is then fitted. \n",
    "You can explore the results by observing the components_ attribute, which returns an array containing measures of the relationship between the newly **created factors, placed in rows, and the original features, placed in columns**.\n",
    "\n",
    "At the intersection of each factor and feature, a **positive number indicates that a positive proportion exists between the two**; a **negative number, instead, points out that they diverge** and one is the contrary to the other."
   ]
  },
  {
   "cell_type": "code",
   "execution_count": 30,
   "metadata": {
    "ExecuteTime": {
     "end_time": "2018-05-12T03:28:57.296479Z",
     "start_time": "2018-05-12T03:28:57.277478Z"
    }
   },
   "outputs": [
    {
     "data": {
      "text/html": [
       "<div>\n",
       "<style scoped>\n",
       "    .dataframe tbody tr th:only-of-type {\n",
       "        vertical-align: middle;\n",
       "    }\n",
       "\n",
       "    .dataframe tbody tr th {\n",
       "        vertical-align: top;\n",
       "    }\n",
       "\n",
       "    .dataframe thead th {\n",
       "        text-align: right;\n",
       "    }\n",
       "</style>\n",
       "<table border=\"1\" class=\"dataframe\">\n",
       "  <thead>\n",
       "    <tr style=\"text-align: right;\">\n",
       "      <th></th>\n",
       "      <th>Casual</th>\n",
       "      <th>Party</th>\n",
       "      <th>Sports</th>\n",
       "      <th>Luxury</th>\n",
       "    </tr>\n",
       "  </thead>\n",
       "  <tbody>\n",
       "    <tr>\n",
       "      <th>0</th>\n",
       "      <td>20.728071</td>\n",
       "      <td>-13.897304</td>\n",
       "      <td>-21.984670</td>\n",
       "      <td>-1.674322</td>\n",
       "    </tr>\n",
       "    <tr>\n",
       "      <th>1</th>\n",
       "      <td>2.090272</td>\n",
       "      <td>-6.622537</td>\n",
       "      <td>8.436444</td>\n",
       "      <td>-29.928374</td>\n",
       "    </tr>\n",
       "    <tr>\n",
       "      <th>2</th>\n",
       "      <td>16.824917</td>\n",
       "      <td>-7.394453</td>\n",
       "      <td>19.896295</td>\n",
       "      <td>8.419858</td>\n",
       "    </tr>\n",
       "    <tr>\n",
       "      <th>3</th>\n",
       "      <td>13.609350</td>\n",
       "      <td>22.721985</td>\n",
       "      <td>-1.195721</td>\n",
       "      <td>-4.414459</td>\n",
       "    </tr>\n",
       "  </tbody>\n",
       "</table>\n",
       "</div>"
      ],
      "text/plain": [
       "      Casual      Party     Sports     Luxury\n",
       "0  20.728071 -13.897304 -21.984670  -1.674322\n",
       "1   2.090272  -6.622537   8.436444 -29.928374\n",
       "2  16.824917  -7.394453  19.896295   8.419858\n",
       "3  13.609350  22.721985  -1.195721  -4.414459"
      ]
     },
     "execution_count": 30,
     "metadata": {},
     "output_type": "execute_result"
    }
   ],
   "source": [
    "# created factors, placed in rows, and the original features, placed in columns\n",
    "results"
   ]
  },
  {
   "cell_type": "code",
   "execution_count": 35,
   "metadata": {
    "ExecuteTime": {
     "end_time": "2018-05-12T03:52:07.433990Z",
     "start_time": "2018-05-12T03:52:07.390988Z"
    }
   },
   "outputs": [
    {
     "data": {
      "text/plain": [
       "-19.281376465335935"
      ]
     },
     "execution_count": 35,
     "metadata": {},
     "output_type": "execute_result"
    }
   ],
   "source": [
    "factor.score(xx)"
   ]
  },
  {
   "cell_type": "code",
   "execution_count": 41,
   "metadata": {
    "ExecuteTime": {
     "end_time": "2018-05-12T04:14:13.778501Z",
     "start_time": "2018-05-12T04:14:13.770501Z"
    }
   },
   "outputs": [
    {
     "data": {
      "text/plain": [
       "array([[ 1.14453743e-03,  1.52257007e-04,  1.32273195e-04,\n",
       "         1.47969126e-05],\n",
       "       [ 1.52257007e-04,  1.27170934e-03, -8.49446973e-05,\n",
       "        -7.69425331e-05],\n",
       "       [ 1.32273195e-04, -8.49446973e-05,  1.07528591e-03,\n",
       "         5.37257701e-05],\n",
       "       [ 1.47969126e-05, -7.69425331e-05,  5.37257701e-05,\n",
       "         1.01735086e-03]])"
      ]
     },
     "execution_count": 41,
     "metadata": {},
     "output_type": "execute_result"
    }
   ],
   "source": [
    "# Compute data precision matrix with the FactorAnalysis model.\n",
    "factor.get_precision()"
   ]
  },
  {
   "cell_type": "code",
   "execution_count": 39,
   "metadata": {
    "ExecuteTime": {
     "end_time": "2018-05-12T04:12:28.523481Z",
     "start_time": "2018-05-12T04:12:28.515481Z"
    }
   },
   "outputs": [
    {
     "data": {
      "text/plain": [
       "{'copy': True,\n",
       " 'iterated_power': 3,\n",
       " 'max_iter': 1000,\n",
       " 'n_components': None,\n",
       " 'noise_variance_init': None,\n",
       " 'random_state': 0,\n",
       " 'svd_method': 'randomized',\n",
       " 'tol': 0.01}"
      ]
     },
     "execution_count": 39,
     "metadata": {},
     "output_type": "execute_result"
    }
   ],
   "source": [
    "# Get parameters for this estimator.\n",
    "factor.get_params()"
   ]
  },
  {
   "cell_type": "code",
   "execution_count": 37,
   "metadata": {
    "ExecuteTime": {
     "end_time": "2018-05-12T04:11:03.856638Z",
     "start_time": "2018-05-12T04:11:03.847638Z"
    }
   },
   "outputs": [
    {
     "data": {
      "text/plain": [
       "array([[ 903.3144, -117.0868, -119.5848,  -15.6784],\n",
       "       [-117.0868,  808.9596,   75.3656,   58.9048],\n",
       "       [-119.5848,   75.3656,  952.7916,  -42.8772],\n",
       "       [ -15.6784,   58.9048,  -42.8772,  989.8924]])"
      ]
     },
     "execution_count": 37,
     "metadata": {},
     "output_type": "execute_result"
    }
   ],
   "source": [
    "# Compute data covariance with the FactorAnalysis model.\n",
    "factor.get_covariance()"
   ]
  },
  {
   "cell_type": "code",
   "execution_count": null,
   "metadata": {},
   "outputs": [],
   "source": [
    "# structural_model: dependencies between endogenous and exogenous variables\n",
    "# y1 (endogenous) = x1 (exogenous) + x2 + x3+ x4 + U\n"
   ]
  },
  {
   "cell_type": "code",
   "execution_count": null,
   "metadata": {},
   "outputs": [],
   "source": [
    "# step 1: specification - setup the endogenous (y) variables\n",
    "# step 2: specification - setup the exogenous (x) variables related to endogenous(y)\n",
    "# step 3: setup the relations between endogenous variables\n",
    "# step 4: estimation - confirmatory analysis between endogenous and exogenous, multiple regression\n",
    "# step 5: STEP 4: MODEL FIT The estimated model parameters are used to predict the correlations or covariances\n",
    "# between measured variables and the predicted correlations or covariances are compared to the observed correlations\n",
    "# or covariances (see measures of model fit).   If the fit of the model is poor, then the model needs to be re-specified and the researcher returns to Step 1."
   ]
  },
  {
   "cell_type": "code",
   "execution_count": 10,
   "metadata": {
    "ExecuteTime": {
     "end_time": "2018-05-07T22:48:04.992548Z",
     "start_time": "2018-05-07T22:48:04.978547Z"
    }
   },
   "outputs": [],
   "source": []
  },
  {
   "cell_type": "code",
   "execution_count": 24,
   "metadata": {
    "ExecuteTime": {
     "end_time": "2018-05-07T23:01:19.712004Z",
     "start_time": "2018-05-07T23:01:19.701003Z"
    }
   },
   "outputs": [],
   "source": [
    "labels = ['y1', 'x11', 'x12']"
   ]
  },
  {
   "cell_type": "code",
   "execution_count": 26,
   "metadata": {
    "ExecuteTime": {
     "end_time": "2018-05-07T23:01:37.628028Z",
     "start_time": "2018-05-07T23:01:37.619028Z"
    }
   },
   "outputs": [],
   "source": [
    "df = pd.DataFrame(data=variables)"
   ]
  },
  {
   "cell_type": "code",
   "execution_count": 21,
   "metadata": {
    "ExecuteTime": {
     "end_time": "2018-05-07T22:57:15.371028Z",
     "start_time": "2018-05-07T22:57:15.357027Z"
    }
   },
   "outputs": [
    {
     "data": {
      "text/html": [
       "<div>\n",
       "<style scoped>\n",
       "    .dataframe tbody tr th:only-of-type {\n",
       "        vertical-align: middle;\n",
       "    }\n",
       "\n",
       "    .dataframe tbody tr th {\n",
       "        vertical-align: top;\n",
       "    }\n",
       "\n",
       "    .dataframe thead th {\n",
       "        text-align: right;\n",
       "    }\n",
       "</style>\n",
       "<table border=\"1\" class=\"dataframe\">\n",
       "  <thead>\n",
       "    <tr style=\"text-align: right;\">\n",
       "      <th></th>\n",
       "      <th>0</th>\n",
       "      <th>1</th>\n",
       "      <th>2</th>\n",
       "    </tr>\n",
       "  </thead>\n",
       "  <tbody>\n",
       "    <tr>\n",
       "      <th>0</th>\n",
       "      <td>15</td>\n",
       "      <td>13</td>\n",
       "      <td>9</td>\n",
       "    </tr>\n",
       "    <tr>\n",
       "      <th>1</th>\n",
       "      <td>20</td>\n",
       "      <td>11</td>\n",
       "      <td>15</td>\n",
       "    </tr>\n",
       "    <tr>\n",
       "      <th>2</th>\n",
       "      <td>25</td>\n",
       "      <td>19</td>\n",
       "      <td>21</td>\n",
       "    </tr>\n",
       "    <tr>\n",
       "      <th>3</th>\n",
       "      <td>17</td>\n",
       "      <td>44</td>\n",
       "      <td>22</td>\n",
       "    </tr>\n",
       "  </tbody>\n",
       "</table>\n",
       "</div>"
      ],
      "text/plain": [
       "    0   1   2\n",
       "0  15  13   9\n",
       "1  20  11  15\n",
       "2  25  19  21\n",
       "3  17  44  22"
      ]
     },
     "execution_count": 21,
     "metadata": {},
     "output_type": "execute_result"
    }
   ],
   "source": [
    "df.transpose()"
   ]
  },
  {
   "cell_type": "code",
   "execution_count": 29,
   "metadata": {
    "ExecuteTime": {
     "end_time": "2018-05-07T23:05:33.710531Z",
     "start_time": "2018-05-07T23:05:33.687530Z"
    }
   },
   "outputs": [
    {
     "data": {
      "text/html": [
       "<div>\n",
       "<style scoped>\n",
       "    .dataframe tbody tr th:only-of-type {\n",
       "        vertical-align: middle;\n",
       "    }\n",
       "\n",
       "    .dataframe tbody tr th {\n",
       "        vertical-align: top;\n",
       "    }\n",
       "\n",
       "    .dataframe thead th {\n",
       "        text-align: right;\n",
       "    }\n",
       "</style>\n",
       "<table border=\"1\" class=\"dataframe\">\n",
       "  <thead>\n",
       "    <tr style=\"text-align: right;\">\n",
       "      <th></th>\n",
       "      <th>0</th>\n",
       "      <th>1</th>\n",
       "      <th>2</th>\n",
       "      <th>3</th>\n",
       "    </tr>\n",
       "  </thead>\n",
       "  <tbody>\n",
       "    <tr>\n",
       "      <th>0</th>\n",
       "      <td>1.000000</td>\n",
       "      <td>0.387147</td>\n",
       "      <td>0.500000</td>\n",
       "      <td>0.015192</td>\n",
       "    </tr>\n",
       "    <tr>\n",
       "      <th>1</th>\n",
       "      <td>0.387147</td>\n",
       "      <td>1.000000</td>\n",
       "      <td>0.992065</td>\n",
       "      <td>-0.916030</td>\n",
       "    </tr>\n",
       "    <tr>\n",
       "      <th>2</th>\n",
       "      <td>0.500000</td>\n",
       "      <td>0.992065</td>\n",
       "      <td>1.000000</td>\n",
       "      <td>-0.858330</td>\n",
       "    </tr>\n",
       "    <tr>\n",
       "      <th>3</th>\n",
       "      <td>0.015192</td>\n",
       "      <td>-0.916030</td>\n",
       "      <td>-0.858330</td>\n",
       "      <td>1.000000</td>\n",
       "    </tr>\n",
       "  </tbody>\n",
       "</table>\n",
       "</div>"
      ],
      "text/plain": [
       "          0         1         2         3\n",
       "0  1.000000  0.387147  0.500000  0.015192\n",
       "1  0.387147  1.000000  0.992065 -0.916030\n",
       "2  0.500000  0.992065  1.000000 -0.858330\n",
       "3  0.015192 -0.916030 -0.858330  1.000000"
      ]
     },
     "execution_count": 29,
     "metadata": {},
     "output_type": "execute_result"
    }
   ],
   "source": [
    "df.corr()"
   ]
  },
  {
   "cell_type": "code",
   "execution_count": 14,
   "metadata": {
    "ExecuteTime": {
     "end_time": "2018-05-07T22:50:42.128536Z",
     "start_time": "2018-05-07T22:50:42.114535Z"
    }
   },
   "outputs": [
    {
     "name": "stdout",
     "output_type": "stream",
     "text": [
      "[[ 1.         -0.18508027]\n",
      " [-0.18508027  1.        ]]\n",
      "[[1.         0.56326882]\n",
      " [0.56326882 1.        ]]\n",
      "[[1.         0.69759998]\n",
      " [0.69759998 1.        ]]\n"
     ]
    }
   ],
   "source": [
    "variables = [y1, x11, x12]\n",
    "import itertools\n",
    "combinations = list(itertools.combinations(variables, 2))\n",
    "for x, z in combinations:\n",
    "    print(np.corrcoef(x, z))"
   ]
  },
  {
   "cell_type": "code",
   "execution_count": 31,
   "metadata": {
    "ExecuteTime": {
     "end_time": "2018-05-07T23:23:42.852969Z",
     "start_time": "2018-05-07T23:23:42.846968Z"
    }
   },
   "outputs": [],
   "source": [
    "a = [np.corrcoef(x, z) for x, z in combinations]"
   ]
  },
  {
   "cell_type": "code",
   "execution_count": 66,
   "metadata": {
    "ExecuteTime": {
     "end_time": "2018-05-08T00:18:50.418151Z",
     "start_time": "2018-05-08T00:18:50.410150Z"
    }
   },
   "outputs": [
    {
     "name": "stdout",
     "output_type": "stream",
     "text": [
      "('y1', 'x11') -0.18508027356882345\n",
      "('y1', 'x12') 0.5632688173469869\n",
      "('x11', 'x12') 0.6975999841917071\n"
     ]
    }
   ],
   "source": [
    "for z, x in zip(itertools.combinations(labels, 2), range(len(a))):\n",
    "    print(z, a[x][0][1])"
   ]
  },
  {
   "cell_type": "code",
   "execution_count": 52,
   "metadata": {
    "ExecuteTime": {
     "end_time": "2018-05-07T23:50:14.212989Z",
     "start_time": "2018-05-07T23:50:14.203989Z"
    }
   },
   "outputs": [
    {
     "name": "stdout",
     "output_type": "stream",
     "text": [
      "-0.18508027356882345\n",
      "0.5632688173469869\n",
      "0.6975999841917071\n"
     ]
    }
   ],
   "source": [
    "for x in range(len(a)):\n",
    "    print(a[x][0][1])"
   ]
  },
  {
   "cell_type": "code",
   "execution_count": 41,
   "metadata": {
    "ExecuteTime": {
     "end_time": "2018-05-07T23:37:10.822182Z",
     "start_time": "2018-05-07T23:37:10.809181Z"
    }
   },
   "outputs": [
    {
     "data": {
      "text/plain": [
       "0.5632688173469869"
      ]
     },
     "execution_count": 41,
     "metadata": {},
     "output_type": "execute_result"
    }
   ],
   "source": [
    "a[1][0][1]"
   ]
  },
  {
   "cell_type": "code",
   "execution_count": 39,
   "metadata": {
    "ExecuteTime": {
     "end_time": "2018-05-07T23:29:06.625488Z",
     "start_time": "2018-05-07T23:29:06.614487Z"
    }
   },
   "outputs": [
    {
     "data": {
      "text/plain": [
       "-0.18508027356882345"
      ]
     },
     "execution_count": 39,
     "metadata": {},
     "output_type": "execute_result"
    }
   ],
   "source": [
    "a[0][0][1]"
   ]
  },
  {
   "cell_type": "code",
   "execution_count": 36,
   "metadata": {
    "ExecuteTime": {
     "end_time": "2018-05-07T23:25:38.131562Z",
     "start_time": "2018-05-07T23:25:38.120562Z"
    }
   },
   "outputs": [
    {
     "name": "stdout",
     "output_type": "stream",
     "text": [
      "(array(1.), array(1.), array(1.))\n",
      "(array(-0.18508027), array(0.56326882), array(0.69759998))\n",
      "(array(-0.18508027), array(0.56326882), array(0.69759998))\n",
      "(array(1.), array(1.), array(1.))\n"
     ]
    }
   ],
   "source": [
    "for x in np.nditer(a):\n",
    "    print(x)"
   ]
  },
  {
   "cell_type": "code",
   "execution_count": 9,
   "metadata": {
    "ExecuteTime": {
     "end_time": "2018-05-07T22:35:20.727128Z",
     "start_time": "2018-05-07T22:35:20.714127Z"
    }
   },
   "outputs": [
    {
     "data": {
      "text/plain": [
       "array([[ 1.        , -0.18508027],\n",
       "       [-0.18508027,  1.        ]])"
      ]
     },
     "execution_count": 9,
     "metadata": {},
     "output_type": "execute_result"
    }
   ],
   "source": [
    "np.corrcoef(y1, x11, \"full\")"
   ]
  }
 ],
 "metadata": {
  "kernelspec": {
   "display_name": "Python 3",
   "language": "python",
   "name": "python3"
  },
  "language_info": {
   "codemirror_mode": {
    "name": "ipython",
    "version": 3
   },
   "file_extension": ".py",
   "mimetype": "text/x-python",
   "name": "python",
   "nbconvert_exporter": "python",
   "pygments_lexer": "ipython3",
   "version": "3.6.4"
  }
 },
 "nbformat": 4,
 "nbformat_minor": 2
}
