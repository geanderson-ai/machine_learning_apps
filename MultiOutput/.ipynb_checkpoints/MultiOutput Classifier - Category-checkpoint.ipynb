{
 "cells": [
  {
   "cell_type": "code",
   "execution_count": 22,
   "metadata": {
    "ExecuteTime": {
     "end_time": "2018-07-02T18:43:13.426643Z",
     "start_time": "2018-07-02T18:43:13.412306Z"
    }
   },
   "outputs": [],
   "source": [
    "import pandas as pd\n",
    "import numpy as np\n",
    "from sklearn.ensemble import RandomForestClassifier\n",
    "from sklearn.multioutput import MultiOutputClassifier\n",
    "from sklearn.model_selection import train_test_split\n",
    "from sklearn.metrics import accuracy_score, classification_report\n",
    "import _pickle as cPickle\n",
    "import requests, json\n",
    "import pickle"
   ]
  },
  {
   "cell_type": "code",
   "execution_count": 23,
   "metadata": {
    "ExecuteTime": {
     "end_time": "2018-07-02T18:43:13.821762Z",
     "start_time": "2018-07-02T18:43:13.808826Z"
    }
   },
   "outputs": [],
   "source": [
    "df = pd.read_csv('top_products.csv')"
   ]
  },
  {
   "cell_type": "code",
   "execution_count": 24,
   "metadata": {
    "ExecuteTime": {
     "end_time": "2018-07-02T18:43:14.315105Z",
     "start_time": "2018-07-02T18:43:14.309596Z"
    }
   },
   "outputs": [],
   "source": [
    "category = [\"Café\", \"Massas\", \"Hortifrutti\", \"Bebidas\", \"Laticínios\", \"Padaria\", \"Doces\", \"Básicos\"]"
   ]
  },
  {
   "cell_type": "code",
   "execution_count": null,
   "metadata": {
    "ExecuteTime": {
     "end_time": "2018-07-02T17:24:44.507748Z",
     "start_time": "2018-07-02T17:24:44.496167Z"
    }
   },
   "outputs": [],
   "source": []
  },
  {
   "cell_type": "code",
   "execution_count": 25,
   "metadata": {
    "ExecuteTime": {
     "end_time": "2018-07-02T18:43:16.156554Z",
     "start_time": "2018-07-02T18:43:16.144882Z"
    }
   },
   "outputs": [],
   "source": [
    "df['CategoryA'] = np.random.choice(category, len(df))\n",
    "df['CategoryB'] = np.random.choice(category, len(df))\n",
    "df['CategoryC'] = np.random.choice(category, len(df))\n"
   ]
  },
  {
   "cell_type": "code",
   "execution_count": 26,
   "metadata": {
    "ExecuteTime": {
     "end_time": "2018-07-02T18:43:16.941405Z",
     "start_time": "2018-07-02T18:43:16.920189Z"
    }
   },
   "outputs": [
    {
     "data": {
      "text/html": [
       "<div>\n",
       "<style scoped>\n",
       "    .dataframe tbody tr th:only-of-type {\n",
       "        vertical-align: middle;\n",
       "    }\n",
       "\n",
       "    .dataframe tbody tr th {\n",
       "        vertical-align: top;\n",
       "    }\n",
       "\n",
       "    .dataframe thead th {\n",
       "        text-align: right;\n",
       "    }\n",
       "</style>\n",
       "<table border=\"1\" class=\"dataframe\">\n",
       "  <thead>\n",
       "    <tr style=\"text-align: right;\">\n",
       "      <th></th>\n",
       "      <th>Top1</th>\n",
       "      <th>Top2</th>\n",
       "      <th>Top3</th>\n",
       "      <th>Top4</th>\n",
       "      <th>Preco</th>\n",
       "      <th>Quantidade</th>\n",
       "      <th>Promotion</th>\n",
       "      <th>Receita</th>\n",
       "      <th>Clima</th>\n",
       "      <th>CategoryA</th>\n",
       "      <th>CategoryB</th>\n",
       "      <th>CategoryC</th>\n",
       "    </tr>\n",
       "  </thead>\n",
       "  <tbody>\n",
       "    <tr>\n",
       "      <th>0</th>\n",
       "      <td>Carbonated Water - Blackberry</td>\n",
       "      <td>Soup - Campbells Tomato Ravioli</td>\n",
       "      <td>Wine - Crozes Hermitage E.</td>\n",
       "      <td>Bread - Sour Batard</td>\n",
       "      <td>17</td>\n",
       "      <td>7</td>\n",
       "      <td>1</td>\n",
       "      <td>234</td>\n",
       "      <td>3</td>\n",
       "      <td>Padaria</td>\n",
       "      <td>Doces</td>\n",
       "      <td>Café</td>\n",
       "    </tr>\n",
       "    <tr>\n",
       "      <th>1</th>\n",
       "      <td>Puff Pastry - Slab</td>\n",
       "      <td>Soup - Campbells Mushroom</td>\n",
       "      <td>Gatorade - Cool Blue Raspberry</td>\n",
       "      <td>Cookie - Oreo 100x2</td>\n",
       "      <td>78</td>\n",
       "      <td>2</td>\n",
       "      <td>1</td>\n",
       "      <td>318</td>\n",
       "      <td>1</td>\n",
       "      <td>Padaria</td>\n",
       "      <td>Café</td>\n",
       "      <td>Bebidas</td>\n",
       "    </tr>\n",
       "    <tr>\n",
       "      <th>2</th>\n",
       "      <td>Wine - Stoneliegh Sauvignon</td>\n",
       "      <td>Momiji Oroshi Chili Sauce</td>\n",
       "      <td>Vodka - Moskovskaya</td>\n",
       "      <td>Coffee - Almond Amaretto</td>\n",
       "      <td>100</td>\n",
       "      <td>4</td>\n",
       "      <td>1</td>\n",
       "      <td>476</td>\n",
       "      <td>2</td>\n",
       "      <td>Doces</td>\n",
       "      <td>Bebidas</td>\n",
       "      <td>Padaria</td>\n",
       "    </tr>\n",
       "    <tr>\n",
       "      <th>3</th>\n",
       "      <td>Baking Soda</td>\n",
       "      <td>Icecream - Dstk Cml And Fdg</td>\n",
       "      <td>Artichoke - Bottom, Canned</td>\n",
       "      <td>Bread - Hamburger Buns</td>\n",
       "      <td>40</td>\n",
       "      <td>6</td>\n",
       "      <td>1</td>\n",
       "      <td>438</td>\n",
       "      <td>2</td>\n",
       "      <td>Hortifrutti</td>\n",
       "      <td>Doces</td>\n",
       "      <td>Bebidas</td>\n",
       "    </tr>\n",
       "    <tr>\n",
       "      <th>4</th>\n",
       "      <td>Wine - Soave Folonari</td>\n",
       "      <td>Couscous</td>\n",
       "      <td>Bread - Pumpernickel</td>\n",
       "      <td>Wine - Casillero Del Diablo</td>\n",
       "      <td>61</td>\n",
       "      <td>2</td>\n",
       "      <td>1</td>\n",
       "      <td>492</td>\n",
       "      <td>4</td>\n",
       "      <td>Massas</td>\n",
       "      <td>Hortifrutti</td>\n",
       "      <td>Massas</td>\n",
       "    </tr>\n",
       "  </tbody>\n",
       "</table>\n",
       "</div>"
      ],
      "text/plain": [
       "                            Top1                             Top2  \\\n",
       "0  Carbonated Water - Blackberry  Soup - Campbells Tomato Ravioli   \n",
       "1             Puff Pastry - Slab        Soup - Campbells Mushroom   \n",
       "2    Wine - Stoneliegh Sauvignon        Momiji Oroshi Chili Sauce   \n",
       "3                    Baking Soda      Icecream - Dstk Cml And Fdg   \n",
       "4          Wine - Soave Folonari                         Couscous   \n",
       "\n",
       "                             Top3                         Top4  Preco  \\\n",
       "0      Wine - Crozes Hermitage E.          Bread - Sour Batard     17   \n",
       "1  Gatorade - Cool Blue Raspberry          Cookie - Oreo 100x2     78   \n",
       "2             Vodka - Moskovskaya     Coffee - Almond Amaretto    100   \n",
       "3      Artichoke - Bottom, Canned       Bread - Hamburger Buns     40   \n",
       "4            Bread - Pumpernickel  Wine - Casillero Del Diablo     61   \n",
       "\n",
       "   Quantidade  Promotion  Receita  Clima    CategoryA    CategoryB CategoryC  \n",
       "0           7          1      234      3      Padaria        Doces      Café  \n",
       "1           2          1      318      1      Padaria         Café   Bebidas  \n",
       "2           4          1      476      2        Doces      Bebidas   Padaria  \n",
       "3           6          1      438      2  Hortifrutti        Doces   Bebidas  \n",
       "4           2          1      492      4       Massas  Hortifrutti    Massas  "
      ]
     },
     "execution_count": 26,
     "metadata": {},
     "output_type": "execute_result"
    }
   ],
   "source": [
    "df.head()"
   ]
  },
  {
   "cell_type": "code",
   "execution_count": 27,
   "metadata": {
    "ExecuteTime": {
     "end_time": "2018-07-02T18:43:26.601109Z",
     "start_time": "2018-07-02T18:43:26.596352Z"
    }
   },
   "outputs": [],
   "source": [
    "df = df.iloc[:, 4:]"
   ]
  },
  {
   "cell_type": "code",
   "execution_count": 28,
   "metadata": {
    "ExecuteTime": {
     "end_time": "2018-07-02T18:43:27.074829Z",
     "start_time": "2018-07-02T18:43:27.059940Z"
    }
   },
   "outputs": [
    {
     "data": {
      "text/html": [
       "<div>\n",
       "<style scoped>\n",
       "    .dataframe tbody tr th:only-of-type {\n",
       "        vertical-align: middle;\n",
       "    }\n",
       "\n",
       "    .dataframe tbody tr th {\n",
       "        vertical-align: top;\n",
       "    }\n",
       "\n",
       "    .dataframe thead th {\n",
       "        text-align: right;\n",
       "    }\n",
       "</style>\n",
       "<table border=\"1\" class=\"dataframe\">\n",
       "  <thead>\n",
       "    <tr style=\"text-align: right;\">\n",
       "      <th></th>\n",
       "      <th>Preco</th>\n",
       "      <th>Quantidade</th>\n",
       "      <th>Promotion</th>\n",
       "      <th>Receita</th>\n",
       "      <th>Clima</th>\n",
       "      <th>CategoryA</th>\n",
       "      <th>CategoryB</th>\n",
       "      <th>CategoryC</th>\n",
       "    </tr>\n",
       "  </thead>\n",
       "  <tbody>\n",
       "    <tr>\n",
       "      <th>0</th>\n",
       "      <td>17</td>\n",
       "      <td>7</td>\n",
       "      <td>1</td>\n",
       "      <td>234</td>\n",
       "      <td>3</td>\n",
       "      <td>Padaria</td>\n",
       "      <td>Doces</td>\n",
       "      <td>Café</td>\n",
       "    </tr>\n",
       "    <tr>\n",
       "      <th>1</th>\n",
       "      <td>78</td>\n",
       "      <td>2</td>\n",
       "      <td>1</td>\n",
       "      <td>318</td>\n",
       "      <td>1</td>\n",
       "      <td>Padaria</td>\n",
       "      <td>Café</td>\n",
       "      <td>Bebidas</td>\n",
       "    </tr>\n",
       "    <tr>\n",
       "      <th>2</th>\n",
       "      <td>100</td>\n",
       "      <td>4</td>\n",
       "      <td>1</td>\n",
       "      <td>476</td>\n",
       "      <td>2</td>\n",
       "      <td>Doces</td>\n",
       "      <td>Bebidas</td>\n",
       "      <td>Padaria</td>\n",
       "    </tr>\n",
       "    <tr>\n",
       "      <th>3</th>\n",
       "      <td>40</td>\n",
       "      <td>6</td>\n",
       "      <td>1</td>\n",
       "      <td>438</td>\n",
       "      <td>2</td>\n",
       "      <td>Hortifrutti</td>\n",
       "      <td>Doces</td>\n",
       "      <td>Bebidas</td>\n",
       "    </tr>\n",
       "    <tr>\n",
       "      <th>4</th>\n",
       "      <td>61</td>\n",
       "      <td>2</td>\n",
       "      <td>1</td>\n",
       "      <td>492</td>\n",
       "      <td>4</td>\n",
       "      <td>Massas</td>\n",
       "      <td>Hortifrutti</td>\n",
       "      <td>Massas</td>\n",
       "    </tr>\n",
       "  </tbody>\n",
       "</table>\n",
       "</div>"
      ],
      "text/plain": [
       "   Preco  Quantidade  Promotion  Receita  Clima    CategoryA    CategoryB  \\\n",
       "0     17           7          1      234      3      Padaria        Doces   \n",
       "1     78           2          1      318      1      Padaria         Café   \n",
       "2    100           4          1      476      2        Doces      Bebidas   \n",
       "3     40           6          1      438      2  Hortifrutti        Doces   \n",
       "4     61           2          1      492      4       Massas  Hortifrutti   \n",
       "\n",
       "  CategoryC  \n",
       "0      Café  \n",
       "1   Bebidas  \n",
       "2   Padaria  \n",
       "3   Bebidas  \n",
       "4    Massas  "
      ]
     },
     "execution_count": 28,
     "metadata": {},
     "output_type": "execute_result"
    }
   ],
   "source": [
    "df.head()"
   ]
  },
  {
   "cell_type": "code",
   "execution_count": 64,
   "metadata": {
    "ExecuteTime": {
     "end_time": "2018-07-02T19:01:21.070137Z",
     "start_time": "2018-07-02T19:01:21.046247Z"
    }
   },
   "outputs": [],
   "source": [
    "from sklearn.preprocessing import LabelEncoder\n",
    "class MultiColumnLabelEncoder:\n",
    "    def __init__(self,columns = None):\n",
    "        self.columns = columns # array of column names to encode\n",
    "\n",
    "    def fit(self,X,y=None):\n",
    "        return self # not relevant here\n",
    "\n",
    "    def transform(self,X):\n",
    "        '''\n",
    "        Transforms columns of X specified in self.columns using\n",
    "        LabelEncoder(). If no columns specified, transforms all\n",
    "        columns in X.\n",
    "        '''\n",
    "        output = X.copy()\n",
    "        if self.columns is not None:\n",
    "            for col in self.columns:\n",
    "                output[col] = LabelEncoder().fit_transform(output[col])\n",
    "        else:\n",
    "            for colname,col in output.iteritems():\n",
    "                output[colname] = LabelEncoder().fit_transform(col)\n",
    "        return output\n",
    "\n",
    "    def fit_transform(self,X,y=None):\n",
    "        return self.fit(X,y).transform(X)"
   ]
  },
  {
   "cell_type": "code",
   "execution_count": 67,
   "metadata": {
    "ExecuteTime": {
     "end_time": "2018-07-02T19:01:45.231381Z",
     "start_time": "2018-07-02T19:01:45.220508Z"
    }
   },
   "outputs": [],
   "source": [
    "df_label = MultiColumnLabelEncoder(columns = ['CategoryA', 'CategoryB', 'CategoryC']).fit_transform(df)\n"
   ]
  },
  {
   "cell_type": "code",
   "execution_count": 68,
   "metadata": {
    "ExecuteTime": {
     "end_time": "2018-07-02T19:01:55.491606Z",
     "start_time": "2018-07-02T19:01:55.475541Z"
    }
   },
   "outputs": [
    {
     "data": {
      "text/html": [
       "<div>\n",
       "<style scoped>\n",
       "    .dataframe tbody tr th:only-of-type {\n",
       "        vertical-align: middle;\n",
       "    }\n",
       "\n",
       "    .dataframe tbody tr th {\n",
       "        vertical-align: top;\n",
       "    }\n",
       "\n",
       "    .dataframe thead th {\n",
       "        text-align: right;\n",
       "    }\n",
       "</style>\n",
       "<table border=\"1\" class=\"dataframe\">\n",
       "  <thead>\n",
       "    <tr style=\"text-align: right;\">\n",
       "      <th></th>\n",
       "      <th>Preco</th>\n",
       "      <th>Quantidade</th>\n",
       "      <th>Promotion</th>\n",
       "      <th>Receita</th>\n",
       "      <th>Clima</th>\n",
       "      <th>CategoryA</th>\n",
       "      <th>CategoryB</th>\n",
       "      <th>CategoryC</th>\n",
       "    </tr>\n",
       "  </thead>\n",
       "  <tbody>\n",
       "    <tr>\n",
       "      <th>0</th>\n",
       "      <td>17</td>\n",
       "      <td>7</td>\n",
       "      <td>1</td>\n",
       "      <td>234</td>\n",
       "      <td>3</td>\n",
       "      <td>7</td>\n",
       "      <td>3</td>\n",
       "      <td>2</td>\n",
       "    </tr>\n",
       "    <tr>\n",
       "      <th>1</th>\n",
       "      <td>78</td>\n",
       "      <td>2</td>\n",
       "      <td>1</td>\n",
       "      <td>318</td>\n",
       "      <td>1</td>\n",
       "      <td>7</td>\n",
       "      <td>2</td>\n",
       "      <td>0</td>\n",
       "    </tr>\n",
       "    <tr>\n",
       "      <th>2</th>\n",
       "      <td>100</td>\n",
       "      <td>4</td>\n",
       "      <td>1</td>\n",
       "      <td>476</td>\n",
       "      <td>2</td>\n",
       "      <td>3</td>\n",
       "      <td>0</td>\n",
       "      <td>7</td>\n",
       "    </tr>\n",
       "    <tr>\n",
       "      <th>3</th>\n",
       "      <td>40</td>\n",
       "      <td>6</td>\n",
       "      <td>1</td>\n",
       "      <td>438</td>\n",
       "      <td>2</td>\n",
       "      <td>4</td>\n",
       "      <td>3</td>\n",
       "      <td>0</td>\n",
       "    </tr>\n",
       "    <tr>\n",
       "      <th>4</th>\n",
       "      <td>61</td>\n",
       "      <td>2</td>\n",
       "      <td>1</td>\n",
       "      <td>492</td>\n",
       "      <td>4</td>\n",
       "      <td>6</td>\n",
       "      <td>4</td>\n",
       "      <td>6</td>\n",
       "    </tr>\n",
       "  </tbody>\n",
       "</table>\n",
       "</div>"
      ],
      "text/plain": [
       "   Preco  Quantidade  Promotion  Receita  Clima  CategoryA  CategoryB  \\\n",
       "0     17           7          1      234      3          7          3   \n",
       "1     78           2          1      318      1          7          2   \n",
       "2    100           4          1      476      2          3          0   \n",
       "3     40           6          1      438      2          4          3   \n",
       "4     61           2          1      492      4          6          4   \n",
       "\n",
       "   CategoryC  \n",
       "0          2  \n",
       "1          0  \n",
       "2          7  \n",
       "3          0  \n",
       "4          6  "
      ]
     },
     "execution_count": 68,
     "metadata": {},
     "output_type": "execute_result"
    }
   ],
   "source": [
    "df_label.head()"
   ]
  },
  {
   "cell_type": "code",
   "execution_count": 69,
   "metadata": {
    "ExecuteTime": {
     "end_time": "2018-07-02T19:02:57.128509Z",
     "start_time": "2018-07-02T19:02:57.121864Z"
    }
   },
   "outputs": [],
   "source": [
    "y = df.iloc[:, 5:]\n",
    "x = df.iloc[:, :5]"
   ]
  },
  {
   "cell_type": "code",
   "execution_count": 70,
   "metadata": {
    "ExecuteTime": {
     "end_time": "2018-07-02T19:02:57.727918Z",
     "start_time": "2018-07-02T19:02:57.719268Z"
    }
   },
   "outputs": [],
   "source": [
    "X_train, X_test, y_train, y_test = train_test_split(x, y, test_size=0.2, random_state=0)"
   ]
  },
  {
   "cell_type": "code",
   "execution_count": 71,
   "metadata": {
    "ExecuteTime": {
     "end_time": "2018-07-02T19:02:59.506317Z",
     "start_time": "2018-07-02T19:02:58.778362Z"
    }
   },
   "outputs": [
    {
     "data": {
      "text/plain": [
       "MultiOutputClassifier(estimator=RandomForestClassifier(bootstrap=True, class_weight=None, criterion='gini',\n",
       "            max_depth=None, max_features='auto', max_leaf_nodes=None,\n",
       "            min_impurity_decrease=0.0, min_impurity_split=None,\n",
       "            min_samples_leaf=1, min_samples_split=2,\n",
       "            min_weight_fraction_leaf=0.0, n_estimators=100, n_jobs=1,\n",
       "            oob_score=False, random_state=1, verbose=0, warm_start=False),\n",
       "           n_jobs=-1)"
      ]
     },
     "execution_count": 71,
     "metadata": {},
     "output_type": "execute_result"
    }
   ],
   "source": [
    "forest = RandomForestClassifier(n_estimators=100, random_state=1)\n",
    "classifier = MultiOutputClassifier(forest, n_jobs=-1)\n",
    "classifier.fit(X_train, y_train)"
   ]
  },
  {
   "cell_type": "code",
   "execution_count": 73,
   "metadata": {
    "ExecuteTime": {
     "end_time": "2018-07-02T19:03:17.163217Z",
     "start_time": "2018-07-02T19:03:16.622897Z"
    }
   },
   "outputs": [
    {
     "data": {
      "text/plain": [
       "1.0"
      ]
     },
     "execution_count": 73,
     "metadata": {},
     "output_type": "execute_result"
    }
   ],
   "source": [
    "classifier.score(X_train, y_train)"
   ]
  },
  {
   "cell_type": "code",
   "execution_count": 74,
   "metadata": {
    "ExecuteTime": {
     "end_time": "2018-07-02T19:04:14.114541Z",
     "start_time": "2018-07-02T19:04:13.978254Z"
    }
   },
   "outputs": [],
   "source": [
    "pickle.dump(classifier, open(\"multicategory_pickle.pkl\", \"wb\"))"
   ]
  },
  {
   "cell_type": "code",
   "execution_count": 76,
   "metadata": {
    "ExecuteTime": {
     "end_time": "2018-07-02T23:12:13.805324Z",
     "start_time": "2018-07-02T23:12:01.234880Z"
    }
   },
   "outputs": [
    {
     "data": {
      "text/plain": [
       "['multicategory_joblib2.pkl']"
      ]
     },
     "execution_count": 76,
     "metadata": {},
     "output_type": "execute_result"
    }
   ],
   "source": [
    "from sklearn.externals import joblib\n",
    "joblib.dump(classifier, 'multicategory_joblib2.pkl', compress=9) "
   ]
  },
  {
   "cell_type": "code",
   "execution_count": 79,
   "metadata": {
    "ExecuteTime": {
     "end_time": "2018-07-02T23:15:50.418021Z",
     "start_time": "2018-07-02T23:15:49.637199Z"
    }
   },
   "outputs": [
    {
     "data": {
      "text/plain": [
       "array([['Básicos', 'Bebidas', 'Doces'],\n",
       "       ['Básicos', 'Padaria', 'Bebidas'],\n",
       "       ['Café', 'Doces', 'Bebidas'],\n",
       "       ['Padaria', 'Massas', 'Doces'],\n",
       "       ['Hortifrutti', 'Doces', 'Hortifrutti'],\n",
       "       ['Café', 'Café', 'Massas'],\n",
       "       ['Massas', 'Massas', 'Padaria'],\n",
       "       ['Hortifrutti', 'Básicos', 'Padaria'],\n",
       "       ['Massas', 'Hortifrutti', 'Padaria'],\n",
       "       ['Padaria', 'Hortifrutti', 'Massas'],\n",
       "       ['Básicos', 'Hortifrutti', 'Café'],\n",
       "       ['Massas', 'Doces', 'Padaria'],\n",
       "       ['Básicos', 'Bebidas', 'Massas'],\n",
       "       ['Básicos', 'Bebidas', 'Massas'],\n",
       "       ['Café', 'Laticínios', 'Hortifrutti'],\n",
       "       ['Hortifrutti', 'Doces', 'Bebidas'],\n",
       "       ['Padaria', 'Bebidas', 'Massas'],\n",
       "       ['Padaria', 'Hortifrutti', 'Básicos'],\n",
       "       ['Hortifrutti', 'Café', 'Café'],\n",
       "       ['Laticínios', 'Bebidas', 'Básicos'],\n",
       "       ['Café', 'Padaria', 'Laticínios'],\n",
       "       ['Doces', 'Hortifrutti', 'Massas'],\n",
       "       ['Massas', 'Massas', 'Massas'],\n",
       "       ['Massas', 'Café', 'Café'],\n",
       "       ['Hortifrutti', 'Bebidas', 'Bebidas'],\n",
       "       ['Doces', 'Café', 'Padaria'],\n",
       "       ['Básicos', 'Padaria', 'Café'],\n",
       "       ['Café', 'Bebidas', 'Doces'],\n",
       "       ['Básicos', 'Hortifrutti', 'Massas'],\n",
       "       ['Doces', 'Laticínios', 'Café'],\n",
       "       ['Café', 'Massas', 'Massas'],\n",
       "       ['Doces', 'Básicos', 'Laticínios'],\n",
       "       ['Básicos', 'Básicos', 'Laticínios'],\n",
       "       ['Laticínios', 'Hortifrutti', 'Doces'],\n",
       "       ['Básicos', 'Hortifrutti', 'Básicos'],\n",
       "       ['Massas', 'Bebidas', 'Doces'],\n",
       "       ['Doces', 'Padaria', 'Massas'],\n",
       "       ['Massas', 'Bebidas', 'Bebidas'],\n",
       "       ['Padaria', 'Bebidas', 'Básicos'],\n",
       "       ['Padaria', 'Laticínios', 'Bebidas'],\n",
       "       ['Laticínios', 'Laticínios', 'Hortifrutti'],\n",
       "       ['Laticínios', 'Hortifrutti', 'Padaria'],\n",
       "       ['Padaria', 'Laticínios', 'Básicos'],\n",
       "       ['Doces', 'Doces', 'Hortifrutti'],\n",
       "       ['Padaria', 'Doces', 'Massas'],\n",
       "       ['Café', 'Café', 'Doces'],\n",
       "       ['Bebidas', 'Bebidas', 'Básicos'],\n",
       "       ['Café', 'Básicos', 'Café'],\n",
       "       ['Massas', 'Básicos', 'Massas'],\n",
       "       ['Hortifrutti', 'Padaria', 'Padaria'],\n",
       "       ['Bebidas', 'Massas', 'Básicos'],\n",
       "       ['Doces', 'Bebidas', 'Básicos'],\n",
       "       ['Café', 'Doces', 'Café'],\n",
       "       ['Bebidas', 'Café', 'Laticínios'],\n",
       "       ['Bebidas', 'Básicos', 'Hortifrutti'],\n",
       "       ['Doces', 'Café', 'Padaria'],\n",
       "       ['Café', 'Bebidas', 'Padaria'],\n",
       "       ['Laticínios', 'Massas', 'Padaria'],\n",
       "       ['Massas', 'Café', 'Laticínios'],\n",
       "       ['Café', 'Doces', 'Bebidas'],\n",
       "       ['Básicos', 'Café', 'Massas'],\n",
       "       ['Doces', 'Básicos', 'Hortifrutti'],\n",
       "       ['Básicos', 'Bebidas', 'Laticínios'],\n",
       "       ['Doces', 'Padaria', 'Padaria'],\n",
       "       ['Café', 'Hortifrutti', 'Básicos'],\n",
       "       ['Básicos', 'Café', 'Bebidas'],\n",
       "       ['Café', 'Bebidas', 'Massas'],\n",
       "       ['Básicos', 'Laticínios', 'Café'],\n",
       "       ['Laticínios', 'Bebidas', 'Básicos'],\n",
       "       ['Hortifrutti', 'Massas', 'Hortifrutti'],\n",
       "       ['Doces', 'Laticínios', 'Café'],\n",
       "       ['Massas', 'Hortifrutti', 'Hortifrutti'],\n",
       "       ['Massas', 'Laticínios', 'Laticínios'],\n",
       "       ['Hortifrutti', 'Básicos', 'Bebidas'],\n",
       "       ['Massas', 'Café', 'Básicos'],\n",
       "       ['Café', 'Bebidas', 'Café'],\n",
       "       ['Padaria', 'Básicos', 'Massas'],\n",
       "       ['Laticínios', 'Hortifrutti', 'Doces'],\n",
       "       ['Hortifrutti', 'Bebidas', 'Básicos'],\n",
       "       ['Hortifrutti', 'Café', 'Doces'],\n",
       "       ['Básicos', 'Básicos', 'Hortifrutti'],\n",
       "       ['Básicos', 'Bebidas', 'Doces'],\n",
       "       ['Padaria', 'Doces', 'Café'],\n",
       "       ['Bebidas', 'Café', 'Laticínios'],\n",
       "       ['Massas', 'Doces', 'Café'],\n",
       "       ['Bebidas', 'Hortifrutti', 'Bebidas'],\n",
       "       ['Café', 'Padaria', 'Laticínios'],\n",
       "       ['Padaria', 'Café', 'Massas'],\n",
       "       ['Básicos', 'Básicos', 'Hortifrutti'],\n",
       "       ['Bebidas', 'Padaria', 'Massas'],\n",
       "       ['Padaria', 'Café', 'Massas'],\n",
       "       ['Laticínios', 'Bebidas', 'Café'],\n",
       "       ['Café', 'Básicos', 'Bebidas'],\n",
       "       ['Laticínios', 'Básicos', 'Básicos'],\n",
       "       ['Padaria', 'Massas', 'Café'],\n",
       "       ['Básicos', 'Doces', 'Laticínios'],\n",
       "       ['Doces', 'Hortifrutti', 'Doces'],\n",
       "       ['Café', 'Café', 'Laticínios'],\n",
       "       ['Padaria', 'Básicos', 'Massas'],\n",
       "       ['Básicos', 'Café', 'Massas'],\n",
       "       ['Massas', 'Café', 'Hortifrutti'],\n",
       "       ['Café', 'Hortifrutti', 'Hortifrutti'],\n",
       "       ['Massas', 'Café', 'Hortifrutti'],\n",
       "       ['Café', 'Hortifrutti', 'Básicos'],\n",
       "       ['Laticínios', 'Bebidas', 'Hortifrutti'],\n",
       "       ['Hortifrutti', 'Café', 'Padaria'],\n",
       "       ['Laticínios', 'Básicos', 'Doces'],\n",
       "       ['Laticínios', 'Café', 'Hortifrutti'],\n",
       "       ['Doces', 'Bebidas', 'Básicos'],\n",
       "       ['Massas', 'Café', 'Café'],\n",
       "       ['Café', 'Doces', 'Bebidas'],\n",
       "       ['Massas', 'Doces', 'Hortifrutti'],\n",
       "       ['Bebidas', 'Laticínios', 'Laticínios'],\n",
       "       ['Doces', 'Bebidas', 'Padaria'],\n",
       "       ['Doces', 'Café', 'Básicos'],\n",
       "       ['Café', 'Hortifrutti', 'Café'],\n",
       "       ['Doces', 'Laticínios', 'Laticínios'],\n",
       "       ['Bebidas', 'Padaria', 'Massas'],\n",
       "       ['Padaria', 'Doces', 'Básicos'],\n",
       "       ['Laticínios', 'Hortifrutti', 'Massas'],\n",
       "       ['Massas', 'Massas', 'Café'],\n",
       "       ['Café', 'Doces', 'Laticínios'],\n",
       "       ['Massas', 'Básicos', 'Hortifrutti'],\n",
       "       ['Café', 'Básicos', 'Básicos'],\n",
       "       ['Café', 'Bebidas', 'Massas'],\n",
       "       ['Doces', 'Café', 'Hortifrutti'],\n",
       "       ['Café', 'Padaria', 'Massas'],\n",
       "       ['Café', 'Básicos', 'Hortifrutti'],\n",
       "       ['Padaria', 'Básicos', 'Café'],\n",
       "       ['Básicos', 'Básicos', 'Doces'],\n",
       "       ['Laticínios', 'Bebidas', 'Café'],\n",
       "       ['Padaria', 'Básicos', 'Básicos'],\n",
       "       ['Básicos', 'Hortifrutti', 'Básicos'],\n",
       "       ['Básicos', 'Laticínios', 'Padaria'],\n",
       "       ['Laticínios', 'Laticínios', 'Bebidas'],\n",
       "       ['Massas', 'Laticínios', 'Bebidas'],\n",
       "       ['Hortifrutti', 'Café', 'Massas'],\n",
       "       ['Hortifrutti', 'Padaria', 'Massas'],\n",
       "       ['Bebidas', 'Básicos', 'Doces'],\n",
       "       ['Bebidas', 'Básicos', 'Bebidas'],\n",
       "       ['Doces', 'Café', 'Básicos'],\n",
       "       ['Café', 'Café', 'Massas'],\n",
       "       ['Bebidas', 'Bebidas', 'Massas'],\n",
       "       ['Bebidas', 'Massas', 'Massas'],\n",
       "       ['Doces', 'Hortifrutti', 'Doces'],\n",
       "       ['Básicos', 'Laticínios', 'Hortifrutti'],\n",
       "       ['Massas', 'Café', 'Massas'],\n",
       "       ['Doces', 'Hortifrutti', 'Hortifrutti'],\n",
       "       ['Hortifrutti', 'Básicos', 'Padaria'],\n",
       "       ['Básicos', 'Café', 'Bebidas'],\n",
       "       ['Padaria', 'Massas', 'Laticínios'],\n",
       "       ['Doces', 'Padaria', 'Básicos'],\n",
       "       ['Café', 'Massas', 'Padaria'],\n",
       "       ['Básicos', 'Doces', 'Básicos'],\n",
       "       ['Doces', 'Bebidas', 'Padaria'],\n",
       "       ['Laticínios', 'Massas', 'Bebidas'],\n",
       "       ['Massas', 'Café', 'Laticínios'],\n",
       "       ['Doces', 'Café', 'Básicos'],\n",
       "       ['Padaria', 'Hortifrutti', 'Básicos'],\n",
       "       ['Hortifrutti', 'Padaria', 'Café'],\n",
       "       ['Doces', 'Café', 'Padaria'],\n",
       "       ['Básicos', 'Doces', 'Padaria'],\n",
       "       ['Laticínios', 'Hortifrutti', 'Doces'],\n",
       "       ['Hortifrutti', 'Café', 'Massas'],\n",
       "       ['Básicos', 'Hortifrutti', 'Massas'],\n",
       "       ['Bebidas', 'Bebidas', 'Laticínios'],\n",
       "       ['Hortifrutti', 'Bebidas', 'Bebidas'],\n",
       "       ['Padaria', 'Massas', 'Hortifrutti'],\n",
       "       ['Padaria', 'Café', 'Padaria'],\n",
       "       ['Doces', 'Massas', 'Hortifrutti'],\n",
       "       ['Básicos', 'Doces', 'Básicos'],\n",
       "       ['Bebidas', 'Básicos', 'Café'],\n",
       "       ['Básicos', 'Laticínios', 'Bebidas'],\n",
       "       ['Básicos', 'Padaria', 'Café'],\n",
       "       ['Bebidas', 'Básicos', 'Laticínios'],\n",
       "       ['Laticínios', 'Bebidas', 'Laticínios'],\n",
       "       ['Doces', 'Café', 'Massas'],\n",
       "       ['Básicos', 'Doces', 'Padaria'],\n",
       "       ['Laticínios', 'Laticínios', 'Doces'],\n",
       "       ['Bebidas', 'Padaria', 'Massas'],\n",
       "       ['Bebidas', 'Básicos', 'Café'],\n",
       "       ['Massas', 'Bebidas', 'Bebidas'],\n",
       "       ['Massas', 'Padaria', 'Bebidas'],\n",
       "       ['Café', 'Bebidas', 'Doces'],\n",
       "       ['Hortifrutti', 'Bebidas', 'Café'],\n",
       "       ['Hortifrutti', 'Laticínios', 'Massas'],\n",
       "       ['Café', 'Doces', 'Café'],\n",
       "       ['Laticínios', 'Básicos', 'Bebidas'],\n",
       "       ['Laticínios', 'Bebidas', 'Laticínios'],\n",
       "       ['Laticínios', 'Básicos', 'Café'],\n",
       "       ['Padaria', 'Bebidas', 'Massas'],\n",
       "       ['Padaria', 'Básicos', 'Bebidas'],\n",
       "       ['Básicos', 'Básicos', 'Café'],\n",
       "       ['Hortifrutti', 'Doces', 'Bebidas'],\n",
       "       ['Hortifrutti', 'Padaria', 'Café'],\n",
       "       ['Doces', 'Básicos', 'Hortifrutti'],\n",
       "       ['Padaria', 'Doces', 'Hortifrutti'],\n",
       "       ['Massas', 'Hortifrutti', 'Padaria'],\n",
       "       ['Doces', 'Massas', 'Doces'],\n",
       "       ['Padaria', 'Básicos', 'Café']], dtype=object)"
      ]
     },
     "execution_count": 79,
     "metadata": {},
     "output_type": "execute_result"
    }
   ],
   "source": [
    "classifier.predict(X_test)"
   ]
  },
  {
   "cell_type": "code",
   "execution_count": 80,
   "metadata": {
    "ExecuteTime": {
     "end_time": "2018-07-02T23:16:33.291246Z",
     "start_time": "2018-07-02T23:16:32.713513Z"
    }
   },
   "outputs": [],
   "source": [
    "produtos = classifier.predict(X_test).tolist()"
   ]
  },
  {
   "cell_type": "code",
   "execution_count": 81,
   "metadata": {
    "ExecuteTime": {
     "end_time": "2018-07-02T23:16:33.307391Z",
     "start_time": "2018-07-02T23:16:33.295627Z"
    }
   },
   "outputs": [],
   "source": [
    "produtos2 = pd.DataFrame(produtos)"
   ]
  },
  {
   "cell_type": "code",
   "execution_count": null,
   "metadata": {},
   "outputs": [],
   "source": []
  }
 ],
 "metadata": {
  "kernelspec": {
   "display_name": "Python 3",
   "language": "python",
   "name": "python3"
  },
  "language_info": {
   "codemirror_mode": {
    "name": "ipython",
    "version": 3
   },
   "file_extension": ".py",
   "mimetype": "text/x-python",
   "name": "python",
   "nbconvert_exporter": "python",
   "pygments_lexer": "ipython3",
   "version": "3.6.4"
  }
 },
 "nbformat": 4,
 "nbformat_minor": 2
}
