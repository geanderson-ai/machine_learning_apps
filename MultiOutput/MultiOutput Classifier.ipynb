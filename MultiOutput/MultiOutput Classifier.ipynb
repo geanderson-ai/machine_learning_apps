{
 "cells": [
  {
   "cell_type": "code",
   "execution_count": 1,
   "metadata": {
    "ExecuteTime": {
     "end_time": "2018-06-12T19:13:23.186148Z",
     "start_time": "2018-06-12T19:13:21.001938Z"
    }
   },
   "outputs": [],
   "source": [
    "import pandas as pd\n",
    "import numpy as np\n",
    "from sklearn.ensemble import RandomForestClassifier\n",
    "from sklearn.multioutput import MultiOutputClassifier\n",
    "from sklearn.model_selection import train_test_split\n",
    "from sklearn.metrics import accuracy_score, classification_report\n",
    "import _pickle as cPickle\n",
    "import requests, json\n",
    "import pickle"
   ]
  },
  {
   "cell_type": "code",
   "execution_count": 2,
   "metadata": {
    "ExecuteTime": {
     "end_time": "2018-06-12T19:13:23.212003Z",
     "start_time": "2018-06-12T19:13:23.188929Z"
    }
   },
   "outputs": [],
   "source": [
    "df = pd.read_csv('top_products.csv')"
   ]
  },
  {
   "cell_type": "code",
   "execution_count": 3,
   "metadata": {
    "ExecuteTime": {
     "end_time": "2018-06-12T19:13:23.223239Z",
     "start_time": "2018-06-12T19:13:23.216101Z"
    }
   },
   "outputs": [],
   "source": [
    "x = df.iloc[:, 4:]\n",
    "y = df.iloc[:, :4]"
   ]
  },
  {
   "cell_type": "code",
   "execution_count": 4,
   "metadata": {
    "ExecuteTime": {
     "end_time": "2018-06-12T19:13:23.235964Z",
     "start_time": "2018-06-12T19:13:23.226609Z"
    }
   },
   "outputs": [],
   "source": [
    "X_train, X_test, y_train, y_test = train_test_split(x, y, test_size=0.3, random_state=0)"
   ]
  },
  {
   "cell_type": "code",
   "execution_count": 5,
   "metadata": {
    "ExecuteTime": {
     "end_time": "2018-06-12T19:13:55.336305Z",
     "start_time": "2018-06-12T19:13:23.240129Z"
    }
   },
   "outputs": [
    {
     "data": {
      "text/plain": [
       "MultiOutputClassifier(estimator=RandomForestClassifier(bootstrap=True, class_weight=None, criterion='gini',\n",
       "            max_depth=None, max_features='auto', max_leaf_nodes=None,\n",
       "            min_impurity_decrease=0.0, min_impurity_split=None,\n",
       "            min_samples_leaf=1, min_samples_split=2,\n",
       "            min_weight_fraction_leaf=0.0, n_estimators=100, n_jobs=1,\n",
       "            oob_score=False, random_state=1, verbose=0, warm_start=False),\n",
       "           n_jobs=-1)"
      ]
     },
     "execution_count": 5,
     "metadata": {},
     "output_type": "execute_result"
    }
   ],
   "source": [
    "forest = RandomForestClassifier(n_estimators=100, random_state=1)\n",
    "classifier = MultiOutputClassifier(forest, n_jobs=-1)\n",
    "classifier.fit(X_train, y_train)"
   ]
  },
  {
   "cell_type": "code",
   "execution_count": 6,
   "metadata": {
    "ExecuteTime": {
     "end_time": "2018-06-12T19:13:55.348715Z",
     "start_time": "2018-06-12T19:13:55.342388Z"
    }
   },
   "outputs": [],
   "source": [
    "#pickle.dump(classifier, open(\"multiclassifier.pkl\", \"wb\"))"
   ]
  },
  {
   "cell_type": "code",
   "execution_count": 7,
   "metadata": {
    "ExecuteTime": {
     "end_time": "2018-06-12T19:14:45.028317Z",
     "start_time": "2018-06-12T19:13:55.353561Z"
    }
   },
   "outputs": [
    {
     "data": {
      "text/plain": [
       "['multiclassifier.pkl']"
      ]
     },
     "execution_count": 7,
     "metadata": {},
     "output_type": "execute_result"
    }
   ],
   "source": [
    "from sklearn.externals import joblib\n",
    "joblib.dump(classifier, 'multiclassifier2.pkl', compress=9) "
   ]
  },
  {
   "cell_type": "code",
   "execution_count": 8,
   "metadata": {
    "ExecuteTime": {
     "end_time": "2018-06-12T19:15:03.981959Z",
     "start_time": "2018-06-12T19:14:45.041775Z"
    }
   },
   "outputs": [],
   "source": [
    "produtos = classifier.predict(X_test).tolist()"
   ]
  },
  {
   "cell_type": "code",
   "execution_count": 9,
   "metadata": {
    "ExecuteTime": {
     "end_time": "2018-06-12T19:15:04.001392Z",
     "start_time": "2018-06-12T19:15:03.986115Z"
    }
   },
   "outputs": [],
   "source": [
    "produtos2 = pd.DataFrame(produtos)"
   ]
  },
  {
   "cell_type": "code",
   "execution_count": 10,
   "metadata": {
    "ExecuteTime": {
     "end_time": "2018-06-12T19:15:04.030649Z",
     "start_time": "2018-06-12T19:15:04.007541Z"
    }
   },
   "outputs": [
    {
     "name": "stdout",
     "output_type": "stream",
     "text": [
      "Chocolate Bar - Reese Pieces Sauce - Chili\n",
      "Beef - Top Butt Wine - White, Pelee Island\n",
      "Carbonated Water - White Grape Bread - Sour Sticks With Onion\n",
      "Garlic - Peeled Pasta - Tortellini, Fresh\n",
      "Gatorade - Xfactor Berry Olives - Green, Pitted\n",
      "Ecolab Crystal Fusion Cheese - Montery Jack\n",
      "Pork - Smoked Back Bacon Wine - George Duboeuf Rose\n",
      "Venison - Liver Compound - Raspberry\n",
      "Rice - Aborio Brownies - Two Bite, Chocolate\n",
      "Tea Peppermint Nestea - Iced Tea\n",
      "Beef Dry Aged Tenderloin Aaa Shrimp - Tiger 21/25\n",
      "Pasta - Cheese / Spinach Bauletti Nut - Chestnuts, Whole\n",
      "Bread - Corn Muffaletta Pork - Back Ribs\n",
      "Savory Ice Cream Bar - Oreo Sandwich\n",
      "Nectarines Sprouts Dikon\n",
      "Mushroom - Trumpet, Dry Shortbread - Cookie Crumbs\n",
      "Nestea - Iced Tea Salmon Atl.whole 8 - 10 Lb\n",
      "Bread - Dark Rye Chicken - Whole\n",
      "Daves Island Stinger Beer - Pilsner Urquell\n",
      "Lobster - Base Butter - Pod\n",
      "Truffle Shells - White Chocolate Cinnamon Buns Sticky\n",
      "Ecolab - Balanced Fusion Tilapia - Fillets\n",
      "Beef Ground Medium Versatainer Nc - 888\n",
      "Capicola - Hot Long Island Ice Tea\n",
      "Beef - Top Butt Wine - White, Pelee Island\n",
      "Wine - Gewurztraminer Pierre Pork - Ham Hocks - Smoked\n",
      "Soup Bowl Clear 8oz92008 Oranges - Navel, 72\n",
      "Nougat - Paste / Cream Bacardi Limon\n",
      "Savory Truffle Shells - Semi - Sweet\n",
      "Chocolate - Mi - Amere Semi Coriander - Ground\n",
      "Cheese - Parmigiano Reggiano Chicken - Ground\n",
      "Chinese Foods - Thick Noodles Tarragon - Fresh\n",
      "Leeks - Baby, White Potatoes - Fingerling 4 Oz\n",
      "Pasta - Gnocchi, Potato Blueberries\n",
      "Tuna - Bluefin Molasses - Fancy\n",
      "Broom - Push Island Oasis - Magarita Mix\n",
      "Veal - Liver Cup - 3.5oz, Foam\n",
      "Wine - Chianti Classico Riserva Puff Pastry - Sheets\n",
      "Sauce - Rosee Brownies - Two Bite, Chocolate\n",
      "Pepper - White, Whole Sauce - Salsa\n",
      "Lemonade - Mandarin, 591 Ml Cod - Black Whole Fillet\n",
      "Everfresh Products Squeeze Bottle\n",
      "Sauce - Sesame Thai Dressing Crab - Meat\n",
      "Celery Root V8 - Vegetable Cocktail\n",
      "Lamb - Whole Head Off,nz Soup - Knorr, Chicken Noodle\n",
      "Mangoes Tea - Camomele\n",
      "Wine - Fontanafredda Barolo Pie Shells 10\n",
      "Compound - Passion Fruit Mackerel Whole Fresh\n",
      "Pork - Backfat Shark - Loin\n",
      "Wine - Sauvignon Blanc Beer - Corona\n",
      "Bar Bran Honey Nut Lettuce - Spring Mix\n",
      "Flour - Strong Sauce - Hp\n",
      "Nantuket Peach Orange Wine - Cabernet Sauvignon\n",
      "Nougat - Paste / Cream Lentils - Red, Dry\n",
      "Coffee - Hazelnut Cream Lamb - Shanks\n",
      "Chocolate - Liqueur Cups With Foil Wine - Masi Valpolocell\n",
      "Cotton Wet Mop 16 Oz Beef - Ground Medium\n",
      "Vaccum Bag - 14x20 Roe - White Fish\n",
      "Mustard - Dry, Powder Soup - Knorr, Country Bean\n",
      "Jam - Strawberry, 20 Ml Jar Pasta - Fett Alfredo, Single Serve\n",
      "Wine - Black Tower Qr Onions - Vidalia\n",
      "Appetizer - Asian Shrimp Roll Appetizer - Southwestern\n",
      "Anchovy Paste - 56 G Tube Wine - Vineland Estate Semi - Dry\n",
      "Wine - Red, Mosaic Zweigelt Pail With Metal Handle 16l White\n",
      "Veal - Knuckle Skewers - Bamboo\n",
      "Sauerkraut Pasta - Lasagna Noodle, Frozen\n",
      "Basil - Pesto Sauce Lettuce - Lambs Mash\n",
      "Sauce Bbq Smokey Cream - 35%\n",
      "Snapple - Mango Maddness Compound - Passion Fruit\n",
      "Beer - Mcauslan Apricot Pears - Fiorelle\n",
      "Chocolate - Mi - Amere Semi Coriander - Ground\n",
      "Savory Sprouts Dikon\n",
      "Bread - Roll, Soft White Round Buffalo - Striploin\n",
      "Oil - Hazelnut Tomatoes - Cherry\n",
      "Marjoram - Fresh Beans - Navy, Dry\n",
      "Pasta - Elbows, Macaroni, Dry Wanton Wrap\n",
      "Pork - Bacon, Double Smoked Soy Protein\n",
      "Chilli Paste, Hot Sambal Oelek Squid U5 - Thailand\n",
      "Wine - Chateau Aqueria Tavel Bagel - Plain\n",
      "Barley - Pearl Schnappes Peppermint - Walker\n",
      "Carrots - Mini, Stem On Ice Cream Bar - Oreo Sandwich\n",
      "Bread - Roll, Canadian Dinner Wine - Casillero Deldiablo\n",
      "Plasticspoonblack Godiva White Chocolate\n",
      "Syrup - Monin, Amaretta Marjoram - Dried, Rubbed\n",
      "Cheese - Cream Cheese Fuji Apples\n",
      "Beets - Mini Golden Chocolate - Milk\n",
      "Pernod Emulsifier\n",
      "Cardamon Ground Beef Flat Iron Steak\n",
      "Pepper - Orange Wiberg Cure\n",
      "Peppercorns - Green Lotus Leaves\n",
      "Spic And Span All Purpose Wine - Cahors Ac 2000, Clos\n",
      "Fireball Whisky Tahini Paste\n",
      "Mackerel Whole Fresh Muffin Batt - Ban Dream Zero\n",
      "Pears - Bartlett V8 - Vegetable Cocktail\n",
      "Wine - Red, Lurton Merlot De Wine - Mas Chicet Rose, Vintage\n",
      "Bread - Italian Corn Meal Poly Pomegranates\n",
      "Appetizer - Asian Shrimp Roll Passion Fruit\n",
      "Corn Kernels - Frozen Gin - Gilbeys London, Dry\n",
      "Plasticspoonblack Cheese - Romano, Grated\n",
      "Wine - Black Tower Qr Onions - Vidalia\n",
      "Quinoa Wine - Clavet Saint Emilion\n",
      "Tabasco Sauce, 2 Oz Oven Mitts 17 Inch\n",
      "Bread - Roll, Soft White Round Pasta - Cannelloni, Sheets, Fresh\n",
      "The Pop Shoppe - Black Cherry Butter - Pod\n",
      "Soap - Hand Soap Wine - White, Mosel Gold\n",
      "Bread Base - Gold Formel Ham - Proscuitto\n",
      "Beets - Mini Golden Chocolate - Milk\n",
      "Chocolate - Liqueur Cups With Foil Wine - Masi Valpolocell\n",
      "Lid Coffeecup 12oz D9542b Flour - Corn, Fine\n",
      "Red Pepper Paste Pork - Bacon,back Peameal\n",
      "Scallops - In Shell Nut - Chestnuts, Whole\n",
      "Savory Water - Mineral, Natural\n",
      "Tea - Herbal I Love Lemon Bread - Flat Bread\n",
      "Chicken - Diced, Cooked Soup - Campbells, Butternut\n",
      "Truffle Cups - White Paper Silicone Paper 16.5x24\n",
      "Salmon - Atlantic, No Skin Wine - Mas Chicet Rose, Vintage\n",
      "Shrimp - Black Tiger 16/20 Pickles - Gherkins\n",
      "Pork Loin Bine - In Frenched Truffle Cups - White Paper\n",
      "Carbonated Water - White Grape Veal - Bones\n",
      "Cardamon Ground Beef Flat Iron Steak\n",
      "Cup - Translucent 7 Oz Clear Bread - Hot Dog Buns\n",
      "Flour - Semolina Mackerel Whole Fresh\n",
      "Yokaline Jam - Strawberry, 20 Ml Jar\n",
      "Wine - Kwv Chenin Blanc South Plate - Foam, Bread And Butter\n",
      "Celery Root Lamb - Whole, Fresh\n",
      "Quinoa Wine - Clavet Saint Emilion\n",
      "Bread - Corn Muffaletta Guinea Fowl\n",
      "Shrimp, Dried, Small / Lb Bread - Wheat Baguette\n",
      "Apples - Spartan Eggplant Italian\n",
      "Veal - Leg Pastry - Choclate Baked\n",
      "Cheese - Cheddar, Mild Pepper - Black, Whole\n",
      "Pectin Apples - Sliced / Wedge\n",
      "Lid - 16 Oz And 32 Oz Beans - Green\n",
      "Rice - Wild Macaroons - Two Bite Choc\n",
      "Nantucket Pine Orangebanana Ginger - Fresh\n",
      "Godiva White Chocolate Onion - Dried\n",
      "Cake - Pancake Cheese - Montery Jack\n",
      "Anchovy Paste - 56 G Tube Wine - Vineland Estate Semi - Dry\n",
      "Water - Perrier Tea - Camomele\n",
      "Olives - Green, Pitted Crab - Dungeness, Whole\n",
      "Anchovy Paste - 56 G Tube Wine - Vineland Estate Semi - Dry\n",
      "Cheese - Pont Couvert Lentils - Red, Dry\n",
      "Beef Cheek Fresh Pepper - Gypsy Pepper\n",
      "Wine - Red, Pelee Island Merlot Beans - Kidney, Canned\n",
      "Cheese - Cheddar, Medium Pork - Ham Hocks - Smoked\n",
      "Savory Wine - Zinfandel Rosenblum\n",
      "Olives - Morracan Dired Piping Jelly - All Colours\n",
      "Cheese - Fontina Wine - Red, Metus Rose\n",
      "Tea - Grapefruit Green Tea Wine - Vineland Estate Semi - Dry\n",
      "Sauerkraut Chocolate - Feathers\n",
      "Spice - Greek 1 Step Mustard - Seed\n",
      "Banana Turning Hold Up Tool Storage Rack\n",
      "Lettuce - Sea / Sea Asparagus Coffee - Hazelnut Cream\n",
      "Cookies - Englishbay Chochip Ham - Cooked\n",
      "Chicken - Diced, Cooked Soup - Campbells, Butternut\n",
      "Icecream - Dstk Strw Chseck Bread - Flat Bread\n",
      "Pork - Ham, Virginia Squeeze Bottle\n",
      "Wine - Charddonnay Errazuriz Wine - Casablanca Valley\n",
      "Juice - Orange 1.89l Tendrils - Baby Pea, Organic\n",
      "Wine - Gewurztraminer Pierre Tahini Paste\n",
      "Tomatillo Wine - Sicilia Igt Nero Avola\n",
      "Wine - Kwv Chenin Blanc South Langers - Ruby Red Grapfruit\n",
      "Pasta - Gnocchi, Potato Blueberries\n",
      "Bread - Petit Baguette Zucchini - Yellow\n",
      "Savory Truffle Shells - Semi - Sweet\n",
      "Lamb - Shoulder, Boneless Flour - All Purpose\n",
      "Rice Wine - Aji Mirin Wine - White, Pelee Island\n",
      "Veal - Ground Spinach - Spinach Leaf\n",
      "Pastry - Carrot Muffin - Mini Vinegar - Sherry\n",
      "Cinnamon Buns Sticky Chicken - Leg, Boneless\n",
      "Cheese - Cheddar, Mild Pepper - Black, Whole\n",
      "Nantuket Peach Orange Wine - Cabernet Sauvignon\n",
      "Bread - Roll, Soft White Round Compound - Raspberry\n",
      "Soup Bowl Clear 8oz92008 Oranges - Navel, 72\n",
      "Figs Sage - Fresh\n",
      "Mushroom - King Eryingii Compound - Strawberry\n",
      "Hinge W Undercut Juice - Apple, 500 Ml\n",
      "Bread - Bistro Sour Pie Shells 10\n",
      "Filter - Coffee Bread - Olive\n",
      "Chinese Lemon Pork Cheese - Cream Cheese\n",
      "Leeks - Baby, White Potatoes - Fingerling 4 Oz\n",
      "Venison - Liver Compound - Raspberry\n",
      "Crab - Back Fin Meat, Canned Kippers - Smoked\n",
      "Nougat - Paste / Cream Bacardi Limon\n",
      "Turnip - Mini Oysters - Smoked\n",
      "Longos - Penne With Pesto Bay Leaf Ground\n",
      "Compound - Passion Fruit Arizona - Green Tea\n",
      "Truffle Cups - White Paper Silicone Paper 16.5x24\n",
      "Syrup - Monin, Amaretta Nestea - Iced Tea\n",
      "Coffee Cup 8oz 5338cd Soup - Campbellschix Stew\n",
      "Sauce - Rosee Pecan Raisin - Tarts\n",
      "Compound - Raspberry Pork - Sausage, Medium\n",
      "Yukon Jack Juice - Grapefruit, 341 Ml\n",
      "Nougat - Paste / Cream Lentils - Red, Dry\n",
      "Wine - Gewurztraminer Pierre Currants\n",
      "Yokaline Jam - Strawberry, 20 Ml Jar\n",
      "Filter - Coffee Bread - Olive\n",
      "Wine - Cave Springs Dry Riesling Vinegar - White\n",
      "Sausage - Meat Oysters - Smoked\n",
      "Knife Plastic - White Wine - Guy Sage Touraine\n",
      "Yukon Jack Juice - Grapefruit, 341 Ml\n",
      "Mushroom - Morels, Dry Nut - Pecan, Halves\n",
      "Sprouts - Corn Bread - Hot Dog Buns\n",
      "Wiberg Cure Puree - Passion Fruit\n",
      "Venison - Racks Frenched Muffin Mix - Raisin Bran\n",
      "Sunflower Seed Raw Pur Value\n",
      "Gatorade - Xfactor Berry Olives - Green, Pitted\n",
      "Cardamon Ground Grouper - Fresh\n",
      "Compound - Passion Fruit Arizona - Green Tea\n",
      "Ham - Cooked Bayonne Tinned Nut - Pecan, Halves\n",
      "Veal - Leg Gin - Gilbeys London, Dry\n",
      "Bread - Rye Wine - Mas Chicet Rose, Vintage\n",
      "Wine - Red, Mosaic Zweigelt Pail With Metal Handle 16l White\n",
      "Baking Powder Hold Up Tool Storage Rack\n",
      "Wine - White, Colubia Cresh Soup - Knorr, French Onion\n",
      "Mushroom - King Eryingii Compound - Strawberry\n",
      "Yukon Jack Juice - Grapefruit, 341 Ml\n",
      "English Muffin Grouper - Fresh\n",
      "Chocolate - Liqueur Cups With Foil Wine - Masi Valpolocell\n",
      "Sausage - Chorizo Chicken - Ground\n",
      "Flour - Semolina Mackerel Whole Fresh\n",
      "Cocoa Butter Pork - Smoked Back Bacon\n",
      "Soup - Knorr, Ministrone Pasta - Shells, Medium, Dry\n",
      "Yoplait - Strawbrasp Peac Grand Marnier\n",
      "Bay Leaf Ground Appetizer - Chicken Satay\n",
      "Pasta - Canelloni, Single Serve Muffin Mix - Morning Glory\n",
      "Venison - Racks Frenched Beer - Tetleys\n",
      "Bacardi Breezer - Strawberry Mushroom - Enoki, Dry\n",
      "Beer - Rickards Red Table Cloth 54x72 Colour\n",
      "Beer - Camerons Auburn Bread - Multigrain, Loaf\n",
      "Wine - Shiraz Wolf Blass Premium Sole - Iqf\n",
      "Flour - Semolina Mackerel Whole Fresh\n",
      "Plastic Wrap Cabbage Roll\n",
      "Sugar - Invert Onions - Spanish\n",
      "Ice - Clear, 300 Lb For Carving Tuna - Bluefin\n",
      "Glucose Pork - Ground\n",
      "Tea - Grapefruit Green Tea Mushroom - Enoki, Fresh\n",
      "Cheese - Ermite Bleu Eggplant Italian\n",
      "Garam Marsala Cattail Hearts\n",
      "Bread - Pita, Mini Mushrooms - Black, Dried\n",
      "Flour - Pastry Soup - Campbells, Butternut\n",
      "Beef - Shank Beans - Fine\n",
      "Shrimp - 16/20, Iqf, Shell On Mushroom - King Eryingii\n",
      "Schnappes - Peach, Walkers Soup Campbells - Tomato Bisque\n",
      "Snapple - Mango Maddness Compound - Passion Fruit\n",
      "Wine - White, Gewurtzraminer Chicken - Diced, Cooked\n",
      "Scallops - In Shell Bread - Sour Sticks With Onion\n",
      "Bread - Rye Rum - Cream, Amarula\n",
      "Veal - Liver Appetizer - Southwestern\n",
      "Figs Sage - Fresh\n",
      "Ice - Clear, 300 Lb For Carving Beef Flat Iron Steak\n",
      "Ice - Clear, 300 Lb For Carving Tuna - Bluefin\n",
      "Soup - Cream Of Broccoli Wine - Casablanca Valley\n",
      "Bread - Focaccia Quarter Bacardi Breezer - Tropical\n",
      "Towels - Paper / Kraft Mushrooms - Honey\n",
      "Wiberg Super Cure Mushroom - Morels, Dry\n",
      "Clams - Bay Radish\n",
      "Cheese - Sheep Milk Bar Mix - Pina Colada, 355 Ml\n",
      "Flower - Commercial Spider Bread - Bagels, Plain\n",
      "Bread - Pullman, Sliced Soup - Knorr, French Onion\n",
      "Truffle Shells - White Chocolate Veal - Inside\n",
      "Mushroom - King Eryingii Compound - Strawberry\n",
      "Ginger - Fresh Tea - Herbal Orange Spice\n",
      "Wine - Chateauneuf Du Pape Sultanas\n",
      "Mushroom - King Eryingii Shrimp - Black Tiger 6 - 8\n",
      "Water - Spring 1.5lit Pasta - Canelloni\n",
      "Chicken - Wings, Tip Off Longos - Chicken Cordon Bleu\n",
      "Chilli Paste, Hot Sambal Oelek Five Alive Citrus\n",
      "Mustard - Dry, Powder Soup - Knorr, Country Bean\n",
      "Squeeze Bottle Radish - Pickled\n",
      "Beans - Black Bean, Canned Soup - Base Broth Chix\n",
      "Bread - Ciabatta Buns Vinegar - Champagne\n",
      "Prunes - Pitted Onions Granulated\n",
      "Bread - Focaccia Quarter Bacardi Breezer - Tropical\n",
      "Black Currants Pastry - Baked Cinnamon Stick\n",
      "Oven Mitts 17 Inch Cheese - Perron Cheddar\n",
      "Flour - Pastry Vinegar - Tarragon\n",
      "Bread - Sour Sticks With Onion Ice Cream - Life Savers\n",
      "Tomatillo Wine - Sicilia Igt Nero Avola\n",
      "Vaccum Bag - 14x20 Nut - Pecan, Pieces\n",
      "Soup - Knorr, Chicken Gumbo Sesame Seed Black\n",
      "Ginger - Fresh Zucchini - Mini, Green\n",
      "Wine - Vineland Estate Semi - Dry Island Oasis - Magarita Mix\n",
      "Cheese - Cheddar, Medium Bread - Italian Sesame Poly\n",
      "Flavouring Vanilla Artificial Beef - Sushi Flat Iron Steak\n",
      "Beer - Camerons Auburn Bread - Multigrain, Loaf\n",
      "Nantucket Pine Orangebanana Ginger - Fresh\n",
      "Oil - Margarine Chicken - Livers\n",
      "Eggwhite Frozen Lidsoupcont Rp12dn\n",
      "Cheese - Sheep Milk Sauce - Roasted Red Pepper\n",
      "Figs Sage - Fresh\n",
      "Muffin - Banana Nut Individual Wine - Charddonnay Errazuriz\n",
      "Chocolate - Unsweetened Lotus Rootlets - Canned\n",
      "Bagels Poppyseed Puff Pastry - Sheets\n",
      "Mushroom - King Eryingii Shrimp - Black Tiger 6 - 8\n",
      "Lemons Chicken - Whole\n",
      "Gatorade - Lemon Lime Eel Fresh\n",
      "Bread - Rye Foam Cup 6 Oz\n",
      "Pears - Bosc Straw - Regular\n",
      "Turnip - Mini Oysters - Smoked\n"
     ]
    }
   ],
   "source": [
    "for a in produtos:\n",
    "    print(a[0], a[1])"
   ]
  },
  {
   "cell_type": "code",
   "execution_count": 11,
   "metadata": {
    "ExecuteTime": {
     "end_time": "2018-06-12T19:15:04.046561Z",
     "start_time": "2018-06-12T19:15:04.034361Z"
    }
   },
   "outputs": [
    {
     "data": {
      "text/plain": [
       "'Chocolate Eclairs'"
      ]
     },
     "execution_count": 11,
     "metadata": {},
     "output_type": "execute_result"
    }
   ],
   "source": [
    "produtos[1][3]"
   ]
  },
  {
   "cell_type": "code",
   "execution_count": 12,
   "metadata": {
    "ExecuteTime": {
     "end_time": "2018-06-12T19:15:12.543747Z",
     "start_time": "2018-06-12T19:15:04.055326Z"
    }
   },
   "outputs": [],
   "source": [
    "cPickle.dump(classifier, open(\"top_product.pkl\", \"wb\"))"
   ]
  },
  {
   "cell_type": "code",
   "execution_count": null,
   "metadata": {},
   "outputs": [],
   "source": []
  }
 ],
 "metadata": {
  "kernelspec": {
   "display_name": "Python 3",
   "language": "python",
   "name": "python3"
  },
  "language_info": {
   "codemirror_mode": {
    "name": "ipython",
    "version": 3
   },
   "file_extension": ".py",
   "mimetype": "text/x-python",
   "name": "python",
   "nbconvert_exporter": "python",
   "pygments_lexer": "ipython3",
   "version": "3.6.4"
  }
 },
 "nbformat": 4,
 "nbformat_minor": 2
}
