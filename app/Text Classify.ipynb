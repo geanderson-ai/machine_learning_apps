{
 "cells": [
  {
   "cell_type": "code",
   "execution_count": null,
   "metadata": {},
   "outputs": [],
   "source": []
  },
  {
   "cell_type": "code",
   "execution_count": null,
   "metadata": {},
   "outputs": [],
   "source": [
    "if request.method == 'POST':\n",
    "        file = request.files['file']\n",
    "        # method 01\n",
    "        file = str(file)\n",
    "        with open(file, 'r') as fp:\n",
    "            content = fp.read()\n",
    "        blob = TextBlob(content)\n",
    "        # method 02\n",
    "        text = open('sentenca_lula.txt', 'r', encoding='utf8')\n",
    "        raw= text.read()\n",
    "        text2 = TextBlob(raw)"
   ]
  }
 ],
 "metadata": {
  "kernelspec": {
   "display_name": "Python 3",
   "language": "python",
   "name": "python3"
  },
  "language_info": {
   "codemirror_mode": {
    "name": "ipython",
    "version": 3
   },
   "file_extension": ".py",
   "mimetype": "text/x-python",
   "name": "python",
   "nbconvert_exporter": "python",
   "pygments_lexer": "ipython3",
   "version": "3.6.4"
  }
 },
 "nbformat": 4,
 "nbformat_minor": 2
}
