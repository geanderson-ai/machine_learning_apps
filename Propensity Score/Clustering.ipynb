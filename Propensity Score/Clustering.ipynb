{
 "cells": [
  {
   "cell_type": "code",
   "execution_count": 1,
   "metadata": {
    "ExecuteTime": {
     "end_time": "2018-06-26T12:13:50.078846Z",
     "start_time": "2018-06-26T12:13:49.490409Z"
    }
   },
   "outputs": [],
   "source": [
    "import pandas as pd\n",
    "import numpy as np\n",
    "import os\n",
    "from sklearn.cluster import KMeans"
   ]
  },
  {
   "cell_type": "code",
   "execution_count": 2,
   "metadata": {
    "ExecuteTime": {
     "end_time": "2018-06-26T12:13:50.083710Z",
     "start_time": "2018-06-26T12:13:50.080389Z"
    }
   },
   "outputs": [],
   "source": [
    "os.chdir(\"/home/geanderson/Dropbox/APPS/data\")"
   ]
  },
  {
   "cell_type": "code",
   "execution_count": 3,
   "metadata": {
    "ExecuteTime": {
     "end_time": "2018-06-26T12:13:51.631029Z",
     "start_time": "2018-06-26T12:13:50.085827Z"
    }
   },
   "outputs": [],
   "source": [
    "df = pd.read_csv('retail_july.csv')"
   ]
  },
  {
   "cell_type": "code",
   "execution_count": 4,
   "metadata": {
    "ExecuteTime": {
     "end_time": "2018-06-26T12:13:51.657945Z",
     "start_time": "2018-06-26T12:13:51.637401Z"
    }
   },
   "outputs": [
    {
     "data": {
      "text/plain": [
       "array(['AbandonedCart', 'AcceptAD', 'AcceptDiscount', 'AddtoCart',\n",
       "       'BuyOrNot', 'Category', 'Churn', 'Clustering',\n",
       "       'CompetitionPressure', 'Country', 'CustomerID', 'Date',\n",
       "       'DaysLastOrder', 'Description', 'Display', 'DisplayInStore',\n",
       "       'Elasticity', 'InvoiceDate', 'InvoiceNo', 'KindOfSale',\n",
       "       'LenghtDiscount', 'NormalPrice', 'Payment', 'PromotionDays',\n",
       "       'Quantity', 'ReOrder', 'RePurchase', 'Revenue', 'Seasonality',\n",
       "       'StockCode', 'Time', 'TypeofProduct', 'TypeofPromotion',\n",
       "       'UnitPrice', 'Weather', 'day_of_week'], dtype=object)"
      ]
     },
     "execution_count": 4,
     "metadata": {},
     "output_type": "execute_result"
    }
   ],
   "source": [
    "df.columns.sort_values().values"
   ]
  },
  {
   "cell_type": "code",
   "execution_count": 5,
   "metadata": {
    "ExecuteTime": {
     "end_time": "2018-06-26T12:13:52.079194Z",
     "start_time": "2018-06-26T12:13:51.663259Z"
    }
   },
   "outputs": [
    {
     "data": {
      "text/plain": [
       "array([0, 2, 2, ..., 1, 3, 1])"
      ]
     },
     "execution_count": 5,
     "metadata": {},
     "output_type": "execute_result"
    }
   ],
   "source": [
    "from sklearn import preprocessing\n",
    "le = preprocessing.LabelEncoder()\n",
    "le.fit(np.array(df.Category.values))\n",
    "le.transform(np.array(df.Category.values))\n"
   ]
  },
  {
   "cell_type": "code",
   "execution_count": 6,
   "metadata": {
    "ExecuteTime": {
     "end_time": "2018-06-26T12:13:52.291781Z",
     "start_time": "2018-06-26T12:13:52.080728Z"
    }
   },
   "outputs": [],
   "source": [
    "df['One_Hot_Category'] = le.transform(np.array(df.Category.values))"
   ]
  },
  {
   "cell_type": "code",
   "execution_count": 31,
   "metadata": {
    "ExecuteTime": {
     "end_time": "2018-06-26T12:43:54.213949Z",
     "start_time": "2018-06-26T12:43:54.208377Z"
    }
   },
   "outputs": [],
   "source": [
    "X = df[['Revenue', 'One_Hot_Category', 'LenghtDiscount', 'Quantity', 'NormalPrice']]"
   ]
  },
  {
   "cell_type": "code",
   "execution_count": 32,
   "metadata": {
    "ExecuteTime": {
     "end_time": "2018-06-26T12:43:54.788679Z",
     "start_time": "2018-06-26T12:43:54.740877Z"
    }
   },
   "outputs": [
    {
     "data": {
      "text/plain": [
       "array([[0.5 , 0.  , 0.8 , 0.5 , 0.74],\n",
       "       [0.5 , 0.67, 0.82, 0.5 , 0.07],\n",
       "       [0.5 , 0.67, 0.08, 0.5 , 0.34],\n",
       "       ...,\n",
       "       [0.5 , 0.33, 0.71, 0.5 , 0.76],\n",
       "       [0.5 , 1.  , 0.97, 0.5 , 0.26],\n",
       "       [0.5 , 0.33, 0.48, 0.5 , 0.13]])"
      ]
     },
     "execution_count": 32,
     "metadata": {},
     "output_type": "execute_result"
    }
   ],
   "source": [
    "min_max_scaler = preprocessing.MinMaxScaler()\n",
    "X_minmax = min_max_scaler.fit_transform(X)\n",
    "X_minmax"
   ]
  },
  {
   "cell_type": "code",
   "execution_count": 33,
   "metadata": {
    "ExecuteTime": {
     "end_time": "2018-06-26T12:44:09.786023Z",
     "start_time": "2018-06-26T12:43:58.779291Z"
    }
   },
   "outputs": [],
   "source": [
    "kmeans2 = KMeans(n_clusters=5, random_state=0).fit(X_minmax)\n",
    "# center of each clusters\n",
    "centers = kmeans2.cluster_centers_\n",
    "# labels of each datapoint\n",
    "labels2 = kmeans2.labels_\n",
    "# distance between datapoint and cluster\n",
    "distance = kmeans2.fit_transform(X_minmax)"
   ]
  },
  {
   "cell_type": "code",
   "execution_count": 34,
   "metadata": {
    "ExecuteTime": {
     "end_time": "2018-06-26T12:46:05.356170Z",
     "start_time": "2018-06-26T12:46:05.352631Z"
    }
   },
   "outputs": [
    {
     "data": {
      "text/plain": [
       "array([[0.5 , 0.16, 0.31, 0.5 , 0.25],\n",
       "       [0.5 , 0.83, 0.75, 0.5 , 0.52],\n",
       "       [0.5 , 0.85, 0.26, 0.5 , 0.43],\n",
       "       [0.5 , 0.16, 0.8 , 0.5 , 0.5 ],\n",
       "       [0.5 , 0.26, 0.31, 0.5 , 0.8 ]])"
      ]
     },
     "execution_count": 34,
     "metadata": {},
     "output_type": "execute_result"
    }
   ],
   "source": [
    "centers"
   ]
  },
  {
   "cell_type": "code",
   "execution_count": 35,
   "metadata": {
    "ExecuteTime": {
     "end_time": "2018-06-26T12:48:51.961838Z",
     "start_time": "2018-06-26T12:48:51.955572Z"
    }
   },
   "outputs": [],
   "source": [
    "df['Labels_Cluster'] = labels2"
   ]
  },
  {
   "cell_type": "code",
   "execution_count": 38,
   "metadata": {
    "ExecuteTime": {
     "end_time": "2018-06-26T13:15:01.050539Z",
     "start_time": "2018-06-26T13:15:01.047572Z"
    }
   },
   "outputs": [],
   "source": [
    "distance_data = pd.DataFrame(data=distance, columns=['Dist_Cluster_Revenue', 'Dist_Cluster_Category', 'Dist_Cluster_lenghtDiscount', 'Dist_Cluster_Quantity', 'Dist_Cluster_NormalPrice'])"
   ]
  },
  {
   "cell_type": "code",
   "execution_count": 40,
   "metadata": {
    "ExecuteTime": {
     "end_time": "2018-06-26T13:15:22.281242Z",
     "start_time": "2018-06-26T13:15:22.274290Z"
    }
   },
   "outputs": [
    {
     "data": {
      "text/plain": [
       "(284260, 5)"
      ]
     },
     "execution_count": 40,
     "metadata": {},
     "output_type": "execute_result"
    }
   ],
   "source": [
    "distance_data.shape"
   ]
  },
  {
   "cell_type": "code",
   "execution_count": 60,
   "metadata": {
    "ExecuteTime": {
     "end_time": "2018-06-26T13:49:31.437050Z",
     "start_time": "2018-06-26T13:49:31.430932Z"
    }
   },
   "outputs": [
    {
     "data": {
      "text/plain": [
       "(284260, 5)"
      ]
     },
     "execution_count": 60,
     "metadata": {},
     "output_type": "execute_result"
    }
   ],
   "source": [
    "distance.shape"
   ]
  },
  {
   "cell_type": "code",
   "execution_count": 61,
   "metadata": {
    "ExecuteTime": {
     "end_time": "2018-06-26T13:49:57.114847Z",
     "start_time": "2018-06-26T13:49:57.108538Z"
    }
   },
   "outputs": [
    {
     "data": {
      "text/plain": [
       "(284260, 38)"
      ]
     },
     "execution_count": 61,
     "metadata": {},
     "output_type": "execute_result"
    }
   ],
   "source": [
    "df.shape"
   ]
  },
  {
   "cell_type": "code",
   "execution_count": 73,
   "metadata": {
    "ExecuteTime": {
     "end_time": "2018-06-26T13:56:38.433345Z",
     "start_time": "2018-06-26T13:56:38.361167Z"
    }
   },
   "outputs": [],
   "source": [
    "data = pd.concat([df, distance_data], axis=1)"
   ]
  },
  {
   "cell_type": "code",
   "execution_count": 74,
   "metadata": {
    "ExecuteTime": {
     "end_time": "2018-06-26T13:56:38.902222Z",
     "start_time": "2018-06-26T13:56:38.895826Z"
    }
   },
   "outputs": [
    {
     "data": {
      "text/plain": [
       "(284260, 43)"
      ]
     },
     "execution_count": 74,
     "metadata": {},
     "output_type": "execute_result"
    }
   ],
   "source": [
    "data.shape"
   ]
  },
  {
   "cell_type": "code",
   "execution_count": 75,
   "metadata": {
    "ExecuteTime": {
     "end_time": "2018-06-26T13:56:39.473647Z",
     "start_time": "2018-06-26T13:56:39.466099Z"
    }
   },
   "outputs": [
    {
     "data": {
      "text/plain": [
       "array(['AbandonedCart', 'AcceptAD', 'AcceptDiscount', 'AddtoCart',\n",
       "       'BuyOrNot', 'Category', 'Churn', 'Clustering',\n",
       "       'CompetitionPressure', 'Country', 'CustomerID', 'Date',\n",
       "       'DaysLastOrder', 'Description', 'Display', 'DisplayInStore',\n",
       "       'Dist_Cluster_Category', 'Dist_Cluster_NormalPrice',\n",
       "       'Dist_Cluster_Quantity', 'Dist_Cluster_Revenue',\n",
       "       'Dist_Cluster_lenghtDiscount', 'Elasticity', 'InvoiceDate',\n",
       "       'InvoiceNo', 'KindOfSale', 'Labels_Cluster', 'LenghtDiscount',\n",
       "       'NormalPrice', 'One_Hot_Category', 'Payment', 'PromotionDays',\n",
       "       'Quantity', 'ReOrder', 'RePurchase', 'Revenue', 'Seasonality',\n",
       "       'StockCode', 'Time', 'TypeofProduct', 'TypeofPromotion',\n",
       "       'UnitPrice', 'Weather', 'day_of_week'], dtype=object)"
      ]
     },
     "execution_count": 75,
     "metadata": {},
     "output_type": "execute_result"
    }
   ],
   "source": [
    "data.columns.sort_values().values"
   ]
  },
  {
   "cell_type": "code",
   "execution_count": 76,
   "metadata": {
    "ExecuteTime": {
     "end_time": "2018-06-26T14:17:47.355641Z",
     "start_time": "2018-06-26T14:17:47.313381Z"
    }
   },
   "outputs": [],
   "source": [
    "conditions = [\n",
    "    (data['Labels_Cluster'] == 0),\n",
    "    (data['Labels_Cluster'] == 1),\n",
    "    (data['Labels_Cluster'] == 2),\n",
    "    (data['Labels_Cluster'] == 3),\n",
    "    (data['Labels_Cluster'] == 4)]\n",
    "    \n",
    "choices = ['Defensor', 'Shopper', 'Eventual', 'Regular', 'Prospect']\n",
    "data['Labels_Cluster_Name'] = np.select(conditions, choices, default='black')\n",
    "\n"
   ]
  },
  {
   "cell_type": "code",
   "execution_count": 77,
   "metadata": {
    "ExecuteTime": {
     "end_time": "2018-06-26T14:17:50.312972Z",
     "start_time": "2018-06-26T14:17:50.306967Z"
    }
   },
   "outputs": [
    {
     "data": {
      "text/plain": [
       "Index(['AbandonedCart', 'AcceptAD', 'AcceptDiscount', 'AddtoCart', 'BuyOrNot',\n",
       "       'Category', 'Churn', 'Clustering', 'CompetitionPressure', 'Country',\n",
       "       'CustomerID', 'Date', 'DaysLastOrder', 'Description', 'Display',\n",
       "       'DisplayInStore', 'Dist_Cluster_Category', 'Dist_Cluster_NormalPrice',\n",
       "       'Dist_Cluster_Quantity', 'Dist_Cluster_Revenue',\n",
       "       'Dist_Cluster_lenghtDiscount', 'Elasticity', 'InvoiceDate', 'InvoiceNo',\n",
       "       'KindOfSale', 'Labels_Cluster', 'Labels_Cluster_Name', 'LenghtDiscount',\n",
       "       'NormalPrice', 'One_Hot_Category', 'Payment', 'PromotionDays',\n",
       "       'Quantity', 'ReOrder', 'RePurchase', 'Revenue', 'Seasonality',\n",
       "       'StockCode', 'Time', 'TypeofProduct', 'TypeofPromotion', 'UnitPrice',\n",
       "       'Weather', 'day_of_week'],\n",
       "      dtype='object')"
      ]
     },
     "execution_count": 77,
     "metadata": {},
     "output_type": "execute_result"
    }
   ],
   "source": [
    "data.columns.sort_values()"
   ]
  },
  {
   "cell_type": "code",
   "execution_count": 78,
   "metadata": {
    "ExecuteTime": {
     "end_time": "2018-06-26T14:18:59.306117Z",
     "start_time": "2018-06-26T14:18:51.196478Z"
    }
   },
   "outputs": [],
   "source": [
    "data.to_csv('retail_july3.csv', index=False)"
   ]
  },
  {
   "cell_type": "code",
   "execution_count": null,
   "metadata": {},
   "outputs": [],
   "source": [
    " Prospect : é um cliente que pode estar interessado em comprar da sua empresa\n",
    "Shopper : são aqueles que visitam o seu negócio pelo menos uma vez\n",
    "Cliente eventual : são pessoas que adquiriram um ou mais produtos da sua empresa\n",
    "Cliente regular : são os que adquirem periodicamente seus produtos e serviços\n",
    "Defensor :"
   ]
  },
  {
   "cell_type": "code",
   "execution_count": 53,
   "metadata": {
    "ExecuteTime": {
     "end_time": "2018-06-26T13:46:44.802369Z",
     "start_time": "2018-06-26T13:46:44.207365Z"
    }
   },
   "outputs": [],
   "source": [
    "data.dropna(inplace=True)"
   ]
  },
  {
   "cell_type": "code",
   "execution_count": 54,
   "metadata": {
    "ExecuteTime": {
     "end_time": "2018-06-26T13:46:46.997321Z",
     "start_time": "2018-06-26T13:46:46.991408Z"
    }
   },
   "outputs": [
    {
     "data": {
      "text/plain": [
       "AbandonedCart                  0\n",
       "AcceptAD                       0\n",
       "AcceptDiscount                 0\n",
       "AddtoCart                      0\n",
       "BuyOrNot                       0\n",
       "Category                       0\n",
       "Churn                          0\n",
       "Clustering                     0\n",
       "CompetitionPressure            0\n",
       "Country                        0\n",
       "CustomerID                     0\n",
       "Date                           0\n",
       "DaysLastOrder                  0\n",
       "Description                    0\n",
       "Display                        0\n",
       "DisplayInStore                 0\n",
       "Dist_Cluster_Category          0\n",
       "Dist_Cluster_NormalPrice       0\n",
       "Dist_Cluster_Quantity          0\n",
       "Dist_Cluster_Revenue           0\n",
       "Dist_Cluster_lenghtDiscount    0\n",
       "Elasticity                     0\n",
       "InvoiceDate                    0\n",
       "InvoiceNo                      0\n",
       "KindOfSale                     0\n",
       "Labels_Cluster                 0\n",
       "LenghtDiscount                 0\n",
       "NormalPrice                    0\n",
       "One_Hot_Category               0\n",
       "Payment                        0\n",
       "PromotionDays                  0\n",
       "Quantity                       0\n",
       "ReOrder                        0\n",
       "RePurchase                     0\n",
       "Revenue                        0\n",
       "Seasonality                    0\n",
       "StockCode                      0\n",
       "Time                           0\n",
       "TypeofProduct                  0\n",
       "TypeofPromotion                0\n",
       "UnitPrice                      0\n",
       "Weather                        0\n",
       "day_of_week                    0\n",
       "Labels_Cluster_Name            0\n",
       "dtype: int64"
      ]
     },
     "execution_count": 54,
     "metadata": {},
     "output_type": "execute_result"
    }
   ],
   "source": [
    "data.isnull().sum()"
   ]
  },
  {
   "cell_type": "code",
   "execution_count": 55,
   "metadata": {
    "ExecuteTime": {
     "end_time": "2018-06-26T13:47:01.974788Z",
     "start_time": "2018-06-26T13:47:01.971416Z"
    }
   },
   "outputs": [
    {
     "data": {
      "text/plain": [
       "(0, 44)"
      ]
     },
     "execution_count": 55,
     "metadata": {},
     "output_type": "execute_result"
    }
   ],
   "source": [
    "data.shape"
   ]
  },
  {
   "cell_type": "code",
   "execution_count": 50,
   "metadata": {
    "ExecuteTime": {
     "end_time": "2018-06-26T13:43:29.000466Z",
     "start_time": "2018-06-26T13:43:17.164972Z"
    }
   },
   "outputs": [],
   "source": [
    "data.to_csv('retail_july3.csv', index=False)"
   ]
  },
  {
   "cell_type": "code",
   "execution_count": 8,
   "metadata": {
    "ExecuteTime": {
     "end_time": "2018-06-26T12:13:53.005982Z",
     "start_time": "2018-06-26T12:13:52.339920Z"
    }
   },
   "outputs": [],
   "source": [
    "from sklearn import preprocessing\n",
    "scaler = preprocessing.StandardScaler()\n"
   ]
  },
  {
   "cell_type": "code",
   "execution_count": 9,
   "metadata": {
    "ExecuteTime": {
     "end_time": "2018-06-26T12:13:53.147858Z",
     "start_time": "2018-06-26T12:13:53.007448Z"
    }
   },
   "outputs": [],
   "source": [
    "# Standard Scaler\n",
    "scaled_X = scaler.fit_transform(X)"
   ]
  },
  {
   "cell_type": "code",
   "execution_count": 10,
   "metadata": {
    "ExecuteTime": {
     "end_time": "2018-06-26T12:13:53.157334Z",
     "start_time": "2018-06-26T12:13:53.149914Z"
    }
   },
   "outputs": [
    {
     "data": {
      "text/plain": [
       "array([[-0.02545157, -1.34256712,  1.02213817, -0.03306256,  0.83178112],\n",
       "       [-0.0048317 ,  0.44616737,  1.1195026 , -0.03306256, -1.47389283],\n",
       "       [ 0.00195977,  0.44616737, -1.44556528, -0.02320742, -0.54652127],\n",
       "       ...,\n",
       "       [-0.06247733, -0.44819988,  0.71439534, -0.05770039,  0.89248359],\n",
       "       [-0.05736328,  1.34053461,  1.61742131, -0.05770039, -0.83487508],\n",
       "       [-0.06779595, -0.44819988, -0.06550947, -0.05770039, -1.26916871]])"
      ]
     },
     "execution_count": 10,
     "metadata": {},
     "output_type": "execute_result"
    }
   ],
   "source": [
    "scaled_X"
   ]
  },
  {
   "cell_type": "code",
   "execution_count": 11,
   "metadata": {
    "ExecuteTime": {
     "end_time": "2018-06-26T12:14:03.721875Z",
     "start_time": "2018-06-26T12:13:53.161173Z"
    }
   },
   "outputs": [],
   "source": [
    "kmeans = KMeans(n_clusters=5, random_state=0).fit(scaled_X)"
   ]
  },
  {
   "cell_type": "code",
   "execution_count": 12,
   "metadata": {
    "ExecuteTime": {
     "end_time": "2018-06-26T12:14:03.749903Z",
     "start_time": "2018-06-26T12:14:03.734432Z"
    }
   },
   "outputs": [
    {
     "name": "stdout",
     "output_type": "stream",
     "text": [
      "[[-1.41e-03  9.46e-01 -6.13e-01 -1.12e-03 -2.99e-03]\n",
      " [ 3.16e+02 -1.34e+00 -2.84e-01  3.66e+02  6.76e-01]\n",
      " [-3.16e+02  1.34e+00 -1.40e+00 -3.66e+02 -6.61e-01]\n",
      " [-3.76e-04 -1.03e-02  1.07e+00  1.32e-04  6.08e-03]\n",
      " [ 1.87e-03 -9.46e-01 -6.31e-01  9.85e-04 -4.05e-03]]\n"
     ]
    }
   ],
   "source": [
    "#Neste momento já temos os dados agrupados e vamos verificar os centroides gerados \n",
    "#através do atributo cluster_centers_.\n",
    "\n",
    "a = kmeans.cluster_centers_\n",
    "np.set_printoptions(precision=2)\n",
    "print(a)"
   ]
  },
  {
   "cell_type": "code",
   "execution_count": 13,
   "metadata": {
    "ExecuteTime": {
     "end_time": "2018-06-26T12:14:03.873190Z",
     "start_time": "2018-06-26T12:14:03.760661Z"
    }
   },
   "outputs": [
    {
     "data": {
      "text/plain": [
       "array([3, 3, 3, ..., 3, 3, 3], dtype=int32)"
      ]
     },
     "execution_count": 13,
     "metadata": {},
     "output_type": "execute_result"
    }
   ],
   "source": [
    "# predict new data to match clustering\n",
    "kmeans.predict(X)"
   ]
  },
  {
   "cell_type": "code",
   "execution_count": 14,
   "metadata": {
    "ExecuteTime": {
     "end_time": "2018-06-26T12:14:05.544217Z",
     "start_time": "2018-06-26T12:14:03.883379Z"
    }
   },
   "outputs": [
    {
     "data": {
      "text/plain": [
       "(284260, 5)"
      ]
     },
     "execution_count": 14,
     "metadata": {},
     "output_type": "execute_result"
    }
   ],
   "source": [
    "# O método fit_transform() executa o K-means para agrupar os dados e retorna uma tabela de distâncias.\n",
    "# A tabela de distâncias é criada de forma que em cada instância contém os valores de distância em relação a cada cluster.\n",
    "distance = kmeans.fit_transform(X)\n",
    "distance.shape"
   ]
  },
  {
   "cell_type": "code",
   "execution_count": 15,
   "metadata": {
    "ExecuteTime": {
     "end_time": "2018-06-26T12:14:05.601639Z",
     "start_time": "2018-06-26T12:14:05.549317Z"
    }
   },
   "outputs": [
    {
     "data": {
      "text/plain": [
       "array([[0.5 , 0.  , 0.8 , 0.5 , 0.74],\n",
       "       [0.5 , 0.67, 0.82, 0.5 , 0.07],\n",
       "       [0.5 , 0.67, 0.08, 0.5 , 0.34],\n",
       "       ...,\n",
       "       [0.5 , 0.33, 0.71, 0.5 , 0.76],\n",
       "       [0.5 , 1.  , 0.97, 0.5 , 0.26],\n",
       "       [0.5 , 0.33, 0.48, 0.5 , 0.13]])"
      ]
     },
     "execution_count": 15,
     "metadata": {},
     "output_type": "execute_result"
    }
   ],
   "source": [
    "min_max_scaler = preprocessing.MinMaxScaler()\n",
    "X_minmax = min_max_scaler.fit_transform(X)\n",
    "X_minmax"
   ]
  },
  {
   "cell_type": "code",
   "execution_count": 16,
   "metadata": {
    "ExecuteTime": {
     "end_time": "2018-06-26T12:14:12.823670Z",
     "start_time": "2018-06-26T12:14:05.607407Z"
    }
   },
   "outputs": [],
   "source": [
    "kmeans2 = KMeans(n_clusters=5, random_state=0).fit(X_minmax)\n",
    "# center of each clusters\n",
    "b = kmeans2.cluster_centers_\n",
    "# labels of each datapoint\n",
    "labels2 = kmeans2.labels_\n",
    "# distance between datapoint and cluster\n",
    "distance = kmeans2.fit_transform(X_minmax)\n"
   ]
  },
  {
   "cell_type": "code",
   "execution_count": 17,
   "metadata": {
    "ExecuteTime": {
     "end_time": "2018-06-26T12:14:12.834020Z",
     "start_time": "2018-06-26T12:14:12.830619Z"
    }
   },
   "outputs": [],
   "source": [
    "b = kmeans2.cluster_centers_\n"
   ]
  },
  {
   "cell_type": "code",
   "execution_count": 19,
   "metadata": {
    "ExecuteTime": {
     "end_time": "2018-06-26T12:16:55.149905Z",
     "start_time": "2018-06-26T12:16:55.144970Z"
    }
   },
   "outputs": [],
   "source": [
    "labels2 = kmeans2.labels_"
   ]
  },
  {
   "cell_type": "code",
   "execution_count": 20,
   "metadata": {
    "ExecuteTime": {
     "end_time": "2018-06-26T12:17:34.646806Z",
     "start_time": "2018-06-26T12:17:34.640629Z"
    }
   },
   "outputs": [],
   "source": [
    "labels = kmeans.labels_"
   ]
  },
  {
   "cell_type": "code",
   "execution_count": 28,
   "metadata": {
    "ExecuteTime": {
     "end_time": "2018-06-26T12:23:06.292369Z",
     "start_time": "2018-06-26T12:23:06.282542Z"
    }
   },
   "outputs": [],
   "source": [
    "labeled = pd.DataFrame({'labels_std': labels, 'labels_min_max': labels2})"
   ]
  },
  {
   "cell_type": "code",
   "execution_count": 29,
   "metadata": {
    "ExecuteTime": {
     "end_time": "2018-06-26T12:23:12.578622Z",
     "start_time": "2018-06-26T12:23:12.561165Z"
    }
   },
   "outputs": [
    {
     "data": {
      "text/html": [
       "<div>\n",
       "<style scoped>\n",
       "    .dataframe tbody tr th:only-of-type {\n",
       "        vertical-align: middle;\n",
       "    }\n",
       "\n",
       "    .dataframe tbody tr th {\n",
       "        vertical-align: top;\n",
       "    }\n",
       "\n",
       "    .dataframe thead th {\n",
       "        text-align: right;\n",
       "    }\n",
       "</style>\n",
       "<table border=\"1\" class=\"dataframe\">\n",
       "  <thead>\n",
       "    <tr style=\"text-align: right;\">\n",
       "      <th></th>\n",
       "      <th>labels_std</th>\n",
       "      <th>labels_min_max</th>\n",
       "    </tr>\n",
       "  </thead>\n",
       "  <tbody>\n",
       "    <tr>\n",
       "      <th>0</th>\n",
       "      <td>0</td>\n",
       "      <td>3</td>\n",
       "    </tr>\n",
       "    <tr>\n",
       "      <th>1</th>\n",
       "      <td>0</td>\n",
       "      <td>1</td>\n",
       "    </tr>\n",
       "    <tr>\n",
       "      <th>2</th>\n",
       "      <td>0</td>\n",
       "      <td>2</td>\n",
       "    </tr>\n",
       "    <tr>\n",
       "      <th>3</th>\n",
       "      <td>0</td>\n",
       "      <td>0</td>\n",
       "    </tr>\n",
       "    <tr>\n",
       "      <th>4</th>\n",
       "      <td>0</td>\n",
       "      <td>0</td>\n",
       "    </tr>\n",
       "    <tr>\n",
       "      <th>5</th>\n",
       "      <td>0</td>\n",
       "      <td>4</td>\n",
       "    </tr>\n",
       "    <tr>\n",
       "      <th>6</th>\n",
       "      <td>0</td>\n",
       "      <td>1</td>\n",
       "    </tr>\n",
       "    <tr>\n",
       "      <th>7</th>\n",
       "      <td>0</td>\n",
       "      <td>2</td>\n",
       "    </tr>\n",
       "    <tr>\n",
       "      <th>8</th>\n",
       "      <td>0</td>\n",
       "      <td>0</td>\n",
       "    </tr>\n",
       "    <tr>\n",
       "      <th>9</th>\n",
       "      <td>0</td>\n",
       "      <td>0</td>\n",
       "    </tr>\n",
       "    <tr>\n",
       "      <th>10</th>\n",
       "      <td>0</td>\n",
       "      <td>3</td>\n",
       "    </tr>\n",
       "    <tr>\n",
       "      <th>11</th>\n",
       "      <td>0</td>\n",
       "      <td>3</td>\n",
       "    </tr>\n",
       "    <tr>\n",
       "      <th>12</th>\n",
       "      <td>0</td>\n",
       "      <td>2</td>\n",
       "    </tr>\n",
       "    <tr>\n",
       "      <th>13</th>\n",
       "      <td>0</td>\n",
       "      <td>1</td>\n",
       "    </tr>\n",
       "    <tr>\n",
       "      <th>14</th>\n",
       "      <td>0</td>\n",
       "      <td>3</td>\n",
       "    </tr>\n",
       "    <tr>\n",
       "      <th>15</th>\n",
       "      <td>0</td>\n",
       "      <td>0</td>\n",
       "    </tr>\n",
       "    <tr>\n",
       "      <th>16</th>\n",
       "      <td>0</td>\n",
       "      <td>1</td>\n",
       "    </tr>\n",
       "    <tr>\n",
       "      <th>17</th>\n",
       "      <td>0</td>\n",
       "      <td>1</td>\n",
       "    </tr>\n",
       "    <tr>\n",
       "      <th>18</th>\n",
       "      <td>0</td>\n",
       "      <td>4</td>\n",
       "    </tr>\n",
       "    <tr>\n",
       "      <th>19</th>\n",
       "      <td>0</td>\n",
       "      <td>4</td>\n",
       "    </tr>\n",
       "    <tr>\n",
       "      <th>20</th>\n",
       "      <td>0</td>\n",
       "      <td>2</td>\n",
       "    </tr>\n",
       "    <tr>\n",
       "      <th>21</th>\n",
       "      <td>0</td>\n",
       "      <td>0</td>\n",
       "    </tr>\n",
       "    <tr>\n",
       "      <th>22</th>\n",
       "      <td>0</td>\n",
       "      <td>3</td>\n",
       "    </tr>\n",
       "    <tr>\n",
       "      <th>23</th>\n",
       "      <td>0</td>\n",
       "      <td>2</td>\n",
       "    </tr>\n",
       "    <tr>\n",
       "      <th>24</th>\n",
       "      <td>0</td>\n",
       "      <td>2</td>\n",
       "    </tr>\n",
       "    <tr>\n",
       "      <th>25</th>\n",
       "      <td>0</td>\n",
       "      <td>3</td>\n",
       "    </tr>\n",
       "    <tr>\n",
       "      <th>26</th>\n",
       "      <td>0</td>\n",
       "      <td>1</td>\n",
       "    </tr>\n",
       "    <tr>\n",
       "      <th>27</th>\n",
       "      <td>0</td>\n",
       "      <td>3</td>\n",
       "    </tr>\n",
       "    <tr>\n",
       "      <th>28</th>\n",
       "      <td>0</td>\n",
       "      <td>3</td>\n",
       "    </tr>\n",
       "    <tr>\n",
       "      <th>29</th>\n",
       "      <td>0</td>\n",
       "      <td>3</td>\n",
       "    </tr>\n",
       "    <tr>\n",
       "      <th>...</th>\n",
       "      <td>...</td>\n",
       "      <td>...</td>\n",
       "    </tr>\n",
       "    <tr>\n",
       "      <th>284230</th>\n",
       "      <td>0</td>\n",
       "      <td>1</td>\n",
       "    </tr>\n",
       "    <tr>\n",
       "      <th>284231</th>\n",
       "      <td>0</td>\n",
       "      <td>2</td>\n",
       "    </tr>\n",
       "    <tr>\n",
       "      <th>284232</th>\n",
       "      <td>0</td>\n",
       "      <td>3</td>\n",
       "    </tr>\n",
       "    <tr>\n",
       "      <th>284233</th>\n",
       "      <td>0</td>\n",
       "      <td>3</td>\n",
       "    </tr>\n",
       "    <tr>\n",
       "      <th>284234</th>\n",
       "      <td>0</td>\n",
       "      <td>3</td>\n",
       "    </tr>\n",
       "    <tr>\n",
       "      <th>284235</th>\n",
       "      <td>0</td>\n",
       "      <td>3</td>\n",
       "    </tr>\n",
       "    <tr>\n",
       "      <th>284236</th>\n",
       "      <td>0</td>\n",
       "      <td>4</td>\n",
       "    </tr>\n",
       "    <tr>\n",
       "      <th>284237</th>\n",
       "      <td>0</td>\n",
       "      <td>2</td>\n",
       "    </tr>\n",
       "    <tr>\n",
       "      <th>284238</th>\n",
       "      <td>0</td>\n",
       "      <td>0</td>\n",
       "    </tr>\n",
       "    <tr>\n",
       "      <th>284239</th>\n",
       "      <td>0</td>\n",
       "      <td>2</td>\n",
       "    </tr>\n",
       "    <tr>\n",
       "      <th>284240</th>\n",
       "      <td>0</td>\n",
       "      <td>4</td>\n",
       "    </tr>\n",
       "    <tr>\n",
       "      <th>284241</th>\n",
       "      <td>0</td>\n",
       "      <td>1</td>\n",
       "    </tr>\n",
       "    <tr>\n",
       "      <th>284242</th>\n",
       "      <td>0</td>\n",
       "      <td>2</td>\n",
       "    </tr>\n",
       "    <tr>\n",
       "      <th>284243</th>\n",
       "      <td>0</td>\n",
       "      <td>2</td>\n",
       "    </tr>\n",
       "    <tr>\n",
       "      <th>284244</th>\n",
       "      <td>0</td>\n",
       "      <td>1</td>\n",
       "    </tr>\n",
       "    <tr>\n",
       "      <th>284245</th>\n",
       "      <td>0</td>\n",
       "      <td>1</td>\n",
       "    </tr>\n",
       "    <tr>\n",
       "      <th>284246</th>\n",
       "      <td>0</td>\n",
       "      <td>1</td>\n",
       "    </tr>\n",
       "    <tr>\n",
       "      <th>284247</th>\n",
       "      <td>0</td>\n",
       "      <td>2</td>\n",
       "    </tr>\n",
       "    <tr>\n",
       "      <th>284248</th>\n",
       "      <td>0</td>\n",
       "      <td>2</td>\n",
       "    </tr>\n",
       "    <tr>\n",
       "      <th>284249</th>\n",
       "      <td>0</td>\n",
       "      <td>1</td>\n",
       "    </tr>\n",
       "    <tr>\n",
       "      <th>284250</th>\n",
       "      <td>0</td>\n",
       "      <td>0</td>\n",
       "    </tr>\n",
       "    <tr>\n",
       "      <th>284251</th>\n",
       "      <td>0</td>\n",
       "      <td>1</td>\n",
       "    </tr>\n",
       "    <tr>\n",
       "      <th>284252</th>\n",
       "      <td>0</td>\n",
       "      <td>1</td>\n",
       "    </tr>\n",
       "    <tr>\n",
       "      <th>284253</th>\n",
       "      <td>0</td>\n",
       "      <td>4</td>\n",
       "    </tr>\n",
       "    <tr>\n",
       "      <th>284254</th>\n",
       "      <td>0</td>\n",
       "      <td>0</td>\n",
       "    </tr>\n",
       "    <tr>\n",
       "      <th>284255</th>\n",
       "      <td>0</td>\n",
       "      <td>0</td>\n",
       "    </tr>\n",
       "    <tr>\n",
       "      <th>284256</th>\n",
       "      <td>0</td>\n",
       "      <td>2</td>\n",
       "    </tr>\n",
       "    <tr>\n",
       "      <th>284257</th>\n",
       "      <td>0</td>\n",
       "      <td>3</td>\n",
       "    </tr>\n",
       "    <tr>\n",
       "      <th>284258</th>\n",
       "      <td>0</td>\n",
       "      <td>1</td>\n",
       "    </tr>\n",
       "    <tr>\n",
       "      <th>284259</th>\n",
       "      <td>0</td>\n",
       "      <td>0</td>\n",
       "    </tr>\n",
       "  </tbody>\n",
       "</table>\n",
       "<p>284260 rows × 2 columns</p>\n",
       "</div>"
      ],
      "text/plain": [
       "        labels_std  labels_min_max\n",
       "0                0               3\n",
       "1                0               1\n",
       "2                0               2\n",
       "3                0               0\n",
       "4                0               0\n",
       "5                0               4\n",
       "6                0               1\n",
       "7                0               2\n",
       "8                0               0\n",
       "9                0               0\n",
       "10               0               3\n",
       "11               0               3\n",
       "12               0               2\n",
       "13               0               1\n",
       "14               0               3\n",
       "15               0               0\n",
       "16               0               1\n",
       "17               0               1\n",
       "18               0               4\n",
       "19               0               4\n",
       "20               0               2\n",
       "21               0               0\n",
       "22               0               3\n",
       "23               0               2\n",
       "24               0               2\n",
       "25               0               3\n",
       "26               0               1\n",
       "27               0               3\n",
       "28               0               3\n",
       "29               0               3\n",
       "...            ...             ...\n",
       "284230           0               1\n",
       "284231           0               2\n",
       "284232           0               3\n",
       "284233           0               3\n",
       "284234           0               3\n",
       "284235           0               3\n",
       "284236           0               4\n",
       "284237           0               2\n",
       "284238           0               0\n",
       "284239           0               2\n",
       "284240           0               4\n",
       "284241           0               1\n",
       "284242           0               2\n",
       "284243           0               2\n",
       "284244           0               1\n",
       "284245           0               1\n",
       "284246           0               1\n",
       "284247           0               2\n",
       "284248           0               2\n",
       "284249           0               1\n",
       "284250           0               0\n",
       "284251           0               1\n",
       "284252           0               1\n",
       "284253           0               4\n",
       "284254           0               0\n",
       "284255           0               0\n",
       "284256           0               2\n",
       "284257           0               3\n",
       "284258           0               1\n",
       "284259           0               0\n",
       "\n",
       "[284260 rows x 2 columns]"
      ]
     },
     "execution_count": 29,
     "metadata": {},
     "output_type": "execute_result"
    }
   ],
   "source": [
    "labeled"
   ]
  },
  {
   "cell_type": "code",
   "execution_count": 22,
   "metadata": {
    "ExecuteTime": {
     "end_time": "2018-06-26T12:19:17.831464Z",
     "start_time": "2018-06-26T12:19:17.819731Z"
    }
   },
   "outputs": [
    {
     "ename": "AttributeError",
     "evalue": "'numpy.ndarray' object has no attribute 'intersection'",
     "output_type": "error",
     "traceback": [
      "\u001b[0;31m---------------------------------------------------------------------------\u001b[0m",
      "\u001b[0;31mAttributeError\u001b[0m                            Traceback (most recent call last)",
      "\u001b[0;32m<ipython-input-22-2dfadbdb0a69>\u001b[0m in \u001b[0;36m<module>\u001b[0;34m()\u001b[0m\n\u001b[0;32m----> 1\u001b[0;31m \u001b[0mpd\u001b[0m\u001b[0;34m.\u001b[0m\u001b[0mSeries\u001b[0m\u001b[0;34m(\u001b[0m\u001b[0mlist\u001b[0m\u001b[0;34m(\u001b[0m\u001b[0;34m(\u001b[0m\u001b[0mlabels2\u001b[0m\u001b[0;34m)\u001b[0m\u001b[0;34m.\u001b[0m\u001b[0mintersection\u001b[0m\u001b[0;34m(\u001b[0m\u001b[0;34m(\u001b[0m\u001b[0mlabels\u001b[0m\u001b[0;34m)\u001b[0m\u001b[0;34m)\u001b[0m\u001b[0;34m)\u001b[0m\u001b[0;34m)\u001b[0m\u001b[0;34m\u001b[0m\u001b[0m\n\u001b[0m",
      "\u001b[0;31mAttributeError\u001b[0m: 'numpy.ndarray' object has no attribute 'intersection'"
     ]
    }
   ],
   "source": [
    "pd.Series(list((labels2).intersection((labels))))"
   ]
  },
  {
   "cell_type": "code",
   "execution_count": 23,
   "metadata": {
    "ExecuteTime": {
     "end_time": "2018-06-26T12:21:10.643118Z",
     "start_time": "2018-06-26T12:21:10.638432Z"
    }
   },
   "outputs": [],
   "source": [
    "def overlap_mbk(a, b):\n",
    "    a1=np.argsort(a)\n",
    "    b1=np.argsort(b)\n",
    "    # use searchsorted:\n",
    "    sort_left_a=a[a1].searchsorted(b[b1], side='left')\n",
    "    sort_right_a=a[a1].searchsorted(b[b1], side='right')\n",
    "    #\n",
    "    sort_left_b=b[b1].searchsorted(a[a1], side='left')\n",
    "    sort_right_b=b[b1].searchsorted(a[a1], side='right')\n",
    "\n",
    "\n",
    "    # # which values are in b but not in a?\n",
    "    # inds_b=(sort_right_a-sort_left_a == 0).nonzero()[0]\n",
    "    # # which values are in b but not in a?\n",
    "    # inds_a=(sort_right_b-sort_left_b == 0).nonzero()[0]\n",
    "\n",
    "    # which values of b are also in a?\n",
    "    inds_b=(sort_right_a-sort_left_a > 0).nonzero()[0]\n",
    "    # which values of a are also in b?\n",
    "    inds_a=(sort_right_b-sort_left_b > 0).nonzero()[0]\n",
    "\n",
    "    return a1[inds_a], b1[inds_b]"
   ]
  },
  {
   "cell_type": "code",
   "execution_count": 24,
   "metadata": {
    "ExecuteTime": {
     "end_time": "2018-06-26T12:21:30.392057Z",
     "start_time": "2018-06-26T12:21:30.338075Z"
    }
   },
   "outputs": [],
   "source": [
    "ind_a, ind_b = overlap_mbk(labels, labels2)"
   ]
  },
  {
   "cell_type": "code",
   "execution_count": 25,
   "metadata": {
    "ExecuteTime": {
     "end_time": "2018-06-26T12:21:37.330339Z",
     "start_time": "2018-06-26T12:21:37.322782Z"
    }
   },
   "outputs": [
    {
     "data": {
      "text/plain": [
       "array([     0, 189498, 189499, ...,  38120, 159240, 159239])"
      ]
     },
     "execution_count": 25,
     "metadata": {},
     "output_type": "execute_result"
    }
   ],
   "source": [
    "ind_a"
   ]
  },
  {
   "cell_type": "code",
   "execution_count": 26,
   "metadata": {
    "ExecuteTime": {
     "end_time": "2018-06-26T12:21:44.728783Z",
     "start_time": "2018-06-26T12:21:44.721581Z"
    }
   },
   "outputs": [
    {
     "data": {
      "text/plain": [
       "array([142129, 121783, 121781, ...,  54415, 160660,  52240])"
      ]
     },
     "execution_count": 26,
     "metadata": {},
     "output_type": "execute_result"
    }
   ],
   "source": [
    "ind_b"
   ]
  },
  {
   "cell_type": "code",
   "execution_count": null,
   "metadata": {},
   "outputs": [],
   "source": []
  }
 ],
 "metadata": {
  "kernelspec": {
   "display_name": "Python 3",
   "language": "python",
   "name": "python3"
  },
  "language_info": {
   "codemirror_mode": {
    "name": "ipython",
    "version": 3
   },
   "file_extension": ".py",
   "mimetype": "text/x-python",
   "name": "python",
   "nbconvert_exporter": "python",
   "pygments_lexer": "ipython3",
   "version": "3.6.4"
  }
 },
 "nbformat": 4,
 "nbformat_minor": 2
}
