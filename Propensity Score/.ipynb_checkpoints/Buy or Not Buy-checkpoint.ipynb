{
 "cells": [
  {
   "cell_type": "code",
   "execution_count": 3,
   "metadata": {
    "ExecuteTime": {
     "end_time": "2018-06-19T20:28:40.598171Z",
     "start_time": "2018-06-19T20:28:40.594273Z"
    }
   },
   "outputs": [],
   "source": [
    "import pandas as pd\n",
    "import numpy as np\n",
    "import os"
   ]
  },
  {
   "cell_type": "code",
   "execution_count": 4,
   "metadata": {
    "ExecuteTime": {
     "end_time": "2018-06-19T20:28:41.018898Z",
     "start_time": "2018-06-19T20:28:41.013394Z"
    }
   },
   "outputs": [],
   "source": [
    "os.chdir(\"/home/geanderson/Dropbox/APPS/data\")"
   ]
  },
  {
   "cell_type": "code",
   "execution_count": 5,
   "metadata": {
    "ExecuteTime": {
     "end_time": "2018-06-19T20:28:42.795546Z",
     "start_time": "2018-06-19T20:28:41.601616Z"
    }
   },
   "outputs": [],
   "source": [
    "\n",
    "\n",
    "\n",
    "df = pd.read_csv('retail_june.csv')"
   ]
  },
  {
   "cell_type": "code",
   "execution_count": 6,
   "metadata": {
    "ExecuteTime": {
     "end_time": "2018-06-19T20:28:48.101518Z",
     "start_time": "2018-06-19T20:28:48.081977Z"
    }
   },
   "outputs": [
    {
     "data": {
      "text/plain": [
       "Index(['Unnamed: 0', 'InvoiceNo', 'StockCode', 'Description', 'Quantity',\n",
       "       'InvoiceDate', 'UnitPrice', 'CustomerID', 'Country', 'AcceptDiscount',\n",
       "       'NormalPrice', 'LenghtDiscount', 'day_of_week', 'PromotionDays',\n",
       "       'Elasticity', 'KindOfSale', 'Display', 'DisplayInStore',\n",
       "       'TypeofPromotion', 'TypeofProduct', 'CompetitionPressure',\n",
       "       'Seasonality', 'Category', 'Time', 'Date', 'Payment', 'Revenue',\n",
       "       'Clustering', 'Weather'],\n",
       "      dtype='object')"
      ]
     },
     "execution_count": 6,
     "metadata": {},
     "output_type": "execute_result"
    }
   ],
   "source": [
    "df.columns"
   ]
  },
  {
   "cell_type": "code",
   "execution_count": 7,
   "metadata": {
    "ExecuteTime": {
     "end_time": "2018-06-19T20:28:49.114988Z",
     "start_time": "2018-06-19T20:28:49.108233Z"
    }
   },
   "outputs": [],
   "source": [
    "del df['Unnamed: 0']"
   ]
  },
  {
   "cell_type": "code",
   "execution_count": null,
   "metadata": {},
   "outputs": [],
   "source": [
    "del df['BuyOrNot']"
   ]
  },
  {
   "cell_type": "code",
   "execution_count": 22,
   "metadata": {
    "ExecuteTime": {
     "end_time": "2018-06-19T20:35:33.736945Z",
     "start_time": "2018-06-19T20:35:33.717807Z"
    }
   },
   "outputs": [],
   "source": [
    "df['BuyOrNot'] = np.random.randint(2, size=len(df))"
   ]
  },
  {
   "cell_type": "code",
   "execution_count": 23,
   "metadata": {
    "ExecuteTime": {
     "end_time": "2018-06-19T20:35:34.333452Z",
     "start_time": "2018-06-19T20:35:34.324090Z"
    }
   },
   "outputs": [
    {
     "data": {
      "text/plain": [
       "array([1, 0])"
      ]
     },
     "execution_count": 23,
     "metadata": {},
     "output_type": "execute_result"
    }
   ],
   "source": [
    "df.BuyOrNot.unique()"
   ]
  },
  {
   "cell_type": "code",
   "execution_count": 24,
   "metadata": {
    "ExecuteTime": {
     "end_time": "2018-06-19T20:36:24.162157Z",
     "start_time": "2018-06-19T20:36:24.157838Z"
    }
   },
   "outputs": [
    {
     "data": {
      "text/plain": [
       "array(['AcceptDiscount', 'BuyOrNot', 'Category', 'Clustering',\n",
       "       'CompetitionPressure', 'Country', 'CustomerID', 'Date',\n",
       "       'Description', 'Display', 'DisplayInStore', 'Elasticity',\n",
       "       'InvoiceDate', 'InvoiceNo', 'KindOfSale', 'LenghtDiscount',\n",
       "       'NormalPrice', 'Payment', 'PromotionDays', 'Quantity', 'Revenue',\n",
       "       'Seasonality', 'StockCode', 'Time', 'TypeofProduct',\n",
       "       'TypeofPromotion', 'UnitPrice', 'Weather', 'day_of_week'],\n",
       "      dtype=object)"
      ]
     },
     "execution_count": 24,
     "metadata": {},
     "output_type": "execute_result"
    }
   ],
   "source": [
    "df.columns.sort_values().values"
   ]
  },
  {
   "cell_type": "code",
   "execution_count": 25,
   "metadata": {
    "ExecuteTime": {
     "end_time": "2018-06-19T20:38:07.453927Z",
     "start_time": "2018-06-19T20:38:07.444844Z"
    }
   },
   "outputs": [],
   "source": [
    "df['Churn'] = np.random.randint(2, size=len(df))"
   ]
  },
  {
   "cell_type": "code",
   "execution_count": 26,
   "metadata": {
    "ExecuteTime": {
     "end_time": "2018-06-19T20:38:07.969260Z",
     "start_time": "2018-06-19T20:38:07.962249Z"
    }
   },
   "outputs": [
    {
     "data": {
      "text/plain": [
       "array(['AcceptDiscount', 'BuyOrNot', 'Category', 'Churn', 'Clustering',\n",
       "       'CompetitionPressure', 'Country', 'CustomerID', 'Date',\n",
       "       'Description', 'Display', 'DisplayInStore', 'Elasticity',\n",
       "       'InvoiceDate', 'InvoiceNo', 'KindOfSale', 'LenghtDiscount',\n",
       "       'NormalPrice', 'Payment', 'PromotionDays', 'Quantity', 'Revenue',\n",
       "       'Seasonality', 'StockCode', 'Time', 'TypeofProduct',\n",
       "       'TypeofPromotion', 'UnitPrice', 'Weather', 'day_of_week'],\n",
       "      dtype=object)"
      ]
     },
     "execution_count": 26,
     "metadata": {},
     "output_type": "execute_result"
    }
   ],
   "source": [
    "df.columns.sort_values().values"
   ]
  },
  {
   "cell_type": "code",
   "execution_count": 27,
   "metadata": {
    "ExecuteTime": {
     "end_time": "2018-06-19T20:38:59.409174Z",
     "start_time": "2018-06-19T20:38:59.382123Z"
    }
   },
   "outputs": [],
   "source": [
    "df['AcceptAD'] = np.random.randint(2, size=len(df))"
   ]
  },
  {
   "cell_type": "code",
   "execution_count": 28,
   "metadata": {
    "ExecuteTime": {
     "end_time": "2018-06-19T20:39:39.389450Z",
     "start_time": "2018-06-19T20:39:39.366201Z"
    }
   },
   "outputs": [],
   "source": [
    "data = pd.read_csv('top_products.csv')"
   ]
  },
  {
   "cell_type": "code",
   "execution_count": 30,
   "metadata": {
    "ExecuteTime": {
     "end_time": "2018-06-19T20:40:17.068421Z",
     "start_time": "2018-06-19T20:40:17.063104Z"
    }
   },
   "outputs": [
    {
     "data": {
      "text/plain": [
       "Index(['Top1', 'Top2', 'Top3', 'Top4', 'Preco', 'Quantidade', 'Promotion',\n",
       "       'Receita', 'Clima'],\n",
       "      dtype='object')"
      ]
     },
     "execution_count": 30,
     "metadata": {},
     "output_type": "execute_result"
    }
   ],
   "source": [
    "data.columns"
   ]
  },
  {
   "cell_type": "code",
   "execution_count": 31,
   "metadata": {
    "ExecuteTime": {
     "end_time": "2018-06-19T20:41:08.615270Z",
     "start_time": "2018-06-19T20:41:08.600344Z"
    }
   },
   "outputs": [],
   "source": [
    "next_purchase = pd.read_csv('next_purchase.csv')"
   ]
  },
  {
   "cell_type": "code",
   "execution_count": 32,
   "metadata": {
    "ExecuteTime": {
     "end_time": "2018-06-19T20:41:26.079698Z",
     "start_time": "2018-06-19T20:41:26.070235Z"
    }
   },
   "outputs": [
    {
     "data": {
      "text/plain": [
       "array(['abandonado', 'add_to_carrinho', 'comprado', 'data',\n",
       "       'dia_da_semana', 'dias_ordem_anterior', 'nome', 'orderid',\n",
       "       'produto_id', 'recompra'], dtype=object)"
      ]
     },
     "execution_count": 32,
     "metadata": {},
     "output_type": "execute_result"
    }
   ],
   "source": [
    "next_purchase.columns.sort_values().values"
   ]
  },
  {
   "cell_type": "markdown",
   "metadata": {},
   "source": [
    "To predict which prospects are ready to make their first purchase, a likelihood to buy model evaluates non-transaction customer data, such as how many times a customer clicked on an email or how the customer interacts with your website. These models can also take into account certain demographic data. For example, in consumer marketing they may compare gender, age, and zip code to other likely buyers. In business marketing, relevant demographics may include industry, job title, and geography.\n",
    "\n",
    "Here’s how it works: the models compare the pre-purchase behavior of prospective buyers to the pre-purchase behavior of thousands or millions of previous customers who ended up buying, comparing attributes like what emails they opened and what products they spent the most time looking at. The prospects that behave most like the previous buyers are tagged as “high-likelihood buyers” and marketers can then alter the way they interact with them to increase the likelihood of closing a sale. Once you’re armed with this data, you can prioritize your investment in each prospective customer.\n",
    "\n",
    "https://blog.hubspot.com/agency/predictive-analytics-buy"
   ]
  },
  {
   "cell_type": "code",
   "execution_count": null,
   "metadata": {},
   "outputs": [],
   "source": []
  }
 ],
 "metadata": {
  "kernelspec": {
   "display_name": "Python 3",
   "language": "python",
   "name": "python3"
  },
  "language_info": {
   "codemirror_mode": {
    "name": "ipython",
    "version": 3
   },
   "file_extension": ".py",
   "mimetype": "text/x-python",
   "name": "python",
   "nbconvert_exporter": "python",
   "pygments_lexer": "ipython3",
   "version": "3.6.5"
  }
 },
 "nbformat": 4,
 "nbformat_minor": 2
}
