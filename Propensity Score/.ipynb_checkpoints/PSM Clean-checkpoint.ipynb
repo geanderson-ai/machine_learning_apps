{
 "cells": [
  {
   "cell_type": "code",
   "execution_count": 1,
   "metadata": {
    "ExecuteTime": {
     "end_time": "2018-06-19T19:29:01.562669Z",
     "start_time": "2018-06-19T19:29:00.505295Z"
    }
   },
   "outputs": [],
   "source": [
    "import pandas as pd\n",
    "import numpy as np\n",
    "from pscore_match.pscore import PropensityScore\n",
    "from pscore_match.match import Match, whichMatched\n",
    "from scipy.stats import gaussian_kde"
   ]
  },
  {
   "cell_type": "code",
   "execution_count": 2,
   "metadata": {
    "ExecuteTime": {
     "end_time": "2018-06-19T19:29:02.751852Z",
     "start_time": "2018-06-19T19:29:01.564263Z"
    }
   },
   "outputs": [],
   "source": [
    "df = pd.read_csv('retail_june.csv')"
   ]
  },
  {
   "cell_type": "code",
   "execution_count": 3,
   "metadata": {
    "ExecuteTime": {
     "end_time": "2018-06-19T19:29:02.808588Z",
     "start_time": "2018-06-19T19:29:02.753022Z"
    }
   },
   "outputs": [],
   "source": [
    "X = df.drop(['AcceptDiscount'], axis=1)"
   ]
  },
  {
   "cell_type": "code",
   "execution_count": 4,
   "metadata": {
    "ExecuteTime": {
     "end_time": "2018-06-19T19:29:02.885201Z",
     "start_time": "2018-06-19T19:29:02.825856Z"
    }
   },
   "outputs": [],
   "source": [
    "X = X.select_dtypes(include=['int', 'float'])\n",
    "y = np.array(df[['AcceptDiscount']]).ravel()"
   ]
  },
  {
   "cell_type": "code",
   "execution_count": 5,
   "metadata": {
    "ExecuteTime": {
     "end_time": "2018-06-19T19:29:02.910435Z",
     "start_time": "2018-06-19T19:29:02.903409Z"
    }
   },
   "outputs": [],
   "source": [
    "treatment = y\n",
    "covariates = X"
   ]
  },
  {
   "cell_type": "code",
   "execution_count": 6,
   "metadata": {
    "ExecuteTime": {
     "end_time": "2018-06-19T19:29:03.619185Z",
     "start_time": "2018-06-19T19:29:02.921421Z"
    }
   },
   "outputs": [],
   "source": [
    "pscore = PropensityScore(treatment, covariates).compute()"
   ]
  },
  {
   "cell_type": "code",
   "execution_count": 7,
   "metadata": {
    "ExecuteTime": {
     "end_time": "2018-06-19T19:29:03.646571Z",
     "start_time": "2018-06-19T19:29:03.620522Z"
    }
   },
   "outputs": [],
   "source": [
    "pairs = Match(treatment, pscore)\n"
   ]
  },
  {
   "cell_type": "code",
   "execution_count": 8,
   "metadata": {
    "ExecuteTime": {
     "end_time": "2018-06-19T19:39:32.958343Z",
     "start_time": "2018-06-19T19:29:03.647779Z"
    }
   },
   "outputs": [
    {
     "name": "stderr",
     "output_type": "stream",
     "text": [
      "/home/geanderson/Dropbox/APPS/Propensity Score/pscore_match/match.py:135: FutureWarning:\n",
      "\n",
      "'argmin' is deprecated, use 'idxmin' instead. The behavior of 'argmin'\n",
      "will be corrected to return the positional minimum in the future.\n",
      "Use 'series.values.argmin' to get the position of the minimum now.\n",
      "\n"
     ]
    }
   ],
   "source": [
    "# Uma série contendo os indivíduos do grupo controle correspondeu ao grupo de tratamento.\n",
    "#pairs.create(method='many-to-one', many_method='knn', k=5, replace=True)\n",
    "pairs.create()"
   ]
  },
  {
   "cell_type": "code",
   "execution_count": 9,
   "metadata": {
    "ExecuteTime": {
     "end_time": "2018-06-19T19:39:33.250100Z",
     "start_time": "2018-06-19T19:39:32.963034Z"
    }
   },
   "outputs": [],
   "source": [
    "data_matched = whichMatched(pairs, pd.DataFrame({'pscore': pscore, 'treatment' :treatment}))"
   ]
  },
  {
   "cell_type": "code",
   "execution_count": 10,
   "metadata": {
    "ExecuteTime": {
     "end_time": "2018-06-19T19:39:33.256893Z",
     "start_time": "2018-06-19T19:39:33.251840Z"
    }
   },
   "outputs": [
    {
     "data": {
      "text/plain": [
       "(283972, 2)"
      ]
     },
     "execution_count": 10,
     "metadata": {},
     "output_type": "execute_result"
    }
   ],
   "source": [
    "data_matched.shape"
   ]
  },
  {
   "cell_type": "code",
   "execution_count": null,
   "metadata": {},
   "outputs": [],
   "source": []
  }
 ],
 "metadata": {
  "kernelspec": {
   "display_name": "Python 3",
   "language": "python",
   "name": "python3"
  },
  "language_info": {
   "codemirror_mode": {
    "name": "ipython",
    "version": 3
   },
   "file_extension": ".py",
   "mimetype": "text/x-python",
   "name": "python",
   "nbconvert_exporter": "python",
   "pygments_lexer": "ipython3",
   "version": "3.6.5"
  }
 },
 "nbformat": 4,
 "nbformat_minor": 2
}
