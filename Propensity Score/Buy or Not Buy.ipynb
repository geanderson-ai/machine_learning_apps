{
 "cells": [
  {
   "cell_type": "code",
   "execution_count": 1,
   "metadata": {
    "ExecuteTime": {
     "end_time": "2018-06-25T12:45:03.593330Z",
     "start_time": "2018-06-25T12:45:03.013176Z"
    }
   },
   "outputs": [],
   "source": [
    "import pandas as pd\n",
    "import numpy as np\n",
    "import os"
   ]
  },
  {
   "cell_type": "code",
   "execution_count": 2,
   "metadata": {
    "ExecuteTime": {
     "end_time": "2018-06-25T12:45:03.597037Z",
     "start_time": "2018-06-25T12:45:03.594774Z"
    }
   },
   "outputs": [],
   "source": [
    "os.chdir(\"/home/geanderson/Dropbox/APPS/data\")"
   ]
  },
  {
   "cell_type": "code",
   "execution_count": 3,
   "metadata": {
    "ExecuteTime": {
     "end_time": "2018-06-25T12:45:05.294107Z",
     "start_time": "2018-06-25T12:45:04.159465Z"
    }
   },
   "outputs": [],
   "source": [
    "\n",
    "\n",
    "\n",
    "df = pd.read_csv('retail_june.csv')"
   ]
  },
  {
   "cell_type": "code",
   "execution_count": 5,
   "metadata": {
    "ExecuteTime": {
     "end_time": "2018-06-25T12:45:30.780364Z",
     "start_time": "2018-06-25T12:45:30.771828Z"
    }
   },
   "outputs": [
    {
     "data": {
      "text/plain": [
       "array(['AcceptDiscount', 'Category', 'Clustering', 'CompetitionPressure',\n",
       "       'Country', 'CustomerID', 'Date', 'Description', 'Display',\n",
       "       'DisplayInStore', 'Elasticity', 'InvoiceDate', 'InvoiceNo',\n",
       "       'KindOfSale', 'LenghtDiscount', 'NormalPrice', 'Payment',\n",
       "       'PromotionDays', 'Quantity', 'Revenue', 'Seasonality', 'StockCode',\n",
       "       'Time', 'TypeofProduct', 'TypeofPromotion', 'UnitPrice',\n",
       "       'Unnamed: 0', 'Weather', 'day_of_week'], dtype=object)"
      ]
     },
     "execution_count": 5,
     "metadata": {},
     "output_type": "execute_result"
    }
   ],
   "source": [
    "df.columns.sort_values().values"
   ]
  },
  {
   "cell_type": "code",
   "execution_count": 7,
   "metadata": {
    "ExecuteTime": {
     "end_time": "2018-06-25T12:48:26.088058Z",
     "start_time": "2018-06-25T12:48:26.078907Z"
    }
   },
   "outputs": [],
   "source": [
    "del df['Unnamed: 0']"
   ]
  },
  {
   "cell_type": "code",
   "execution_count": 8,
   "metadata": {
    "ExecuteTime": {
     "end_time": "2018-06-25T12:48:26.649671Z",
     "start_time": "2018-06-25T12:48:26.640238Z"
    }
   },
   "outputs": [],
   "source": [
    "df['BuyOrNot'] = np.random.randint(2, size=len(df))"
   ]
  },
  {
   "cell_type": "code",
   "execution_count": 9,
   "metadata": {
    "ExecuteTime": {
     "end_time": "2018-06-25T12:48:27.209700Z",
     "start_time": "2018-06-25T12:48:27.200411Z"
    }
   },
   "outputs": [
    {
     "data": {
      "text/plain": [
       "array([0, 1])"
      ]
     },
     "execution_count": 9,
     "metadata": {},
     "output_type": "execute_result"
    }
   ],
   "source": [
    "df.BuyOrNot.unique()"
   ]
  },
  {
   "cell_type": "code",
   "execution_count": 10,
   "metadata": {
    "ExecuteTime": {
     "end_time": "2018-06-25T12:48:30.831793Z",
     "start_time": "2018-06-25T12:48:30.826552Z"
    }
   },
   "outputs": [],
   "source": [
    "df['Churn'] = np.random.randint(2, size=len(df))"
   ]
  },
  {
   "cell_type": "code",
   "execution_count": 11,
   "metadata": {
    "ExecuteTime": {
     "end_time": "2018-06-25T12:48:31.494078Z",
     "start_time": "2018-06-25T12:48:31.486319Z"
    }
   },
   "outputs": [
    {
     "data": {
      "text/plain": [
       "array(['AcceptDiscount', 'BuyOrNot', 'Category', 'Churn', 'Clustering',\n",
       "       'CompetitionPressure', 'Country', 'CustomerID', 'Date',\n",
       "       'Description', 'Display', 'DisplayInStore', 'Elasticity',\n",
       "       'InvoiceDate', 'InvoiceNo', 'KindOfSale', 'LenghtDiscount',\n",
       "       'NormalPrice', 'Payment', 'PromotionDays', 'Quantity', 'Revenue',\n",
       "       'Seasonality', 'StockCode', 'Time', 'TypeofProduct',\n",
       "       'TypeofPromotion', 'UnitPrice', 'Weather', 'day_of_week'],\n",
       "      dtype=object)"
      ]
     },
     "execution_count": 11,
     "metadata": {},
     "output_type": "execute_result"
    }
   ],
   "source": [
    "df.columns.sort_values().values"
   ]
  },
  {
   "cell_type": "code",
   "execution_count": 12,
   "metadata": {
    "ExecuteTime": {
     "end_time": "2018-06-25T12:48:53.671570Z",
     "start_time": "2018-06-25T12:48:53.659644Z"
    }
   },
   "outputs": [],
   "source": [
    "df['AcceptAD'] = np.random.randint(2, size=len(df))"
   ]
  },
  {
   "cell_type": "code",
   "execution_count": 13,
   "metadata": {
    "ExecuteTime": {
     "end_time": "2018-06-25T13:01:31.772014Z",
     "start_time": "2018-06-25T13:01:31.750819Z"
    }
   },
   "outputs": [],
   "source": [
    "df['AbandonedCart'] = np.random.randint(2, size=len(df))"
   ]
  },
  {
   "cell_type": "code",
   "execution_count": 14,
   "metadata": {
    "ExecuteTime": {
     "end_time": "2018-06-25T13:01:32.350909Z",
     "start_time": "2018-06-25T13:01:32.341488Z"
    }
   },
   "outputs": [],
   "source": [
    "df['AddtoCart'] = np.random.randint(2, size=len(df))"
   ]
  },
  {
   "cell_type": "code",
   "execution_count": 15,
   "metadata": {
    "ExecuteTime": {
     "end_time": "2018-06-25T13:01:32.974050Z",
     "start_time": "2018-06-25T13:01:32.964565Z"
    }
   },
   "outputs": [],
   "source": [
    "df['DaysLastOrder'] = np.random.randint(30, size=len(df))"
   ]
  },
  {
   "cell_type": "code",
   "execution_count": 16,
   "metadata": {
    "ExecuteTime": {
     "end_time": "2018-06-25T13:01:33.580337Z",
     "start_time": "2018-06-25T13:01:33.564834Z"
    }
   },
   "outputs": [],
   "source": [
    "df['RePurchase'] = np.random.randint(2, size=len(df))"
   ]
  },
  {
   "cell_type": "code",
   "execution_count": 17,
   "metadata": {
    "ExecuteTime": {
     "end_time": "2018-06-25T13:01:34.177850Z",
     "start_time": "2018-06-25T13:01:34.165793Z"
    }
   },
   "outputs": [],
   "source": [
    "df['ReOrder'] = np.random.randint(2, size=len(df))"
   ]
  },
  {
   "cell_type": "code",
   "execution_count": 18,
   "metadata": {
    "ExecuteTime": {
     "end_time": "2018-06-25T13:01:34.861448Z",
     "start_time": "2018-06-25T13:01:34.853422Z"
    }
   },
   "outputs": [
    {
     "data": {
      "text/plain": [
       "array(['AbandonedCart', 'AcceptAD', 'AcceptDiscount', 'AddtoCart',\n",
       "       'BuyOrNot', 'Category', 'Churn', 'Clustering',\n",
       "       'CompetitionPressure', 'Country', 'CustomerID', 'Date',\n",
       "       'DaysLastOrder', 'Description', 'Display', 'DisplayInStore',\n",
       "       'Elasticity', 'InvoiceDate', 'InvoiceNo', 'KindOfSale',\n",
       "       'LenghtDiscount', 'NormalPrice', 'Payment', 'PromotionDays',\n",
       "       'Quantity', 'ReOrder', 'RePurchase', 'Revenue', 'Seasonality',\n",
       "       'StockCode', 'Time', 'TypeofProduct', 'TypeofPromotion',\n",
       "       'UnitPrice', 'Weather', 'day_of_week'], dtype=object)"
      ]
     },
     "execution_count": 18,
     "metadata": {},
     "output_type": "execute_result"
    }
   ],
   "source": [
    "df.columns.sort_values().values"
   ]
  },
  {
   "cell_type": "code",
   "execution_count": 20,
   "metadata": {
    "ExecuteTime": {
     "end_time": "2018-06-25T13:03:58.346036Z",
     "start_time": "2018-06-25T13:03:52.646384Z"
    }
   },
   "outputs": [],
   "source": [
    "df.to_csv('retail_july.csv', index=False)"
   ]
  },
  {
   "cell_type": "code",
   "execution_count": 21,
   "metadata": {
    "ExecuteTime": {
     "end_time": "2018-06-25T13:04:19.197045Z",
     "start_time": "2018-06-25T13:04:18.088941Z"
    }
   },
   "outputs": [],
   "source": [
    "data = pd.read_csv('retail_july.csv')"
   ]
  },
  {
   "cell_type": "code",
   "execution_count": 22,
   "metadata": {
    "ExecuteTime": {
     "end_time": "2018-06-25T13:04:39.258578Z",
     "start_time": "2018-06-25T13:04:39.254327Z"
    }
   },
   "outputs": [
    {
     "data": {
      "text/plain": [
       "array(['AbandonedCart', 'AcceptAD', 'AcceptDiscount', 'AddtoCart',\n",
       "       'BuyOrNot', 'Category', 'Churn', 'Clustering',\n",
       "       'CompetitionPressure', 'Country', 'CustomerID', 'Date',\n",
       "       'DaysLastOrder', 'Description', 'Display', 'DisplayInStore',\n",
       "       'Elasticity', 'InvoiceDate', 'InvoiceNo', 'KindOfSale',\n",
       "       'LenghtDiscount', 'NormalPrice', 'Payment', 'PromotionDays',\n",
       "       'Quantity', 'ReOrder', 'RePurchase', 'Revenue', 'Seasonality',\n",
       "       'StockCode', 'Time', 'TypeofProduct', 'TypeofPromotion',\n",
       "       'UnitPrice', 'Weather', 'day_of_week'], dtype=object)"
      ]
     },
     "execution_count": 22,
     "metadata": {},
     "output_type": "execute_result"
    }
   ],
   "source": [
    "data.columns.sort_values().values"
   ]
  },
  {
   "cell_type": "code",
   "execution_count": 19,
   "metadata": {
    "ExecuteTime": {
     "end_time": "2018-06-25T13:01:48.342681Z",
     "start_time": "2018-06-25T13:01:48.339373Z"
    }
   },
   "outputs": [
    {
     "data": {
      "text/plain": [
       "(284260, 36)"
      ]
     },
     "execution_count": 19,
     "metadata": {},
     "output_type": "execute_result"
    }
   ],
   "source": [
    "df.shape"
   ]
  },
  {
   "cell_type": "markdown",
   "metadata": {},
   "source": [
    "To predict which prospects are ready to make their first purchase, a likelihood to buy model evaluates non-transaction customer data, such as how many times a customer clicked on an email or how the customer interacts with your website. These models can also take into account certain demographic data. For example, in consumer marketing they may compare gender, age, and zip code to other likely buyers. In business marketing, relevant demographics may include industry, job title, and geography.\n",
    "\n",
    "Here’s how it works: the models compare the pre-purchase behavior of prospective buyers to the pre-purchase behavior of thousands or millions of previous customers who ended up buying, comparing attributes like what emails they opened and what products they spent the most time looking at. The prospects that behave most like the previous buyers are tagged as “high-likelihood buyers” and marketers can then alter the way they interact with them to increase the likelihood of closing a sale. Once you’re armed with this data, you can prioritize your investment in each prospective customer.\n",
    "\n",
    "https://blog.hubspot.com/agency/predictive-analytics-buy"
   ]
  },
  {
   "cell_type": "code",
   "execution_count": null,
   "metadata": {},
   "outputs": [],
   "source": []
  }
 ],
 "metadata": {
  "kernelspec": {
   "display_name": "Python 3",
   "language": "python",
   "name": "python3"
  },
  "language_info": {
   "codemirror_mode": {
    "name": "ipython",
    "version": 3
   },
   "file_extension": ".py",
   "mimetype": "text/x-python",
   "name": "python",
   "nbconvert_exporter": "python",
   "pygments_lexer": "ipython3",
   "version": "3.6.4"
  }
 },
 "nbformat": 4,
 "nbformat_minor": 2
}
